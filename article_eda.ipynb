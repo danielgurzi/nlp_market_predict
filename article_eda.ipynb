{
 "cells": [
  {
   "cell_type": "code",
   "execution_count": 1,
   "metadata": {},
   "outputs": [],
   "source": [
    "import pandas as pd\n",
    "import numpy as np\n",
    "from datetime import date, timedelta, datetime\n",
    "from gensim.models import Word2Vec, KeyedVectors\n",
    "import string\n",
    "import pickle"
   ]
  },
  {
   "cell_type": "code",
   "execution_count": 2,
   "metadata": {},
   "outputs": [],
   "source": [
    "# import google's word2vec located: https://drive.google.com/file/d/0B7XkCwpI5KDYNlNUTTlSS21pQmM/edit?usp=sharing\n",
    "w2v_model = KeyedVectors.load_word2vec_format('../../Downloads/GoogleNews-vectors-negative300.bin', binary=True)  "
   ]
  },
  {
   "cell_type": "code",
   "execution_count": 3,
   "metadata": {},
   "outputs": [],
   "source": [
    "ticker = 'TSLA'"
   ]
  },
  {
   "cell_type": "code",
   "execution_count": 34,
   "metadata": {},
   "outputs": [],
   "source": [
    "df = pd.read_csv(f'./data/{ticker}.csv')"
   ]
  },
  {
   "cell_type": "code",
   "execution_count": 6,
   "metadata": {},
   "outputs": [],
   "source": [
    "def clean2vect(articles):\n",
    "    new_list = []\n",
    "    for a in articles:\n",
    "        new_list.append(a.replace(',','').translate(string.punctuation))\n",
    "    vects = []\n",
    "    for a in new_list:\n",
    "        vector = []\n",
    "        for word in a:\n",
    "            try:\n",
    "                vector.append(w2v_model[word])\n",
    "            except:\n",
    "                continue\n",
    "        vects.append(sum(vector)/len(vector))\n",
    "    return vects"
   ]
  },
  {
   "cell_type": "markdown",
   "metadata": {},
   "source": [
    "#### *NOTE Do we need to scale vectors?"
   ]
  },
  {
   "cell_type": "code",
   "execution_count": 35,
   "metadata": {},
   "outputs": [],
   "source": [
    "df['article'] = clean2vect(df['article'])\n",
    "df['comments'] = clean2vect(df['comments'])\n",
    "df['name'] = clean2vect(df['name'])\n",
    "\n",
    "df['comments_qty'] = [int(i.split(\" \")[0]) for i in df['comments_qty']]"
   ]
  },
  {
   "cell_type": "markdown",
   "metadata": {},
   "source": [
    "### Set Article DataFrame to Date Index to match with stock info"
   ]
  },
  {
   "cell_type": "code",
   "execution_count": 36,
   "metadata": {},
   "outputs": [
    {
     "name": "stderr",
     "output_type": "stream",
     "text": [
      "/Users/danielgurzi/opt/anaconda3/envs/dsi/lib/python3.7/site-packages/ipykernel_launcher.py:1: SettingWithCopyWarning: \n",
      "A value is trying to be set on a copy of a slice from a DataFrame\n",
      "\n",
      "See the caveats in the documentation: https://pandas.pydata.org/pandas-docs/stable/user_guide/indexing.html#returning-a-view-versus-a-copy\n",
      "  \"\"\"Entry point for launching an IPython kernel.\n"
     ]
    }
   ],
   "source": [
    "df['date'][0] = 'Sat, Jun. 27'"
   ]
  },
  {
   "cell_type": "code",
   "execution_count": 37,
   "metadata": {},
   "outputs": [
    {
     "data": {
      "text/plain": [
       "'Sat, Jun. 27'"
      ]
     },
     "execution_count": 37,
     "metadata": {},
     "output_type": "execute_result"
    }
   ],
   "source": [
    "df['date'][0]"
   ]
  },
  {
   "cell_type": "code",
   "execution_count": 27,
   "metadata": {},
   "outputs": [],
   "source": [
    "def art_date(df):\n",
    "    dates = []\n",
    "    for i in df.date:\n",
    "        if \"Today\" in i:\n",
    "            dates.append('2020-' + str(i.replace(i, date.today().strftime(\"%m-%d\"))))\n",
    "        elif \"Yesterday\" in i:\n",
    "            dates.append('2020-' + str(i.replace(i, (date.today() - timedelta(days = 1)).strftime(\"%m-%d\"))))\n",
    "        else:\n",
    "            dates.append('2020-' + str(datetime.strptime(i,'%a, %b. %d').strftime('%m-%d')))\n",
    "#         set dataframe to new dates columns as index\n",
    "    df.date = dates\n",
    "    df.date = pd.to_datetime(df['date'])\n",
    "    df.set_index('date', inplace=True)\n",
    "    df.sort_index(inplace=True)\n",
    "    return df"
   ]
  },
  {
   "cell_type": "code",
   "execution_count": 38,
   "metadata": {},
   "outputs": [],
   "source": [
    "df = art_date(df)"
   ]
  },
  {
   "cell_type": "code",
   "execution_count": 39,
   "metadata": {},
   "outputs": [
    {
     "data": {
      "text/html": [
       "<div>\n",
       "<style scoped>\n",
       "    .dataframe tbody tr th:only-of-type {\n",
       "        vertical-align: middle;\n",
       "    }\n",
       "\n",
       "    .dataframe tbody tr th {\n",
       "        vertical-align: top;\n",
       "    }\n",
       "\n",
       "    .dataframe thead th {\n",
       "        text-align: right;\n",
       "    }\n",
       "</style>\n",
       "<table border=\"1\" class=\"dataframe\">\n",
       "  <thead>\n",
       "    <tr style=\"text-align: right;\">\n",
       "      <th></th>\n",
       "      <th>href</th>\n",
       "      <th>name</th>\n",
       "      <th>comments_qty</th>\n",
       "      <th>article</th>\n",
       "      <th>comments</th>\n",
       "    </tr>\n",
       "    <tr>\n",
       "      <th>date</th>\n",
       "      <th></th>\n",
       "      <th></th>\n",
       "      <th></th>\n",
       "      <th></th>\n",
       "      <th></th>\n",
       "    </tr>\n",
       "  </thead>\n",
       "  <tbody>\n",
       "    <tr>\n",
       "      <th>2020-06-17</th>\n",
       "      <td>https://seekingalpha.com/article/4354413-tesla...</td>\n",
       "      <td>[-0.1251831, 0.0914804, 0.037174933, 0.1329040...</td>\n",
       "      <td>664</td>\n",
       "      <td>[-0.1630917, 0.114122, -0.003956805, 0.1314682...</td>\n",
       "      <td>[-0.117103055, 0.073532425, 0.010909792, 0.118...</td>\n",
       "    </tr>\n",
       "    <tr>\n",
       "      <th>2020-06-17</th>\n",
       "      <td>https://seekingalpha.com/article/4354297-why-t...</td>\n",
       "      <td>[-0.17534436, 0.10613291, 0.043029785, 0.11086...</td>\n",
       "      <td>643</td>\n",
       "      <td>[-0.1708225, 0.11009591, -0.004753023, 0.13495...</td>\n",
       "      <td>[-0.11660118, 0.07233955, 0.008581403, 0.11385...</td>\n",
       "    </tr>\n",
       "    <tr>\n",
       "      <th>2020-06-24</th>\n",
       "      <td>https://seekingalpha.com/article/4355293-tesla...</td>\n",
       "      <td>[-0.14043659, 0.12997104, 0.027858568, 0.09032...</td>\n",
       "      <td>526</td>\n",
       "      <td>[-0.17009178, 0.11974242, -0.007894693, 0.1358...</td>\n",
       "      <td>[-0.10882322, 0.070975244, 0.017579183, 0.1148...</td>\n",
       "    </tr>\n",
       "    <tr>\n",
       "      <th>2020-06-25</th>\n",
       "      <td>https://seekingalpha.com/article/4355755-tesla...</td>\n",
       "      <td>[-0.16154553, 0.0910957, 0.030680338, 0.131354...</td>\n",
       "      <td>233</td>\n",
       "      <td>[-0.17078684, 0.11602321, -0.004853303, 0.1307...</td>\n",
       "      <td>[-0.14052476062695726, 0.09001996759573175, 0....</td>\n",
       "    </tr>\n",
       "    <tr>\n",
       "      <th>2020-06-25</th>\n",
       "      <td>https://seekingalpha.com/article/4355742-quest...</td>\n",
       "      <td>[-0.16118637, 0.109375, 0.0148103675, 0.119847...</td>\n",
       "      <td>115</td>\n",
       "      <td>[-0.16996387, 0.11208412, -0.0021054663, 0.132...</td>\n",
       "      <td>[-0.14066736, 0.08786906, 0.0010140183, 0.1290...</td>\n",
       "    </tr>\n",
       "    <tr>\n",
       "      <th>2020-06-25</th>\n",
       "      <td>https://seekingalpha.com/article/4355640-tesla...</td>\n",
       "      <td>[-0.13049117, 0.1305417, 0.030739706, 0.091169...</td>\n",
       "      <td>481</td>\n",
       "      <td>[-0.16234204, 0.10811482, -0.005894934, 0.1314...</td>\n",
       "      <td>[-0.117103055, 0.073532425, 0.010909792, 0.118...</td>\n",
       "    </tr>\n",
       "    <tr>\n",
       "      <th>2020-06-27</th>\n",
       "      <td>https://seekingalpha.com/article/4355962-stock...</td>\n",
       "      <td>[-0.1537897, 0.08553932, 0.026596796, 0.140951...</td>\n",
       "      <td>92</td>\n",
       "      <td>[-0.15305372, 0.10253333, 0.011405529, 0.12647...</td>\n",
       "      <td>[-0.13690521, 0.08726364, 0.00089071837, 0.130...</td>\n",
       "    </tr>\n",
       "    <tr>\n",
       "      <th>2020-06-30</th>\n",
       "      <td>https://seekingalpha.com/article/4355897-tesla...</td>\n",
       "      <td>[-0.1558468, 0.09118097, 0.03433875, 0.1200589...</td>\n",
       "      <td>173</td>\n",
       "      <td>[-0.13890474, 0.0902732, 0.00077491574, 0.1269...</td>\n",
       "      <td>[-0.13601495, 0.08752184, 0.0019295756, 0.1264...</td>\n",
       "    </tr>\n",
       "    <tr>\n",
       "      <th>2020-06-30</th>\n",
       "      <td>https://seekingalpha.com/news/3586613-bezos-co...</td>\n",
       "      <td>[-0.15639596, 0.09136698, 0.012404732, 0.12507...</td>\n",
       "      <td>197</td>\n",
       "      <td>[-0.16426292, 0.100805014, 0.0024576695, 0.130...</td>\n",
       "      <td>[-0.100484215, 0.10232205, 0.003648546, 0.1076...</td>\n",
       "    </tr>\n",
       "  </tbody>\n",
       "</table>\n",
       "</div>"
      ],
      "text/plain": [
       "                                                         href  \\\n",
       "date                                                            \n",
       "2020-06-17  https://seekingalpha.com/article/4354413-tesla...   \n",
       "2020-06-17  https://seekingalpha.com/article/4354297-why-t...   \n",
       "2020-06-24  https://seekingalpha.com/article/4355293-tesla...   \n",
       "2020-06-25  https://seekingalpha.com/article/4355755-tesla...   \n",
       "2020-06-25  https://seekingalpha.com/article/4355742-quest...   \n",
       "2020-06-25  https://seekingalpha.com/article/4355640-tesla...   \n",
       "2020-06-27  https://seekingalpha.com/article/4355962-stock...   \n",
       "2020-06-30  https://seekingalpha.com/article/4355897-tesla...   \n",
       "2020-06-30  https://seekingalpha.com/news/3586613-bezos-co...   \n",
       "\n",
       "                                                         name  comments_qty  \\\n",
       "date                                                                          \n",
       "2020-06-17  [-0.1251831, 0.0914804, 0.037174933, 0.1329040...           664   \n",
       "2020-06-17  [-0.17534436, 0.10613291, 0.043029785, 0.11086...           643   \n",
       "2020-06-24  [-0.14043659, 0.12997104, 0.027858568, 0.09032...           526   \n",
       "2020-06-25  [-0.16154553, 0.0910957, 0.030680338, 0.131354...           233   \n",
       "2020-06-25  [-0.16118637, 0.109375, 0.0148103675, 0.119847...           115   \n",
       "2020-06-25  [-0.13049117, 0.1305417, 0.030739706, 0.091169...           481   \n",
       "2020-06-27  [-0.1537897, 0.08553932, 0.026596796, 0.140951...            92   \n",
       "2020-06-30  [-0.1558468, 0.09118097, 0.03433875, 0.1200589...           173   \n",
       "2020-06-30  [-0.15639596, 0.09136698, 0.012404732, 0.12507...           197   \n",
       "\n",
       "                                                      article  \\\n",
       "date                                                            \n",
       "2020-06-17  [-0.1630917, 0.114122, -0.003956805, 0.1314682...   \n",
       "2020-06-17  [-0.1708225, 0.11009591, -0.004753023, 0.13495...   \n",
       "2020-06-24  [-0.17009178, 0.11974242, -0.007894693, 0.1358...   \n",
       "2020-06-25  [-0.17078684, 0.11602321, -0.004853303, 0.1307...   \n",
       "2020-06-25  [-0.16996387, 0.11208412, -0.0021054663, 0.132...   \n",
       "2020-06-25  [-0.16234204, 0.10811482, -0.005894934, 0.1314...   \n",
       "2020-06-27  [-0.15305372, 0.10253333, 0.011405529, 0.12647...   \n",
       "2020-06-30  [-0.13890474, 0.0902732, 0.00077491574, 0.1269...   \n",
       "2020-06-30  [-0.16426292, 0.100805014, 0.0024576695, 0.130...   \n",
       "\n",
       "                                                     comments  \n",
       "date                                                           \n",
       "2020-06-17  [-0.117103055, 0.073532425, 0.010909792, 0.118...  \n",
       "2020-06-17  [-0.11660118, 0.07233955, 0.008581403, 0.11385...  \n",
       "2020-06-24  [-0.10882322, 0.070975244, 0.017579183, 0.1148...  \n",
       "2020-06-25  [-0.14052476062695726, 0.09001996759573175, 0....  \n",
       "2020-06-25  [-0.14066736, 0.08786906, 0.0010140183, 0.1290...  \n",
       "2020-06-25  [-0.117103055, 0.073532425, 0.010909792, 0.118...  \n",
       "2020-06-27  [-0.13690521, 0.08726364, 0.00089071837, 0.130...  \n",
       "2020-06-30  [-0.13601495, 0.08752184, 0.0019295756, 0.1264...  \n",
       "2020-06-30  [-0.100484215, 0.10232205, 0.003648546, 0.1076...  "
      ]
     },
     "execution_count": 39,
     "metadata": {},
     "output_type": "execute_result"
    }
   ],
   "source": [
    "df"
   ]
  },
  {
   "cell_type": "code",
   "execution_count": 40,
   "metadata": {},
   "outputs": [],
   "source": [
    "df2 = df.groupby(['date'])[['name','article','comments']].sum()\n",
    "df2[['comments_qty']] = df.groupby(['date'])[['comments_qty']].sum()"
   ]
  },
  {
   "cell_type": "code",
   "execution_count": 41,
   "metadata": {},
   "outputs": [
    {
     "data": {
      "text/html": [
       "<div>\n",
       "<style scoped>\n",
       "    .dataframe tbody tr th:only-of-type {\n",
       "        vertical-align: middle;\n",
       "    }\n",
       "\n",
       "    .dataframe tbody tr th {\n",
       "        vertical-align: top;\n",
       "    }\n",
       "\n",
       "    .dataframe thead th {\n",
       "        text-align: right;\n",
       "    }\n",
       "</style>\n",
       "<table border=\"1\" class=\"dataframe\">\n",
       "  <thead>\n",
       "    <tr style=\"text-align: right;\">\n",
       "      <th></th>\n",
       "      <th>name</th>\n",
       "      <th>article</th>\n",
       "      <th>comments</th>\n",
       "      <th>comments_qty</th>\n",
       "    </tr>\n",
       "    <tr>\n",
       "      <th>date</th>\n",
       "      <th></th>\n",
       "      <th></th>\n",
       "      <th></th>\n",
       "      <th></th>\n",
       "    </tr>\n",
       "  </thead>\n",
       "  <tbody>\n",
       "    <tr>\n",
       "      <th>2020-06-17</th>\n",
       "      <td>[-0.30052745, 0.1976133, 0.08020472, 0.2437703...</td>\n",
       "      <td>[-0.33391422, 0.22421792, -0.008709827, 0.2664...</td>\n",
       "      <td>[-0.23370424, 0.14587197, 0.019491196, 0.23246...</td>\n",
       "      <td>1307</td>\n",
       "    </tr>\n",
       "    <tr>\n",
       "      <th>2020-06-24</th>\n",
       "      <td>[-0.14043659, 0.12997104, 0.027858568, 0.09032...</td>\n",
       "      <td>[-0.17009178, 0.11974242, -0.007894693, 0.1358...</td>\n",
       "      <td>[-0.10882322, 0.070975244, 0.017579183, 0.1148...</td>\n",
       "      <td>526</td>\n",
       "    </tr>\n",
       "    <tr>\n",
       "      <th>2020-06-25</th>\n",
       "      <td>[-0.45322308, 0.3310124, 0.07623041, 0.3423712...</td>\n",
       "      <td>[-0.50309277, 0.33622217, -0.012853703, 0.3943...</td>\n",
       "      <td>[-0.39829517974774586, 0.2514214554826374, 0.0...</td>\n",
       "      <td>829</td>\n",
       "    </tr>\n",
       "    <tr>\n",
       "      <th>2020-06-27</th>\n",
       "      <td>[-0.1537897, 0.08553932, 0.026596796, 0.140951...</td>\n",
       "      <td>[-0.15305372, 0.10253333, 0.011405529, 0.12647...</td>\n",
       "      <td>[-0.13690521, 0.08726364, 0.00089071837, 0.130...</td>\n",
       "      <td>92</td>\n",
       "    </tr>\n",
       "    <tr>\n",
       "      <th>2020-06-30</th>\n",
       "      <td>[-0.31224275, 0.18254796, 0.046743482, 0.24513...</td>\n",
       "      <td>[-0.30316764, 0.19107822, 0.0032325853, 0.2572...</td>\n",
       "      <td>[-0.23649916, 0.1898439, 0.0055781216, 0.23408...</td>\n",
       "      <td>370</td>\n",
       "    </tr>\n",
       "  </tbody>\n",
       "</table>\n",
       "</div>"
      ],
      "text/plain": [
       "                                                         name  \\\n",
       "date                                                            \n",
       "2020-06-17  [-0.30052745, 0.1976133, 0.08020472, 0.2437703...   \n",
       "2020-06-24  [-0.14043659, 0.12997104, 0.027858568, 0.09032...   \n",
       "2020-06-25  [-0.45322308, 0.3310124, 0.07623041, 0.3423712...   \n",
       "2020-06-27  [-0.1537897, 0.08553932, 0.026596796, 0.140951...   \n",
       "2020-06-30  [-0.31224275, 0.18254796, 0.046743482, 0.24513...   \n",
       "\n",
       "                                                      article  \\\n",
       "date                                                            \n",
       "2020-06-17  [-0.33391422, 0.22421792, -0.008709827, 0.2664...   \n",
       "2020-06-24  [-0.17009178, 0.11974242, -0.007894693, 0.1358...   \n",
       "2020-06-25  [-0.50309277, 0.33622217, -0.012853703, 0.3943...   \n",
       "2020-06-27  [-0.15305372, 0.10253333, 0.011405529, 0.12647...   \n",
       "2020-06-30  [-0.30316764, 0.19107822, 0.0032325853, 0.2572...   \n",
       "\n",
       "                                                     comments  comments_qty  \n",
       "date                                                                         \n",
       "2020-06-17  [-0.23370424, 0.14587197, 0.019491196, 0.23246...          1307  \n",
       "2020-06-24  [-0.10882322, 0.070975244, 0.017579183, 0.1148...           526  \n",
       "2020-06-25  [-0.39829517974774586, 0.2514214554826374, 0.0...           829  \n",
       "2020-06-27  [-0.13690521, 0.08726364, 0.00089071837, 0.130...            92  \n",
       "2020-06-30  [-0.23649916, 0.1898439, 0.0055781216, 0.23408...           370  "
      ]
     },
     "execution_count": 41,
     "metadata": {},
     "output_type": "execute_result"
    }
   ],
   "source": [
    "df2"
   ]
  },
  {
   "cell_type": "code",
   "execution_count": 45,
   "metadata": {},
   "outputs": [],
   "source": [
    "dbfile = open('articlePickle3', 'ab') \n",
    "pickle.dump(df2, dbfile)                      \n",
    "dbfile.close() "
   ]
  }
 ],
 "metadata": {
  "kernelspec": {
   "display_name": "Python 3",
   "language": "python",
   "name": "python3"
  },
  "language_info": {
   "codemirror_mode": {
    "name": "ipython",
    "version": 3
   },
   "file_extension": ".py",
   "mimetype": "text/x-python",
   "name": "python",
   "nbconvert_exporter": "python",
   "pygments_lexer": "ipython3",
   "version": "3.7.7"
  }
 },
 "nbformat": 4,
 "nbformat_minor": 4
}
