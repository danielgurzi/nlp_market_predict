{
 "cells": [
  {
   "cell_type": "code",
   "execution_count": 74,
   "metadata": {},
   "outputs": [],
   "source": [
    "# imports\n",
    "import yfinance as yf\n",
    "import pandas as pd"
   ]
  },
  {
   "cell_type": "code",
   "execution_count": 87,
   "metadata": {},
   "outputs": [],
   "source": [
    "# Input the ticker symbols you want to take and save them into a data set this will be a list of dictionaries. \n",
    "\n",
    "tickers = ['TSLA','AAPL','MSFT']\n",
    "\n",
    "# take ticker list, output csvs with info\n",
    "def tick_hist(tickers):\n",
    "    for t in tickers:\n",
    "        df = pd.DataFrame(yf.Ticker(t).history())\n",
    "        df.columns = [i.lower() for i in df.columns]\n",
    "        df.to_csv(f'./data/{t}_history.csv')\n",
    "    return\n",
    "\n",
    "tick_hist(tickers)"
   ]
  },
  {
   "cell_type": "markdown",
   "metadata": {},
   "source": [
    "## Exploring yfinance"
   ]
  },
  {
   "cell_type": "code",
   "execution_count": 86,
   "metadata": {},
   "outputs": [
    {
     "data": {
      "text/plain": [
       "DatetimeIndex(['2020-06-02', '2020-06-03', '2020-06-04', '2020-06-05',\n",
       "               '2020-06-08', '2020-06-09', '2020-06-10', '2020-06-11',\n",
       "               '2020-06-12', '2020-06-15', '2020-06-16', '2020-06-17',\n",
       "               '2020-06-18', '2020-06-19', '2020-06-22', '2020-06-23',\n",
       "               '2020-06-24', '2020-06-25', '2020-06-26', '2020-06-29',\n",
       "               '2020-06-30', '2020-07-01'],\n",
       "              dtype='datetime64[ns]', name='Date', freq=None)"
      ]
     },
     "execution_count": 86,
     "metadata": {},
     "output_type": "execute_result"
    }
   ],
   "source": [
    "# Show daily stock data for a given period\n",
    "df = pd.DataFrame(yf.Ticker(tickers[0]).history())\n",
    "df.index()"
   ]
  },
  {
   "cell_type": "code",
   "execution_count": 88,
   "metadata": {},
   "outputs": [
    {
     "data": {
      "text/html": [
       "<div>\n",
       "<style scoped>\n",
       "    .dataframe tbody tr th:only-of-type {\n",
       "        vertical-align: middle;\n",
       "    }\n",
       "\n",
       "    .dataframe tbody tr th {\n",
       "        vertical-align: top;\n",
       "    }\n",
       "\n",
       "    .dataframe thead th {\n",
       "        text-align: right;\n",
       "    }\n",
       "</style>\n",
       "<table border=\"1\" class=\"dataframe\">\n",
       "  <thead>\n",
       "    <tr style=\"text-align: right;\">\n",
       "      <th></th>\n",
       "      <th>Open</th>\n",
       "      <th>High</th>\n",
       "      <th>Low</th>\n",
       "      <th>Close</th>\n",
       "      <th>Volume</th>\n",
       "      <th>Dividends</th>\n",
       "      <th>Stock Splits</th>\n",
       "    </tr>\n",
       "    <tr>\n",
       "      <th>Date</th>\n",
       "      <th></th>\n",
       "      <th></th>\n",
       "      <th></th>\n",
       "      <th></th>\n",
       "      <th></th>\n",
       "      <th></th>\n",
       "      <th></th>\n",
       "    </tr>\n",
       "  </thead>\n",
       "  <tbody>\n",
       "    <tr>\n",
       "      <th>2020-06-02</th>\n",
       "      <td>894.70</td>\n",
       "      <td>908.66</td>\n",
       "      <td>871.00</td>\n",
       "      <td>881.56</td>\n",
       "      <td>13565600</td>\n",
       "      <td>0</td>\n",
       "      <td>0</td>\n",
       "    </tr>\n",
       "    <tr>\n",
       "      <th>2020-06-03</th>\n",
       "      <td>888.12</td>\n",
       "      <td>897.94</td>\n",
       "      <td>880.10</td>\n",
       "      <td>882.96</td>\n",
       "      <td>7949500</td>\n",
       "      <td>0</td>\n",
       "      <td>0</td>\n",
       "    </tr>\n",
       "    <tr>\n",
       "      <th>2020-06-04</th>\n",
       "      <td>889.88</td>\n",
       "      <td>895.75</td>\n",
       "      <td>858.44</td>\n",
       "      <td>864.38</td>\n",
       "      <td>8887700</td>\n",
       "      <td>0</td>\n",
       "      <td>0</td>\n",
       "    </tr>\n",
       "    <tr>\n",
       "      <th>2020-06-05</th>\n",
       "      <td>877.84</td>\n",
       "      <td>886.52</td>\n",
       "      <td>866.20</td>\n",
       "      <td>885.66</td>\n",
       "      <td>7811900</td>\n",
       "      <td>0</td>\n",
       "      <td>0</td>\n",
       "    </tr>\n",
       "    <tr>\n",
       "      <th>2020-06-08</th>\n",
       "      <td>919.00</td>\n",
       "      <td>950.00</td>\n",
       "      <td>909.16</td>\n",
       "      <td>949.92</td>\n",
       "      <td>14174700</td>\n",
       "      <td>0</td>\n",
       "      <td>0</td>\n",
       "    </tr>\n",
       "  </tbody>\n",
       "</table>\n",
       "</div>"
      ],
      "text/plain": [
       "              Open    High     Low   Close    Volume  Dividends  Stock Splits\n",
       "Date                                                                         \n",
       "2020-06-02  894.70  908.66  871.00  881.56  13565600          0             0\n",
       "2020-06-03  888.12  897.94  880.10  882.96   7949500          0             0\n",
       "2020-06-04  889.88  895.75  858.44  864.38   8887700          0             0\n",
       "2020-06-05  877.84  886.52  866.20  885.66   7811900          0             0\n",
       "2020-06-08  919.00  950.00  909.16  949.92  14174700          0             0"
      ]
     },
     "execution_count": 88,
     "metadata": {},
     "output_type": "execute_result"
    }
   ],
   "source": [
    "df.head()"
   ]
  }
 ],
 "metadata": {
  "kernelspec": {
   "display_name": "Python 3",
   "language": "python",
   "name": "python3"
  },
  "language_info": {
   "codemirror_mode": {
    "name": "ipython",
    "version": 3
   },
   "file_extension": ".py",
   "mimetype": "text/x-python",
   "name": "python",
   "nbconvert_exporter": "python",
   "pygments_lexer": "ipython3",
   "version": "3.7.7"
  }
 },
 "nbformat": 4,
 "nbformat_minor": 4
}
