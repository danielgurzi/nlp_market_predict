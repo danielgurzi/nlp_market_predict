{
 "cells": [
  {
   "cell_type": "code",
   "execution_count": 1,
   "metadata": {},
   "outputs": [],
   "source": [
    "# Run our imports\n",
    "import pandas as pd\n",
    "import numpy as np\n",
    "import yfinance as yf\n",
    "from bs4 import BeautifulSoup\n",
    "from selenium import webdriver\n",
    "from selenium.webdriver.common.keys import Keys\n",
    "from selenium.webdriver.support.ui import WebDriverWait\n",
    "import re\n"
   ]
  },
  {
   "cell_type": "markdown",
   "metadata": {},
   "source": [
    "# INPUTS"
   ]
  },
  {
   "cell_type": "code",
   "execution_count": 2,
   "metadata": {},
   "outputs": [],
   "source": [
    "# select Ticker\n",
    "tickers = ['TSLA','AAPL','MSFT']\n",
    "ticker = 'TSLA'\n",
    "# Target web page:\n",
    "url = f'https://seekingalpha.com/symbol/{ticker}/news'\n",
    "# url = 'file:///Users/danielgurzi/Desktop/Tesla,%20Inc.%20(TSLA)%20Latest%20Stock%20News%20_%20Seeking%20Alpha.html'"
   ]
  },
  {
   "cell_type": "markdown",
   "metadata": {},
   "source": [
    "# DATA GATHERING"
   ]
  },
  {
   "cell_type": "code",
   "execution_count": 3,
   "metadata": {},
   "outputs": [],
   "source": [
    "# take ticker list, output csvs with stock price info\n",
    "def tick_hist(tickers):\n",
    "    for t in tickers:\n",
    "        df = pd.DataFrame(yf.Ticker(t).history())\n",
    "        df.to_csv(f'./data/{t}_history.csv', index=False)\n",
    "    return"
   ]
  },
  {
   "cell_type": "code",
   "execution_count": null,
   "metadata": {},
   "outputs": [],
   "source": [
    "tick_hist(tickers)"
   ]
  },
  {
   "cell_type": "markdown",
   "metadata": {},
   "source": [
    "Need to make a function for cathering article hrefs\n",
    "\n",
    "Needs to update the date of Today and Yesterday to proper dates\n",
    "\n"
   ]
  },
  {
   "cell_type": "code",
   "execution_count": 4,
   "metadata": {},
   "outputs": [],
   "source": [
    "# this code is used to get the article lists from the www.seekingalpha.com/{ticker}/news\n",
    "driver = webdriver.Chrome('./chromedriver')\n",
    "driver.get(url)\n",
    "driver.implicitly_wait(100)\n",
    "\n"
   ]
  },
  {
   "cell_type": "code",
   "execution_count": 6,
   "metadata": {},
   "outputs": [],
   "source": [
    "# set the driver to grab the links\n",
    "links = driver.find_elements_by_class_name(\"_1-r1S\")"
   ]
  },
  {
   "cell_type": "code",
   "execution_count": 7,
   "metadata": {},
   "outputs": [],
   "source": [
    "# This dataframe will organize the links to the articles from the ticker\n",
    "df = pd.DataFrame()\n",
    "df['date'] = [i.find_element_by_class_name(\"VbEwc\").text for i in links]\n",
    "df['name'] = [i.find_element_by_tag_name(\"h3\").text for i in links]\n",
    "df['href'] = [i.find_elements_by_tag_name('a')[0].get_property('href') for i in links]\n",
    "# df['comments_qty'] = [i.find_element_by_class_name('_3zL6Q').text if i.find_element_by_class_name('_3zL6Q').text else '0 comments' for i in links]"
   ]
  },
  {
   "cell_type": "code",
   "execution_count": 8,
   "metadata": {},
   "outputs": [],
   "source": [
    "# this will end the browser session\n",
    "driver.close()\n"
   ]
  },
  {
   "cell_type": "code",
   "execution_count": 9,
   "metadata": {},
   "outputs": [
    {
     "data": {
      "text/html": [
       "<div>\n",
       "<style scoped>\n",
       "    .dataframe tbody tr th:only-of-type {\n",
       "        vertical-align: middle;\n",
       "    }\n",
       "\n",
       "    .dataframe tbody tr th {\n",
       "        vertical-align: top;\n",
       "    }\n",
       "\n",
       "    .dataframe thead th {\n",
       "        text-align: right;\n",
       "    }\n",
       "</style>\n",
       "<table border=\"1\" class=\"dataframe\">\n",
       "  <thead>\n",
       "    <tr style=\"text-align: right;\">\n",
       "      <th></th>\n",
       "      <th>date</th>\n",
       "      <th>name</th>\n",
       "      <th>href</th>\n",
       "    </tr>\n",
       "  </thead>\n",
       "  <tbody>\n",
       "    <tr>\n",
       "      <th>0</th>\n",
       "      <td>Today, 3:48 PM</td>\n",
       "      <td>Sunrun deal for Vivint to top Tesla as rooftop...</td>\n",
       "      <td>https://seekingalpha.com/news/3589237-sunrun-d...</td>\n",
       "    </tr>\n",
       "    <tr>\n",
       "      <th>1</th>\n",
       "      <td>Today, 10:21 AM</td>\n",
       "      <td>Tesla bears capitulate for the near term</td>\n",
       "      <td>https://seekingalpha.com/news/3589120-tesla-be...</td>\n",
       "    </tr>\n",
       "    <tr>\n",
       "      <th>2</th>\n",
       "      <td>Yesterday, 1:16 PM</td>\n",
       "      <td>Tesla market cap crown brings focus on valuation</td>\n",
       "      <td>https://seekingalpha.com/news/3588818-tesla-ma...</td>\n",
       "    </tr>\n",
       "    <tr>\n",
       "      <th>3</th>\n",
       "      <td>Yesterday, 8:41 AM</td>\n",
       "      <td>Tesla +6% after JMP hikes price target to $1,500</td>\n",
       "      <td>https://seekingalpha.com/news/3588673-teslaplu...</td>\n",
       "    </tr>\n",
       "    <tr>\n",
       "      <th>4</th>\n",
       "      <td>Yesterday, 3:26 AM</td>\n",
       "      <td>Musk teases Tesla shortsellers with 'Short Sho...</td>\n",
       "      <td>https://seekingalpha.com/news/3588579-musk-tea...</td>\n",
       "    </tr>\n",
       "    <tr>\n",
       "      <th>...</th>\n",
       "      <td>...</td>\n",
       "      <td>...</td>\n",
       "      <td>...</td>\n",
       "    </tr>\n",
       "    <tr>\n",
       "      <th>315</th>\n",
       "      <td>Mon, Nov. 25, 2019</td>\n",
       "      <td>Cybertruck orders trigger Tesla rebound</td>\n",
       "      <td>https://seekingalpha.com/news/3521690-cybertru...</td>\n",
       "    </tr>\n",
       "    <tr>\n",
       "      <th>316</th>\n",
       "      <td>Sun, Nov. 24, 2019</td>\n",
       "      <td>146K orders placed for Tesla Cybertruck</td>\n",
       "      <td>https://seekingalpha.com/news/3521667-146k-ord...</td>\n",
       "    </tr>\n",
       "    <tr>\n",
       "      <th>317</th>\n",
       "      <td>Fri, Nov. 22, 2019</td>\n",
       "      <td>Funko and Modine Manufacturing among Consumer ...</td>\n",
       "      <td>https://seekingalpha.com/news/3521591-funko-an...</td>\n",
       "    </tr>\n",
       "    <tr>\n",
       "      <th>318</th>\n",
       "      <td>Fri, Nov. 22, 2019</td>\n",
       "      <td>Tesla -4% after Cybertruck debut</td>\n",
       "      <td>https://seekingalpha.com/news/3521515-teslamin...</td>\n",
       "    </tr>\n",
       "    <tr>\n",
       "      <th>319</th>\n",
       "      <td>Fri, Nov. 22, 2019</td>\n",
       "      <td>Tesla Cybertruck starts at $39,900</td>\n",
       "      <td>https://seekingalpha.com/news/3521440-tesla-cy...</td>\n",
       "    </tr>\n",
       "  </tbody>\n",
       "</table>\n",
       "<p>320 rows × 3 columns</p>\n",
       "</div>"
      ],
      "text/plain": [
       "                   date                                               name  \\\n",
       "0        Today, 3:48 PM  Sunrun deal for Vivint to top Tesla as rooftop...   \n",
       "1       Today, 10:21 AM           Tesla bears capitulate for the near term   \n",
       "2    Yesterday, 1:16 PM   Tesla market cap crown brings focus on valuation   \n",
       "3    Yesterday, 8:41 AM   Tesla +6% after JMP hikes price target to $1,500   \n",
       "4    Yesterday, 3:26 AM  Musk teases Tesla shortsellers with 'Short Sho...   \n",
       "..                  ...                                                ...   \n",
       "315  Mon, Nov. 25, 2019            Cybertruck orders trigger Tesla rebound   \n",
       "316  Sun, Nov. 24, 2019            146K orders placed for Tesla Cybertruck   \n",
       "317  Fri, Nov. 22, 2019  Funko and Modine Manufacturing among Consumer ...   \n",
       "318  Fri, Nov. 22, 2019                   Tesla -4% after Cybertruck debut   \n",
       "319  Fri, Nov. 22, 2019                 Tesla Cybertruck starts at $39,900   \n",
       "\n",
       "                                                  href  \n",
       "0    https://seekingalpha.com/news/3589237-sunrun-d...  \n",
       "1    https://seekingalpha.com/news/3589120-tesla-be...  \n",
       "2    https://seekingalpha.com/news/3588818-tesla-ma...  \n",
       "3    https://seekingalpha.com/news/3588673-teslaplu...  \n",
       "4    https://seekingalpha.com/news/3588579-musk-tea...  \n",
       "..                                                 ...  \n",
       "315  https://seekingalpha.com/news/3521690-cybertru...  \n",
       "316  https://seekingalpha.com/news/3521667-146k-ord...  \n",
       "317  https://seekingalpha.com/news/3521591-funko-an...  \n",
       "318  https://seekingalpha.com/news/3521515-teslamin...  \n",
       "319  https://seekingalpha.com/news/3521440-tesla-cy...  \n",
       "\n",
       "[320 rows x 3 columns]"
      ]
     },
     "execution_count": 9,
     "metadata": {},
     "output_type": "execute_result"
    }
   ],
   "source": [
    "df"
   ]
  },
  {
   "cell_type": "code",
   "execution_count": null,
   "metadata": {},
   "outputs": [],
   "source": [
    "# save info to dataframe\n",
    "df.to_csv(f'./data/{ticker}_link_history.csv')\n"
   ]
  },
  {
   "cell_type": "code",
   "execution_count": 10,
   "metadata": {},
   "outputs": [
    {
     "data": {
      "text/html": [
       "<div>\n",
       "<style scoped>\n",
       "    .dataframe tbody tr th:only-of-type {\n",
       "        vertical-align: middle;\n",
       "    }\n",
       "\n",
       "    .dataframe tbody tr th {\n",
       "        vertical-align: top;\n",
       "    }\n",
       "\n",
       "    .dataframe thead th {\n",
       "        text-align: right;\n",
       "    }\n",
       "</style>\n",
       "<table border=\"1\" class=\"dataframe\">\n",
       "  <thead>\n",
       "    <tr style=\"text-align: right;\">\n",
       "      <th></th>\n",
       "      <th>date</th>\n",
       "      <th>name</th>\n",
       "      <th>href</th>\n",
       "    </tr>\n",
       "  </thead>\n",
       "  <tbody>\n",
       "    <tr>\n",
       "      <th>0</th>\n",
       "      <td>Today, 3:48 PM</td>\n",
       "      <td>Sunrun deal for Vivint to top Tesla as rooftop...</td>\n",
       "      <td>https://seekingalpha.com/news/3589237-sunrun-d...</td>\n",
       "    </tr>\n",
       "    <tr>\n",
       "      <th>1</th>\n",
       "      <td>Today, 10:21 AM</td>\n",
       "      <td>Tesla bears capitulate for the near term</td>\n",
       "      <td>https://seekingalpha.com/news/3589120-tesla-be...</td>\n",
       "    </tr>\n",
       "    <tr>\n",
       "      <th>2</th>\n",
       "      <td>Yesterday, 1:16 PM</td>\n",
       "      <td>Tesla market cap crown brings focus on valuation</td>\n",
       "      <td>https://seekingalpha.com/news/3588818-tesla-ma...</td>\n",
       "    </tr>\n",
       "    <tr>\n",
       "      <th>3</th>\n",
       "      <td>Yesterday, 8:41 AM</td>\n",
       "      <td>Tesla 6 after JMP hikes price target to $1500</td>\n",
       "      <td>https://seekingalpha.com/news/3588673-teslaplu...</td>\n",
       "    </tr>\n",
       "    <tr>\n",
       "      <th>4</th>\n",
       "      <td>Yesterday, 3:26 AM</td>\n",
       "      <td>Musk teases Tesla shortsellers with Short Shorts</td>\n",
       "      <td>https://seekingalpha.com/news/3588579-musk-tea...</td>\n",
       "    </tr>\n",
       "  </tbody>\n",
       "</table>\n",
       "</div>"
      ],
      "text/plain": [
       "                 date                                               name  \\\n",
       "0      Today, 3:48 PM  Sunrun deal for Vivint to top Tesla as rooftop...   \n",
       "1     Today, 10:21 AM           Tesla bears capitulate for the near term   \n",
       "2  Yesterday, 1:16 PM   Tesla market cap crown brings focus on valuation   \n",
       "3  Yesterday, 8:41 AM      Tesla 6 after JMP hikes price target to $1500   \n",
       "4  Yesterday, 3:26 AM   Musk teases Tesla shortsellers with Short Shorts   \n",
       "\n",
       "                                                href  \n",
       "0  https://seekingalpha.com/news/3589237-sunrun-d...  \n",
       "1  https://seekingalpha.com/news/3589120-tesla-be...  \n",
       "2  https://seekingalpha.com/news/3588818-tesla-ma...  \n",
       "3  https://seekingalpha.com/news/3588673-teslaplu...  \n",
       "4  https://seekingalpha.com/news/3588579-musk-tea...  "
      ]
     },
     "execution_count": 10,
     "metadata": {},
     "output_type": "execute_result"
    }
   ],
   "source": [
    "# Clean it up to take out special characters from the article name\n",
    "# df['name'] = [i.replace('/', ' ')]\n",
    "df['name'] = [re.sub('[^A-Za-z0-9 $]+', '', i) for i in df['name']]\n",
    "df.head()"
   ]
  },
  {
   "cell_type": "markdown",
   "metadata": {},
   "source": [
    "### Now we have a list of URLS from the seeking alpha ticker page"
   ]
  },
  {
   "cell_type": "code",
   "execution_count": null,
   "metadata": {},
   "outputs": [],
   "source": [
    "for r,l in df.iterrows():\n",
    "    print(l[1])"
   ]
  },
  {
   "cell_type": "code",
   "execution_count": null,
   "metadata": {},
   "outputs": [],
   "source": [
    "# open the selenium driver to get the actual article link and save the page information as a file.\n",
    "driver = webdriver.Chrome('./chromedriver')\n",
    "for r,c in df.iterrows():\n",
    "    driver.get(c[2])\n",
    "    with open(f\"./data/{ticker}_history/{c[1]}\", \"w\") as f:\n",
    "        f.write(driver.page_source)\n",
    "driver.close()\n",
    "\n"
   ]
  },
  {
   "cell_type": "code",
   "execution_count": 11,
   "metadata": {},
   "outputs": [],
   "source": [
    "# this function will take the article links dataframe and go get the articles themselves \n",
    "# and save the information to a new dataframe\n",
    "\n",
    "def qurom(df):\n",
    "    #start a list of the articles\n",
    "    art_list = []\n",
    "    # grap the comments while I'm here\n",
    "    comments = []\n",
    "    # for loop to go through each of the links and grab the articles\n",
    "    for l in df['href']:\n",
    "        driver.get(l)\n",
    "        driver.implicitly_wait(1)\n",
    "        try: \n",
    "            article = driver.find_element_by_id(\"a-cont\")\n",
    "        except:\n",
    "            article = 'error'\n",
    "        # The Article has comments, which for now I am going to take out. This code will separate the article into two sections with \"Like this article\" as the separator\n",
    "        sep = 'Recommended for you:'\n",
    "        try: \n",
    "            art_list.append(article.text.split(sep,1)[0])\n",
    "        except:\n",
    "            art_list.append('error')\n",
    "        try: \n",
    "            comments.append(article.text.split(sep,1)[1])\n",
    "        except:\n",
    "            comments.append('error')\n",
    "    df['article'] = art_list\n",
    "    df['comments'] = comments\n",
    "    return df"
   ]
  },
  {
   "cell_type": "code",
   "execution_count": 12,
   "metadata": {},
   "outputs": [],
   "source": [
    "# Open the Selenium Driver and run the qurom function. \n",
    "driver = webdriver.Chrome('./chromedriver')\n",
    "\n",
    "df2 = qurom(df)\n",
    "# df.to_csv(f'./data/{ticker}.csv', index = False)\n",
    "\n",
    "# close the browser\n"
   ]
  },
  {
   "cell_type": "code",
   "execution_count": 19,
   "metadata": {},
   "outputs": [
    {
     "ename": "InvalidSessionIdException",
     "evalue": "Message: invalid session id\n",
     "output_type": "error",
     "traceback": [
      "\u001b[0;31m---------------------------------------------------------------------------\u001b[0m",
      "\u001b[0;31mInvalidSessionIdException\u001b[0m                 Traceback (most recent call last)",
      "\u001b[0;32m<ipython-input-19-211b01410271>\u001b[0m in \u001b[0;36m<module>\u001b[0;34m\u001b[0m\n\u001b[1;32m      1\u001b[0m \u001b[0;31m# Close the Selenium Browser\u001b[0m\u001b[0;34m\u001b[0m\u001b[0;34m\u001b[0m\u001b[0;34m\u001b[0m\u001b[0m\n\u001b[0;32m----> 2\u001b[0;31m \u001b[0mdriver\u001b[0m\u001b[0;34m.\u001b[0m\u001b[0mclose\u001b[0m\u001b[0;34m(\u001b[0m\u001b[0;34m)\u001b[0m\u001b[0;34m\u001b[0m\u001b[0;34m\u001b[0m\u001b[0m\n\u001b[0m",
      "\u001b[0;32m~/opt/anaconda3/envs/DSI/lib/python3.7/site-packages/selenium/webdriver/remote/webdriver.py\u001b[0m in \u001b[0;36mclose\u001b[0;34m(self)\u001b[0m\n\u001b[1;32m    686\u001b[0m             \u001b[0mdriver\u001b[0m\u001b[0;34m.\u001b[0m\u001b[0mclose\u001b[0m\u001b[0;34m(\u001b[0m\u001b[0;34m)\u001b[0m\u001b[0;34m\u001b[0m\u001b[0;34m\u001b[0m\u001b[0m\n\u001b[1;32m    687\u001b[0m         \"\"\"\n\u001b[0;32m--> 688\u001b[0;31m         \u001b[0mself\u001b[0m\u001b[0;34m.\u001b[0m\u001b[0mexecute\u001b[0m\u001b[0;34m(\u001b[0m\u001b[0mCommand\u001b[0m\u001b[0;34m.\u001b[0m\u001b[0mCLOSE\u001b[0m\u001b[0;34m)\u001b[0m\u001b[0;34m\u001b[0m\u001b[0;34m\u001b[0m\u001b[0m\n\u001b[0m\u001b[1;32m    689\u001b[0m \u001b[0;34m\u001b[0m\u001b[0m\n\u001b[1;32m    690\u001b[0m     \u001b[0;32mdef\u001b[0m \u001b[0mquit\u001b[0m\u001b[0;34m(\u001b[0m\u001b[0mself\u001b[0m\u001b[0;34m)\u001b[0m\u001b[0;34m:\u001b[0m\u001b[0;34m\u001b[0m\u001b[0;34m\u001b[0m\u001b[0m\n",
      "\u001b[0;32m~/opt/anaconda3/envs/DSI/lib/python3.7/site-packages/selenium/webdriver/remote/webdriver.py\u001b[0m in \u001b[0;36mexecute\u001b[0;34m(self, driver_command, params)\u001b[0m\n\u001b[1;32m    319\u001b[0m         \u001b[0mresponse\u001b[0m \u001b[0;34m=\u001b[0m \u001b[0mself\u001b[0m\u001b[0;34m.\u001b[0m\u001b[0mcommand_executor\u001b[0m\u001b[0;34m.\u001b[0m\u001b[0mexecute\u001b[0m\u001b[0;34m(\u001b[0m\u001b[0mdriver_command\u001b[0m\u001b[0;34m,\u001b[0m \u001b[0mparams\u001b[0m\u001b[0;34m)\u001b[0m\u001b[0;34m\u001b[0m\u001b[0;34m\u001b[0m\u001b[0m\n\u001b[1;32m    320\u001b[0m         \u001b[0;32mif\u001b[0m \u001b[0mresponse\u001b[0m\u001b[0;34m:\u001b[0m\u001b[0;34m\u001b[0m\u001b[0;34m\u001b[0m\u001b[0m\n\u001b[0;32m--> 321\u001b[0;31m             \u001b[0mself\u001b[0m\u001b[0;34m.\u001b[0m\u001b[0merror_handler\u001b[0m\u001b[0;34m.\u001b[0m\u001b[0mcheck_response\u001b[0m\u001b[0;34m(\u001b[0m\u001b[0mresponse\u001b[0m\u001b[0;34m)\u001b[0m\u001b[0;34m\u001b[0m\u001b[0;34m\u001b[0m\u001b[0m\n\u001b[0m\u001b[1;32m    322\u001b[0m             response['value'] = self._unwrap_value(\n\u001b[1;32m    323\u001b[0m                 response.get('value', None))\n",
      "\u001b[0;32m~/opt/anaconda3/envs/DSI/lib/python3.7/site-packages/selenium/webdriver/remote/errorhandler.py\u001b[0m in \u001b[0;36mcheck_response\u001b[0;34m(self, response)\u001b[0m\n\u001b[1;32m    240\u001b[0m                 \u001b[0malert_text\u001b[0m \u001b[0;34m=\u001b[0m \u001b[0mvalue\u001b[0m\u001b[0;34m[\u001b[0m\u001b[0;34m'alert'\u001b[0m\u001b[0;34m]\u001b[0m\u001b[0;34m.\u001b[0m\u001b[0mget\u001b[0m\u001b[0;34m(\u001b[0m\u001b[0;34m'text'\u001b[0m\u001b[0;34m)\u001b[0m\u001b[0;34m\u001b[0m\u001b[0;34m\u001b[0m\u001b[0m\n\u001b[1;32m    241\u001b[0m             \u001b[0;32mraise\u001b[0m \u001b[0mexception_class\u001b[0m\u001b[0;34m(\u001b[0m\u001b[0mmessage\u001b[0m\u001b[0;34m,\u001b[0m \u001b[0mscreen\u001b[0m\u001b[0;34m,\u001b[0m \u001b[0mstacktrace\u001b[0m\u001b[0;34m,\u001b[0m \u001b[0malert_text\u001b[0m\u001b[0;34m)\u001b[0m\u001b[0;34m\u001b[0m\u001b[0;34m\u001b[0m\u001b[0m\n\u001b[0;32m--> 242\u001b[0;31m         \u001b[0;32mraise\u001b[0m \u001b[0mexception_class\u001b[0m\u001b[0;34m(\u001b[0m\u001b[0mmessage\u001b[0m\u001b[0;34m,\u001b[0m \u001b[0mscreen\u001b[0m\u001b[0;34m,\u001b[0m \u001b[0mstacktrace\u001b[0m\u001b[0;34m)\u001b[0m\u001b[0;34m\u001b[0m\u001b[0;34m\u001b[0m\u001b[0m\n\u001b[0m\u001b[1;32m    243\u001b[0m \u001b[0;34m\u001b[0m\u001b[0m\n\u001b[1;32m    244\u001b[0m     \u001b[0;32mdef\u001b[0m \u001b[0m_value_or_default\u001b[0m\u001b[0;34m(\u001b[0m\u001b[0mself\u001b[0m\u001b[0;34m,\u001b[0m \u001b[0mobj\u001b[0m\u001b[0;34m,\u001b[0m \u001b[0mkey\u001b[0m\u001b[0;34m,\u001b[0m \u001b[0mdefault\u001b[0m\u001b[0;34m)\u001b[0m\u001b[0;34m:\u001b[0m\u001b[0;34m\u001b[0m\u001b[0;34m\u001b[0m\u001b[0m\n",
      "\u001b[0;31mInvalidSessionIdException\u001b[0m: Message: invalid session id\n"
     ]
    }
   ],
   "source": [
    "# Close the Selenium Browser\n",
    "driver.close()\n"
   ]
  },
  {
   "cell_type": "code",
   "execution_count": 14,
   "metadata": {},
   "outputs": [
    {
     "data": {
      "text/html": [
       "<div>\n",
       "<style scoped>\n",
       "    .dataframe tbody tr th:only-of-type {\n",
       "        vertical-align: middle;\n",
       "    }\n",
       "\n",
       "    .dataframe tbody tr th {\n",
       "        vertical-align: top;\n",
       "    }\n",
       "\n",
       "    .dataframe thead th {\n",
       "        text-align: right;\n",
       "    }\n",
       "</style>\n",
       "<table border=\"1\" class=\"dataframe\">\n",
       "  <thead>\n",
       "    <tr style=\"text-align: right;\">\n",
       "      <th></th>\n",
       "      <th>date</th>\n",
       "      <th>name</th>\n",
       "      <th>href</th>\n",
       "      <th>article</th>\n",
       "      <th>comments</th>\n",
       "    </tr>\n",
       "  </thead>\n",
       "  <tbody>\n",
       "    <tr>\n",
       "      <th>0</th>\n",
       "      <td>Today, 3:48 PM</td>\n",
       "      <td>Sunrun deal for Vivint to top Tesla as rooftop...</td>\n",
       "      <td>https://seekingalpha.com/news/3589237-sunrun-d...</td>\n",
       "      <td>Sunrun (RUN +23.9%) surges to all-time highs a...</td>\n",
       "      <td>error</td>\n",
       "    </tr>\n",
       "    <tr>\n",
       "      <th>1</th>\n",
       "      <td>Today, 10:21 AM</td>\n",
       "      <td>Tesla bears capitulate for the near term</td>\n",
       "      <td>https://seekingalpha.com/news/3589120-tesla-be...</td>\n",
       "      <td>The bear camp on Tesla (TSLA +0.4%) is crackin...</td>\n",
       "      <td>error</td>\n",
       "    </tr>\n",
       "    <tr>\n",
       "      <th>2</th>\n",
       "      <td>Yesterday, 1:16 PM</td>\n",
       "      <td>Tesla market cap crown brings focus on valuation</td>\n",
       "      <td>https://seekingalpha.com/news/3588818-tesla-ma...</td>\n",
       "      <td>Tesla shares got a lot of hype last week as th...</td>\n",
       "      <td>error</td>\n",
       "    </tr>\n",
       "    <tr>\n",
       "      <th>3</th>\n",
       "      <td>Yesterday, 8:41 AM</td>\n",
       "      <td>Tesla 6 after JMP hikes price target to $1500</td>\n",
       "      <td>https://seekingalpha.com/news/3588673-teslaplu...</td>\n",
       "      <td>JMP Securities thinks sales volume at Tesla (N...</td>\n",
       "      <td>error</td>\n",
       "    </tr>\n",
       "    <tr>\n",
       "      <th>4</th>\n",
       "      <td>Yesterday, 3:26 AM</td>\n",
       "      <td>Musk teases Tesla shortsellers with Short Shorts</td>\n",
       "      <td>https://seekingalpha.com/news/3588579-musk-tea...</td>\n",
       "      <td>error</td>\n",
       "      <td>error</td>\n",
       "    </tr>\n",
       "    <tr>\n",
       "      <th>...</th>\n",
       "      <td>...</td>\n",
       "      <td>...</td>\n",
       "      <td>...</td>\n",
       "      <td>...</td>\n",
       "      <td>...</td>\n",
       "    </tr>\n",
       "    <tr>\n",
       "      <th>315</th>\n",
       "      <td>Mon, Nov. 25, 2019</td>\n",
       "      <td>Cybertruck orders trigger Tesla rebound</td>\n",
       "      <td>https://seekingalpha.com/news/3521690-cybertru...</td>\n",
       "      <td>error</td>\n",
       "      <td>error</td>\n",
       "    </tr>\n",
       "    <tr>\n",
       "      <th>316</th>\n",
       "      <td>Sun, Nov. 24, 2019</td>\n",
       "      <td>146K orders placed for Tesla Cybertruck</td>\n",
       "      <td>https://seekingalpha.com/news/3521667-146k-ord...</td>\n",
       "      <td>error</td>\n",
       "      <td>error</td>\n",
       "    </tr>\n",
       "    <tr>\n",
       "      <th>317</th>\n",
       "      <td>Fri, Nov. 22, 2019</td>\n",
       "      <td>Funko and Modine Manufacturing among Consumer ...</td>\n",
       "      <td>https://seekingalpha.com/news/3521591-funko-an...</td>\n",
       "      <td>error</td>\n",
       "      <td>error</td>\n",
       "    </tr>\n",
       "    <tr>\n",
       "      <th>318</th>\n",
       "      <td>Fri, Nov. 22, 2019</td>\n",
       "      <td>Tesla 4 after Cybertruck debut</td>\n",
       "      <td>https://seekingalpha.com/news/3521515-teslamin...</td>\n",
       "      <td>error</td>\n",
       "      <td>error</td>\n",
       "    </tr>\n",
       "    <tr>\n",
       "      <th>319</th>\n",
       "      <td>Fri, Nov. 22, 2019</td>\n",
       "      <td>Tesla Cybertruck starts at $39900</td>\n",
       "      <td>https://seekingalpha.com/news/3521440-tesla-cy...</td>\n",
       "      <td>error</td>\n",
       "      <td>error</td>\n",
       "    </tr>\n",
       "  </tbody>\n",
       "</table>\n",
       "<p>320 rows × 5 columns</p>\n",
       "</div>"
      ],
      "text/plain": [
       "                   date                                               name  \\\n",
       "0        Today, 3:48 PM  Sunrun deal for Vivint to top Tesla as rooftop...   \n",
       "1       Today, 10:21 AM           Tesla bears capitulate for the near term   \n",
       "2    Yesterday, 1:16 PM   Tesla market cap crown brings focus on valuation   \n",
       "3    Yesterday, 8:41 AM      Tesla 6 after JMP hikes price target to $1500   \n",
       "4    Yesterday, 3:26 AM   Musk teases Tesla shortsellers with Short Shorts   \n",
       "..                  ...                                                ...   \n",
       "315  Mon, Nov. 25, 2019            Cybertruck orders trigger Tesla rebound   \n",
       "316  Sun, Nov. 24, 2019            146K orders placed for Tesla Cybertruck   \n",
       "317  Fri, Nov. 22, 2019  Funko and Modine Manufacturing among Consumer ...   \n",
       "318  Fri, Nov. 22, 2019                     Tesla 4 after Cybertruck debut   \n",
       "319  Fri, Nov. 22, 2019                  Tesla Cybertruck starts at $39900   \n",
       "\n",
       "                                                  href  \\\n",
       "0    https://seekingalpha.com/news/3589237-sunrun-d...   \n",
       "1    https://seekingalpha.com/news/3589120-tesla-be...   \n",
       "2    https://seekingalpha.com/news/3588818-tesla-ma...   \n",
       "3    https://seekingalpha.com/news/3588673-teslaplu...   \n",
       "4    https://seekingalpha.com/news/3588579-musk-tea...   \n",
       "..                                                 ...   \n",
       "315  https://seekingalpha.com/news/3521690-cybertru...   \n",
       "316  https://seekingalpha.com/news/3521667-146k-ord...   \n",
       "317  https://seekingalpha.com/news/3521591-funko-an...   \n",
       "318  https://seekingalpha.com/news/3521515-teslamin...   \n",
       "319  https://seekingalpha.com/news/3521440-tesla-cy...   \n",
       "\n",
       "                                               article comments  \n",
       "0    Sunrun (RUN +23.9%) surges to all-time highs a...    error  \n",
       "1    The bear camp on Tesla (TSLA +0.4%) is crackin...    error  \n",
       "2    Tesla shares got a lot of hype last week as th...    error  \n",
       "3    JMP Securities thinks sales volume at Tesla (N...    error  \n",
       "4                                                error    error  \n",
       "..                                                 ...      ...  \n",
       "315                                              error    error  \n",
       "316                                              error    error  \n",
       "317                                              error    error  \n",
       "318                                              error    error  \n",
       "319                                              error    error  \n",
       "\n",
       "[320 rows x 5 columns]"
      ]
     },
     "execution_count": 14,
     "metadata": {},
     "output_type": "execute_result"
    }
   ],
   "source": [
    "df"
   ]
  },
  {
   "cell_type": "code",
   "execution_count": 15,
   "metadata": {},
   "outputs": [],
   "source": [
    "def finish_qurom(df):\n",
    "    driver = webdriver.Chrome('./chromedriver')\n",
    "    #start a list of the articles\n",
    "    art_list = []\n",
    "    # grap the comments while I'm here\n",
    "    comments = []\n",
    "    # for loop to go through each of the links and grab the articles\n",
    "    for r,c in df.iterrows():\n",
    "        if c[3] == 'error':\n",
    "            sep = 'Recommended for you:'\n",
    "            driver.get(c[2])\n",
    "#             driver.implicitly_wait(30)\n",
    "            try:\n",
    "                driver.find_element_by_class_name('premium-banner')\n",
    "            except:\n",
    "                df['article'][r] = 'no_good'\n",
    "            try: \n",
    "                df['article'][r] = driver.find_element_by_id(\"a-cont\").text.split(sep,1)[0]\n",
    "            except:\n",
    "                article = 'error'\n",
    "            try: \n",
    "                df['comments'][r] = driver.find_element_by_id(\"a-cont\").text.split(sep,1)[1]\n",
    "            except:\n",
    "                comments.append('error')\n",
    "    driver.close()        \n",
    "    \n",
    "    return df"
   ]
  },
  {
   "cell_type": "code",
   "execution_count": null,
   "metadata": {},
   "outputs": [],
   "source": [
    "df2[df2['name'].str.contains(\"volatile market\")]\n",
    "df2.drop(df2.index[67], inplace=True)"
   ]
  },
  {
   "cell_type": "code",
   "execution_count": 17,
   "metadata": {},
   "outputs": [
    {
     "name": "stdout",
     "output_type": "stream",
     "text": [
      "Done\n"
     ]
    }
   ],
   "source": [
    "if 'error' in df2['article'].unique():\n",
    "    print(df2['article'].str.count('error').sum())\n",
    "    finish_qurom(df2)\n",
    "else:\n",
    "    print('Done')\n"
   ]
  },
  {
   "cell_type": "code",
   "execution_count": 20,
   "metadata": {},
   "outputs": [],
   "source": [
    "# save new dataframe to a csv\n",
    "df2.to_csv(f'./data/{ticker}_articles.csv', index = False)\n"
   ]
  },
  {
   "cell_type": "code",
   "execution_count": 18,
   "metadata": {},
   "outputs": [
    {
     "data": {
      "text/html": [
       "<div>\n",
       "<style scoped>\n",
       "    .dataframe tbody tr th:only-of-type {\n",
       "        vertical-align: middle;\n",
       "    }\n",
       "\n",
       "    .dataframe tbody tr th {\n",
       "        vertical-align: top;\n",
       "    }\n",
       "\n",
       "    .dataframe thead th {\n",
       "        text-align: right;\n",
       "    }\n",
       "</style>\n",
       "<table border=\"1\" class=\"dataframe\">\n",
       "  <thead>\n",
       "    <tr style=\"text-align: right;\">\n",
       "      <th></th>\n",
       "      <th>date</th>\n",
       "      <th>name</th>\n",
       "      <th>href</th>\n",
       "      <th>article</th>\n",
       "      <th>comments</th>\n",
       "    </tr>\n",
       "  </thead>\n",
       "  <tbody>\n",
       "    <tr>\n",
       "      <th>0</th>\n",
       "      <td>Today, 3:48 PM</td>\n",
       "      <td>Sunrun deal for Vivint to top Tesla as rooftop...</td>\n",
       "      <td>https://seekingalpha.com/news/3589237-sunrun-d...</td>\n",
       "      <td>Sunrun (RUN +23.9%) surges to all-time highs a...</td>\n",
       "      <td>error</td>\n",
       "    </tr>\n",
       "    <tr>\n",
       "      <th>1</th>\n",
       "      <td>Today, 10:21 AM</td>\n",
       "      <td>Tesla bears capitulate for the near term</td>\n",
       "      <td>https://seekingalpha.com/news/3589120-tesla-be...</td>\n",
       "      <td>The bear camp on Tesla (TSLA +0.4%) is crackin...</td>\n",
       "      <td>error</td>\n",
       "    </tr>\n",
       "    <tr>\n",
       "      <th>2</th>\n",
       "      <td>Yesterday, 1:16 PM</td>\n",
       "      <td>Tesla market cap crown brings focus on valuation</td>\n",
       "      <td>https://seekingalpha.com/news/3588818-tesla-ma...</td>\n",
       "      <td>Tesla shares got a lot of hype last week as th...</td>\n",
       "      <td>error</td>\n",
       "    </tr>\n",
       "    <tr>\n",
       "      <th>3</th>\n",
       "      <td>Yesterday, 8:41 AM</td>\n",
       "      <td>Tesla 6 after JMP hikes price target to $1500</td>\n",
       "      <td>https://seekingalpha.com/news/3588673-teslaplu...</td>\n",
       "      <td>JMP Securities thinks sales volume at Tesla (N...</td>\n",
       "      <td>error</td>\n",
       "    </tr>\n",
       "    <tr>\n",
       "      <th>4</th>\n",
       "      <td>Yesterday, 3:26 AM</td>\n",
       "      <td>Musk teases Tesla shortsellers with Short Shorts</td>\n",
       "      <td>https://seekingalpha.com/news/3588579-musk-tea...</td>\n",
       "      <td>Elon Musk has already offered to send a pair o...</td>\n",
       "      <td>error</td>\n",
       "    </tr>\n",
       "  </tbody>\n",
       "</table>\n",
       "</div>"
      ],
      "text/plain": [
       "                 date                                               name  \\\n",
       "0      Today, 3:48 PM  Sunrun deal for Vivint to top Tesla as rooftop...   \n",
       "1     Today, 10:21 AM           Tesla bears capitulate for the near term   \n",
       "2  Yesterday, 1:16 PM   Tesla market cap crown brings focus on valuation   \n",
       "3  Yesterday, 8:41 AM      Tesla 6 after JMP hikes price target to $1500   \n",
       "4  Yesterday, 3:26 AM   Musk teases Tesla shortsellers with Short Shorts   \n",
       "\n",
       "                                                href  \\\n",
       "0  https://seekingalpha.com/news/3589237-sunrun-d...   \n",
       "1  https://seekingalpha.com/news/3589120-tesla-be...   \n",
       "2  https://seekingalpha.com/news/3588818-tesla-ma...   \n",
       "3  https://seekingalpha.com/news/3588673-teslaplu...   \n",
       "4  https://seekingalpha.com/news/3588579-musk-tea...   \n",
       "\n",
       "                                             article comments  \n",
       "0  Sunrun (RUN +23.9%) surges to all-time highs a...    error  \n",
       "1  The bear camp on Tesla (TSLA +0.4%) is crackin...    error  \n",
       "2  Tesla shares got a lot of hype last week as th...    error  \n",
       "3  JMP Securities thinks sales volume at Tesla (N...    error  \n",
       "4  Elon Musk has already offered to send a pair o...    error  "
      ]
     },
     "execution_count": 18,
     "metadata": {},
     "output_type": "execute_result"
    }
   ],
   "source": [
    "df2.head()"
   ]
  },
  {
   "cell_type": "code",
   "execution_count": null,
   "metadata": {},
   "outputs": [],
   "source": [
    "df3 = pd.read_csv(f'./data/{ticker}_articles.csv')\n",
    "df3.head()"
   ]
  },
  {
   "cell_type": "code",
   "execution_count": null,
   "metadata": {},
   "outputs": [],
   "source": [
    "df3['article'][0]"
   ]
  },
  {
   "cell_type": "code",
   "execution_count": null,
   "metadata": {},
   "outputs": [],
   "source": [
    "w2v_model = Word2Vec(sentences=df3['article'],\n",
    "                     min_count=1,\n",
    "                 window=5,\n",
    "                 size=100,\n",
    "                 workers=4)\n",
    "\n",
    "# w2v_model.build_vocab(sentences)\n",
    "w2v_model.train(tweets, total_examples=w2v_model.corpus_count, epochs=w2v_model.iter)\n",
    "w2v_model.init_sims(replace=True)"
   ]
  },
  {
   "cell_type": "code",
   "execution_count": null,
   "metadata": {},
   "outputs": [],
   "source": []
  },
  {
   "cell_type": "code",
   "execution_count": null,
   "metadata": {},
   "outputs": [],
   "source": []
  },
  {
   "cell_type": "code",
   "execution_count": null,
   "metadata": {},
   "outputs": [],
   "source": []
  },
  {
   "cell_type": "code",
   "execution_count": null,
   "metadata": {},
   "outputs": [],
   "source": []
  },
  {
   "cell_type": "code",
   "execution_count": null,
   "metadata": {},
   "outputs": [],
   "source": []
  },
  {
   "cell_type": "code",
   "execution_count": null,
   "metadata": {},
   "outputs": [],
   "source": []
  },
  {
   "cell_type": "code",
   "execution_count": null,
   "metadata": {},
   "outputs": [],
   "source": [
    "driver = webdriver.Chrome('./chromedriver')\n",
    "driver.get(url2)\n",
    "driver.implicitly_wait(100)\n",
    "article = driver.find_element_by_id(\"content-rail\")\n",
    "# assert \"Python\" in driver.title\n",
    "\n",
    "# elem.clear()\n",
    "# elem.send_keys(\"pycon\")\n",
    "# elem.send_keys(Keys.RETURN)\n",
    "# assert \"No results found.\" not in driver.page_source\n",
    "driver.close()"
   ]
  },
  {
   "cell_type": "code",
   "execution_count": null,
   "metadata": {},
   "outputs": [],
   "source": [
    "# The Article has comments, which for now I am going to take out. This code will separate the article into two sections with \"Like this article\" as the separator\n",
    "sep = 'Recommended for you:'\n",
    "article.text.split(sep,1)[1]"
   ]
  },
  {
   "cell_type": "code",
   "execution_count": null,
   "metadata": {},
   "outputs": [],
   "source": []
  },
  {
   "cell_type": "code",
   "execution_count": null,
   "metadata": {},
   "outputs": [],
   "source": []
  },
  {
   "cell_type": "code",
   "execution_count": null,
   "metadata": {},
   "outputs": [],
   "source": []
  },
  {
   "cell_type": "code",
   "execution_count": null,
   "metadata": {},
   "outputs": [],
   "source": []
  },
  {
   "cell_type": "code",
   "execution_count": null,
   "metadata": {},
   "outputs": [],
   "source": []
  },
  {
   "cell_type": "code",
   "execution_count": null,
   "metadata": {},
   "outputs": [],
   "source": []
  },
  {
   "cell_type": "code",
   "execution_count": null,
   "metadata": {},
   "outputs": [],
   "source": []
  },
  {
   "cell_type": "code",
   "execution_count": null,
   "metadata": {},
   "outputs": [],
   "source": []
  },
  {
   "cell_type": "code",
   "execution_count": null,
   "metadata": {},
   "outputs": [],
   "source": [
    "r = urllib.request.Request(url, headers={'User-Agent': 'Chrome/83.0.4103.116'})"
   ]
  },
  {
   "cell_type": "code",
   "execution_count": null,
   "metadata": {},
   "outputs": [],
   "source": [
    "html = urllib.request.urlopen(r)\n",
    "time.sleep(10)\n",
    "\n",
    "html = html.read()"
   ]
  },
  {
   "cell_type": "code",
   "execution_count": null,
   "metadata": {},
   "outputs": [],
   "source": [
    "\n",
    "# Establishing the connection to the web page:\n",
    "response = requests.get(url)\n",
    "print(response.status_code)\n",
    "\n",
    "# Pull the HTML string out of requests and convert it to a Python string.\n",
    "html = response.text\n"
   ]
  },
  {
   "cell_type": "code",
   "execution_count": null,
   "metadata": {},
   "outputs": [],
   "source": [
    "from requests_html import HTMLSession\n",
    "\n",
    "session = HTMLSession()\n",
    "\n",
    "r = session.get(url)\n",
    "\n",
    "r.html.render()"
   ]
  },
  {
   "cell_type": "code",
   "execution_count": null,
   "metadata": {},
   "outputs": [],
   "source": []
  },
  {
   "cell_type": "code",
   "execution_count": null,
   "metadata": {},
   "outputs": [],
   "source": []
  },
  {
   "cell_type": "code",
   "execution_count": null,
   "metadata": {},
   "outputs": [],
   "source": []
  },
  {
   "cell_type": "code",
   "execution_count": null,
   "metadata": {},
   "outputs": [],
   "source": []
  },
  {
   "cell_type": "code",
   "execution_count": null,
   "metadata": {},
   "outputs": [],
   "source": []
  },
  {
   "cell_type": "code",
   "execution_count": null,
   "metadata": {},
   "outputs": [],
   "source": []
  },
  {
   "cell_type": "code",
   "execution_count": null,
   "metadata": {},
   "outputs": [],
   "source": []
  },
  {
   "cell_type": "code",
   "execution_count": null,
   "metadata": {},
   "outputs": [],
   "source": [
    "soup = BeautifulSoup(html,'lxml')"
   ]
  },
  {
   "cell_type": "code",
   "execution_count": null,
   "metadata": {},
   "outputs": [],
   "source": []
  },
  {
   "cell_type": "code",
   "execution_count": null,
   "metadata": {},
   "outputs": [],
   "source": []
  },
  {
   "cell_type": "code",
   "execution_count": null,
   "metadata": {},
   "outputs": [],
   "source": [
    "import urllib3\n",
    "import time\n",
    "data = urllib3.urlopen(url)\n",
    "time.sleep(10)\n",
    "data = data.read()"
   ]
  },
  {
   "cell_type": "code",
   "execution_count": null,
   "metadata": {},
   "outputs": [],
   "source": []
  },
  {
   "cell_type": "code",
   "execution_count": null,
   "metadata": {},
   "outputs": [],
   "source": []
  },
  {
   "cell_type": "code",
   "execution_count": null,
   "metadata": {},
   "outputs": [],
   "source": []
  },
  {
   "cell_type": "code",
   "execution_count": null,
   "metadata": {},
   "outputs": [],
   "source": []
  },
  {
   "cell_type": "code",
   "execution_count": null,
   "metadata": {},
   "outputs": [],
   "source": []
  },
  {
   "cell_type": "code",
   "execution_count": null,
   "metadata": {},
   "outputs": [],
   "source": []
  },
  {
   "cell_type": "code",
   "execution_count": null,
   "metadata": {},
   "outputs": [],
   "source": [
    "results_list = []\n",
    "\n",
    "articles = soup.find_all('article', {'class':'title'})\n",
    "\n",
    "for element in articles:\n",
    "    # start a dictionary to store this item's data\n",
    "    result = {}\n",
    "    \n",
    "    # get the title and full link/url\n",
    "    a_href = element.find('a')\n",
    "    if a_href:\n",
    "        result['title'] = a_href.text   # element text\n",
    "        result['link'] = a_href['href'] # href link\n",
    "        \n",
    "    # get the url domain\n",
    "    span = element.find('span', {'class':'comhead'})\n",
    "    if span:\n",
    "        result['url'] = span.text.strip()[1:-1]\n",
    "        \n",
    "    # only store \"full\" rows of data\n",
    "    if len(result) == 3:\n",
    "        results_list.append(result)\n",
    "        \n",
    "results_list[0]"
   ]
  }
 ],
 "metadata": {
  "kernelspec": {
   "display_name": "Python 3",
   "language": "python",
   "name": "python3"
  },
  "language_info": {
   "codemirror_mode": {
    "name": "ipython",
    "version": 3
   },
   "file_extension": ".py",
   "mimetype": "text/x-python",
   "name": "python",
   "nbconvert_exporter": "python",
   "pygments_lexer": "ipython3",
   "version": "3.7.7"
  }
 },
 "nbformat": 4,
 "nbformat_minor": 4
}
