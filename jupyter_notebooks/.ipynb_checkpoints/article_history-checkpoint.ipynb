{
 "cells": [
  {
   "cell_type": "code",
   "execution_count": 255,
   "metadata": {},
   "outputs": [],
   "source": [
    "# Run our imports\n",
    "import pandas as pd\n",
    "import numpy as np\n",
    "import yfinance as yf\n",
    "from bs4 import BeautifulSoup\n",
    "from selenium import webdriver\n",
    "from selenium.webdriver.common.keys import Keys\n",
    "from selenium.webdriver.support.ui import WebDriverWait\n"
   ]
  },
  {
   "cell_type": "markdown",
   "metadata": {},
   "source": [
    "# INPUTS"
   ]
  },
  {
   "cell_type": "code",
   "execution_count": 315,
   "metadata": {},
   "outputs": [],
   "source": [
    "# select Ticker\n",
    "tickers = ['TSLA','AAPL','MSFT']\n",
    "\n",
    "# Target web page:\n",
    "# url = f'https://seekingalpha.com/symbol/{ticker}/news'\n",
    "url = 'file:///Users/danielgurzi/Desktop/Tesla,%20Inc.%20(TSLA)%20Latest%20Stock%20News%20_%20Seeking%20Alpha.html'"
   ]
  },
  {
   "cell_type": "markdown",
   "metadata": {},
   "source": [
    "# DATA GATHERING"
   ]
  },
  {
   "cell_type": "code",
   "execution_count": 248,
   "metadata": {},
   "outputs": [],
   "source": [
    "# take ticker list, output csvs with stock price info\n",
    "def tick_hist(tickers):\n",
    "    for t in tickers:\n",
    "        df = pd.DataFrame(yf.Ticker(t).history())\n",
    "        df.to_csv(f'./data/{t}_history.csv', index=False)\n",
    "    return"
   ]
  },
  {
   "cell_type": "code",
   "execution_count": null,
   "metadata": {},
   "outputs": [],
   "source": [
    "tick_hist(tickers)"
   ]
  },
  {
   "cell_type": "markdown",
   "metadata": {},
   "source": [
    "Need to make a function for cathering article hrefs\n",
    "\n",
    "Needs to update the date of Today and Yesterday to proper dates\n",
    "\n"
   ]
  },
  {
   "cell_type": "code",
   "execution_count": null,
   "metadata": {},
   "outputs": [],
   "source": []
  },
  {
   "cell_type": "code",
   "execution_count": 327,
   "metadata": {},
   "outputs": [],
   "source": [
    "# spin up Selenium driver to get elements from page\n",
    "driver = webdriver.Chrome('./chromedriver')\n",
    "driver.get(url)\n",
    "driver.implicitly_wait(100)\n",
    "\n",
    "links = driver.find_elements_by_class_name(\"_1-r1S\")"
   ]
  },
  {
   "cell_type": "code",
   "execution_count": 328,
   "metadata": {},
   "outputs": [],
   "source": [
    "# start dataframe to hold link information\n",
    "df = pd.DataFrame()\n",
    "df['date'] = [i.find_element_by_class_name(\"VbEwc\").text for i in links]\n",
    "df['name'] = [i.find_element_by_tag_name(\"h3\").text for i in links]\n",
    "df['href'] = [i.find_elements_by_tag_name('a')[0].get_property('href') for i in links]\n",
    "# df['comments_qty'] = [i.find_element_by_class_name('_3zL6Q').text for i in links]"
   ]
  },
  {
   "cell_type": "code",
   "execution_count": 330,
   "metadata": {},
   "outputs": [],
   "source": [
    "# this will end the browser session\n",
    "driver.close()\n"
   ]
  },
  {
   "cell_type": "code",
   "execution_count": 331,
   "metadata": {},
   "outputs": [],
   "source": [
    "# save info to dataframe\n",
    "df.to_csv(f'./data/{ticker}.csv')\n"
   ]
  },
  {
   "cell_type": "code",
   "execution_count": 362,
   "metadata": {},
   "outputs": [
    {
     "data": {
      "text/html": [
       "<div>\n",
       "<style scoped>\n",
       "    .dataframe tbody tr th:only-of-type {\n",
       "        vertical-align: middle;\n",
       "    }\n",
       "\n",
       "    .dataframe tbody tr th {\n",
       "        vertical-align: top;\n",
       "    }\n",
       "\n",
       "    .dataframe thead th {\n",
       "        text-align: right;\n",
       "    }\n",
       "</style>\n",
       "<table border=\"1\" class=\"dataframe\">\n",
       "  <thead>\n",
       "    <tr style=\"text-align: right;\">\n",
       "      <th></th>\n",
       "      <th>date</th>\n",
       "      <th>name</th>\n",
       "      <th>href</th>\n",
       "    </tr>\n",
       "  </thead>\n",
       "  <tbody>\n",
       "    <tr>\n",
       "      <th>0</th>\n",
       "      <td>Thu, Jul. 02</td>\n",
       "      <td>Musk tweaks SEC again with Tesla shares cruising</td>\n",
       "      <td>https://seekingalpha.com/news/3588459-musk-twe...</td>\n",
       "    </tr>\n",
       "    <tr>\n",
       "      <th>1</th>\n",
       "      <td>Thu, Jul. 02</td>\n",
       "      <td>Tesla revamps plan for Giga Berlin</td>\n",
       "      <td>https://seekingalpha.com/news/3588423-tesla-re...</td>\n",
       "    </tr>\n",
       "    <tr>\n",
       "      <th>2</th>\n",
       "      <td>Thu, Jul. 02</td>\n",
       "      <td>Tesla Q2 deliveries top 90K vs. 83K estimate; ...</td>\n",
       "      <td>https://seekingalpha.com/news/3588220-tesla-q2...</td>\n",
       "    </tr>\n",
       "    <tr>\n",
       "      <th>3</th>\n",
       "      <td>Wed, Jul. 01</td>\n",
       "      <td>Some clean energy ETFs shine in brutal first h...</td>\n",
       "      <td>https://seekingalpha.com/news/3587797-clean-en...</td>\n",
       "    </tr>\n",
       "    <tr>\n",
       "      <th>4</th>\n",
       "      <td>Wed, Jul. 01</td>\n",
       "      <td>Tesla rallies more to become the most valuable...</td>\n",
       "      <td>https://seekingalpha.com/news/3587760-tesla-ra...</td>\n",
       "    </tr>\n",
       "    <tr>\n",
       "      <th>...</th>\n",
       "      <td>...</td>\n",
       "      <td>...</td>\n",
       "      <td>...</td>\n",
       "    </tr>\n",
       "    <tr>\n",
       "      <th>275</th>\n",
       "      <td>Thu, Jan. 02</td>\n",
       "      <td>Canaccord Genuity fires off Street-high PT on ...</td>\n",
       "      <td>https://seekingalpha.com/news/3529084-canaccor...</td>\n",
       "    </tr>\n",
       "    <tr>\n",
       "      <th>276</th>\n",
       "      <td>Thu, Jan. 02</td>\n",
       "      <td>First customers to receive China-made Model 3s</td>\n",
       "      <td>https://seekingalpha.com/news/3529033-first-cu...</td>\n",
       "    </tr>\n",
       "    <tr>\n",
       "      <th>277</th>\n",
       "      <td>Wed, Jan. 01</td>\n",
       "      <td>Tesla faces lawsuit claiming racism</td>\n",
       "      <td>https://seekingalpha.com/news/3529018-tesla-fa...</td>\n",
       "    </tr>\n",
       "    <tr>\n",
       "      <th>278</th>\n",
       "      <td>Tue, Dec. 31, 2019</td>\n",
       "      <td>Tesla Shanghai producing 1,000 cars a week</td>\n",
       "      <td>https://seekingalpha.com/news/3528861-tesla-sh...</td>\n",
       "    </tr>\n",
       "    <tr>\n",
       "      <th>279</th>\n",
       "      <td>Mon, Dec. 30, 2019</td>\n",
       "      <td>Tesla -4% as bull/bear debate rages into 2020</td>\n",
       "      <td>https://seekingalpha.com/news/3528739-teslamin...</td>\n",
       "    </tr>\n",
       "  </tbody>\n",
       "</table>\n",
       "<p>280 rows × 3 columns</p>\n",
       "</div>"
      ],
      "text/plain": [
       "                   date                                               name  \\\n",
       "0          Thu, Jul. 02   Musk tweaks SEC again with Tesla shares cruising   \n",
       "1          Thu, Jul. 02                 Tesla revamps plan for Giga Berlin   \n",
       "2          Thu, Jul. 02  Tesla Q2 deliveries top 90K vs. 83K estimate; ...   \n",
       "3          Wed, Jul. 01  Some clean energy ETFs shine in brutal first h...   \n",
       "4          Wed, Jul. 01  Tesla rallies more to become the most valuable...   \n",
       "..                  ...                                                ...   \n",
       "275        Thu, Jan. 02  Canaccord Genuity fires off Street-high PT on ...   \n",
       "276        Thu, Jan. 02     First customers to receive China-made Model 3s   \n",
       "277        Wed, Jan. 01                Tesla faces lawsuit claiming racism   \n",
       "278  Tue, Dec. 31, 2019         Tesla Shanghai producing 1,000 cars a week   \n",
       "279  Mon, Dec. 30, 2019      Tesla -4% as bull/bear debate rages into 2020   \n",
       "\n",
       "                                                  href  \n",
       "0    https://seekingalpha.com/news/3588459-musk-twe...  \n",
       "1    https://seekingalpha.com/news/3588423-tesla-re...  \n",
       "2    https://seekingalpha.com/news/3588220-tesla-q2...  \n",
       "3    https://seekingalpha.com/news/3587797-clean-en...  \n",
       "4    https://seekingalpha.com/news/3587760-tesla-ra...  \n",
       "..                                                 ...  \n",
       "275  https://seekingalpha.com/news/3529084-canaccor...  \n",
       "276  https://seekingalpha.com/news/3529033-first-cu...  \n",
       "277  https://seekingalpha.com/news/3529018-tesla-fa...  \n",
       "278  https://seekingalpha.com/news/3528861-tesla-sh...  \n",
       "279  https://seekingalpha.com/news/3528739-teslamin...  \n",
       "\n",
       "[280 rows x 3 columns]"
      ]
     },
     "execution_count": 362,
     "metadata": {},
     "output_type": "execute_result"
    }
   ],
   "source": [
    "df"
   ]
  },
  {
   "cell_type": "code",
   "execution_count": null,
   "metadata": {},
   "outputs": [],
   "source": []
  },
  {
   "cell_type": "code",
   "execution_count": 367,
   "metadata": {},
   "outputs": [
    {
     "data": {
      "text/html": [
       "<div>\n",
       "<style scoped>\n",
       "    .dataframe tbody tr th:only-of-type {\n",
       "        vertical-align: middle;\n",
       "    }\n",
       "\n",
       "    .dataframe tbody tr th {\n",
       "        vertical-align: top;\n",
       "    }\n",
       "\n",
       "    .dataframe thead th {\n",
       "        text-align: right;\n",
       "    }\n",
       "</style>\n",
       "<table border=\"1\" class=\"dataframe\">\n",
       "  <thead>\n",
       "    <tr style=\"text-align: right;\">\n",
       "      <th></th>\n",
       "      <th>date</th>\n",
       "      <th>name</th>\n",
       "      <th>href</th>\n",
       "    </tr>\n",
       "  </thead>\n",
       "  <tbody>\n",
       "    <tr>\n",
       "      <th>0</th>\n",
       "      <td>Thu, Jul. 02</td>\n",
       "      <td>Musk tweaks SEC again with Tesla shares cruising</td>\n",
       "      <td>https://seekingalpha.com/news/3588459-musk-twe...</td>\n",
       "    </tr>\n",
       "    <tr>\n",
       "      <th>1</th>\n",
       "      <td>Thu, Jul. 02</td>\n",
       "      <td>Tesla revamps plan for Giga Berlin</td>\n",
       "      <td>https://seekingalpha.com/news/3588423-tesla-re...</td>\n",
       "    </tr>\n",
       "    <tr>\n",
       "      <th>2</th>\n",
       "      <td>Thu, Jul. 02</td>\n",
       "      <td>Tesla Q2 deliveries top 90K vs 83K estimate sh...</td>\n",
       "      <td>https://seekingalpha.com/news/3588220-tesla-q2...</td>\n",
       "    </tr>\n",
       "    <tr>\n",
       "      <th>3</th>\n",
       "      <td>Wed, Jul. 01</td>\n",
       "      <td>Some clean energy ETFs shine in brutal first h...</td>\n",
       "      <td>https://seekingalpha.com/news/3587797-clean-en...</td>\n",
       "    </tr>\n",
       "    <tr>\n",
       "      <th>4</th>\n",
       "      <td>Wed, Jul. 01</td>\n",
       "      <td>Tesla rallies more to become the most valuable...</td>\n",
       "      <td>https://seekingalpha.com/news/3587760-tesla-ra...</td>\n",
       "    </tr>\n",
       "  </tbody>\n",
       "</table>\n",
       "</div>"
      ],
      "text/plain": [
       "           date                                               name  \\\n",
       "0  Thu, Jul. 02   Musk tweaks SEC again with Tesla shares cruising   \n",
       "1  Thu, Jul. 02                 Tesla revamps plan for Giga Berlin   \n",
       "2  Thu, Jul. 02  Tesla Q2 deliveries top 90K vs 83K estimate sh...   \n",
       "3  Wed, Jul. 01  Some clean energy ETFs shine in brutal first h...   \n",
       "4  Wed, Jul. 01  Tesla rallies more to become the most valuable...   \n",
       "\n",
       "                                                href  \n",
       "0  https://seekingalpha.com/news/3588459-musk-twe...  \n",
       "1  https://seekingalpha.com/news/3588423-tesla-re...  \n",
       "2  https://seekingalpha.com/news/3588220-tesla-q2...  \n",
       "3  https://seekingalpha.com/news/3587797-clean-en...  \n",
       "4  https://seekingalpha.com/news/3587760-tesla-ra...  "
      ]
     },
     "execution_count": 367,
     "metadata": {},
     "output_type": "execute_result"
    }
   ],
   "source": [
    "import re\n",
    "df['name'] = i.replace('/', ' ')\n",
    "df['name'] = [re.sub('[^A-Za-z0-9 $]+', '', i) for i in df['name']]\n"
   ]
  },
  {
   "cell_type": "markdown",
   "metadata": {},
   "source": [
    "### Now we have a list of URLS from the seeking alpha ticker page"
   ]
  },
  {
   "cell_type": "code",
   "execution_count": 359,
   "metadata": {},
   "outputs": [
    {
     "name": "stdout",
     "output_type": "stream",
     "text": [
      "Musk tweaks SEC again with Tesla shares cruising\n",
      "Tesla revamps plan for Giga Berlin\n",
      "Tesla Q2 deliveries top 90K vs. 83K estimate; shares up 10%\n",
      "Some clean energy ETFs shine in brutal first half for fossil fuels\n",
      "Tesla rallies more to become the most valuable automaker\n",
      "Tesla investors frontrun deliveries report, potential S&P 500 inclusion\n",
      "Germany called a bright spot for Tesla\n",
      "'Breaking even is looking super tight' - Musk\n",
      "EV pickups look for mainstream appeal\n",
      "EV names lead auto sector higher\n",
      "Tesla seen topping Q2 deliveries expectations\n",
      "Sector Watch: Can Tesla deliveries lead autos as incentives wane?\n",
      "Bezos a copycat - Elon Musk comments on Amazon's Zoox purchase\n",
      "Amazon drives into autonomous vehicle chase with Zoox acquisition\n",
      "Tesla workers claim they were terminated for safety complaints\n",
      "Stage is set for the 2021 Ford F-150\n",
      "Dodge shocks with top overall quality marks from J.D. Power\n",
      "NHTSA probes Tesla over Model S touchscreens\n",
      "Wait for a better entry point on Tesla - Morgan Stanley\n",
      "Nevada supports clean car program\n",
      "Cybertruck expected to hit the market strong\n",
      "Tesla expected to offer 7-seat Model Y\n",
      "Tesla will postpone annual meeting, Musk says\n",
      "J.P. Morgan favors these names for the stunning auto-sales recovery\n",
      "JPMorgan pitches a tent in the Tesla bear camp\n",
      "BMW and Mercedes go down different self-driving roads\n",
      "Tesla pushes for sweet deal in Texas\n",
      "Tesla widening the gap with peers - Jefferies\n",
      "Board drama at Tesla as shares near $1K again\n",
      "Tesla gets a pass for drop in California demand\n",
      "Tesla's California registrations fell 37% in recent months, the WSJ reports\n",
      "Model Y complaints start to stack up\n",
      "Glencore to sell cobalt to Tesla for new car plants - FT\n",
      "Austin closes in on Tesla plant offer\n",
      "Biggest increase in three years for EV charging points\n",
      "Main Street has killed Wall Street during this rally. Here are the stocks they're buying\n",
      "EV semis move toward proof of concept\n",
      "Tesla cut at Morgan Stanley on Amazon, China risk\n",
      "GM over Tesla for the near term - Goldman Sachs\n",
      "Nowhere to hide in auto sector today\n",
      "China Model 3s approved with LFP batteries\n",
      "Tesla tops $1,000\n",
      "Tesla nears $1,000 as investors eye Semi, China potential\n",
      "Tesla tagged with higher price target at Wedbush\n",
      "Time for a Nikola Tesla ETF?\n",
      "Tesla just getting started - Ron Baron\n",
      "Musk says Model Y facing production and supply chain issues\n",
      "Tesla +4% on strong bullish vibe\n",
      "Tesla China model 3 sales volume triples in May\n",
      "Tesla's Musk throws down on Amazon, calls for breakup\n",
      "Siemens-AES JV plans massive Tesla-beating lithium ion batteries\n",
      "Germany ramps up EV incentives\n",
      "Nikola goes public via VectoIQ merger\n",
      "GM plots electric van to preempt Tesla\n",
      "Cities push ahead with Tesla truck factory pursuit\n",
      "China auto sales gain for second month in a row\n",
      "Rocket boost for Tesla\n",
      "Tesla expected to deliver Model Ys faster\n",
      "SpaceX liftoff a success after week's earlier scrapping\n",
      "EV sales forecast to soar in 2021\n",
      "SpaceX borrows some Tesla employees\n",
      "Elon Musk earns $775M performance-based payout\n",
      "In volatile market, Morgan Stanley chooses secular growth winners\n",
      "Tesla catches PT boost from Wedbush\n",
      "Tesla to cut prices for some models in North America, China\n",
      "Tesla seeks to build Model 3 with LFP batteries in China - Reuters\n",
      "Online auto shopping on the rise\n",
      "Ackman tempts Musk to join cities with Howard Hughes presence\n",
      "Construction buzzing at Tesla's Shanghai Gigafactory - Electrek\n",
      "Does Tesla need an operational leader?\n",
      "Tesla gives anxious Fremont workers an option\n",
      "Tesla abandons lawsuit to keep California plant open - CNBC\n",
      "Tesla's China registrations slump in April\n",
      "Morgan Stanley still stuck in neutral on Tesla\n",
      "Expansion could be back on for Nevada Gigafactory\n",
      "Tesla eyes S&P 500 inclusion\n",
      "Tesla tells employees it received a nod to reopen California plant\n",
      "Appaloosa Management buys Twitter, exits Caesars, cuts Facebook\n",
      "Saudi sovereign Fund adds Facebook and Disney to holdings\n",
      "Panasonic resumes work at Tesla Nevada facility, delays New York start\n",
      "Austin expected to land next Tesla Gigafactory\n",
      "Tesla plans for electrifying reveal at Battery Day\n",
      "Tesla employees face return to work dilemma\n",
      "Tesla dips after California AG chimes in\n",
      "Tesla tipped to cut Model 3 prices in China\n",
      "Tesla can reopen Fremont with additional precautions\n",
      "Tesla gains as POTUS backs Fremont opening\n",
      "Alameda doesn't handcuff Tesla\n",
      "Tesla ignores local authorities, to restart production in Fremont\n",
      "Texas pursues Tesla\n",
      "Tesla lower as relocation risk sized up\n",
      "Tesla model 3 sales in China plunge 64% in April\n",
      "Musk says Tesla is done with California\n",
      "Tesla secures lending line in China\n",
      "Tesla not yet cleared to reopen California plant\n",
      "Tesla rallies right past report of European chief exit\n",
      "Tesla set to restart operations at Fremont\n",
      "Tesla extends break at Shanghai plant\n",
      "Green shoots in China auto\n",
      "Model 3 tops the list in collapsed U.K. market\n",
      "Ferrari tops Detroit Three, Tesla tops all\n",
      "Tesla +6% with Musk tweet in rear-view mirror\n",
      "EVs remain a priority in China\n",
      "A glut for the U.S. auto industry\n",
      "Tesla applies to provide electricity in U.K.- Telegraph\n",
      "Tesla extends timeline on return to work\n",
      "Elon Musk downgrades Tesla (updated)\n",
      "Greenlight talks the longs and shorts of Q1\n",
      "Einhorn's Greenlight Capital slips again in April\n",
      "Tesla drops Model 3 prices in China for subsidy inclusion\n",
      "Einhorn barks at Musk again\n",
      "Tesla pares early pop after the dust settles\n",
      "Lockdowns are 'fascist,' says Musk, Zuckerberg disagrees\n",
      "Wedbush sees Tesla hitting 100K run rate in China\n",
      "Tesla +10% with a plan to put the pedal to the metal (updated)\n",
      "Tesla rides higher after surprise Q1 profit\n",
      "Tesla EPS beats by $1.45, beats on revenue\n",
      "Tesla Q1 2020 Earnings Preview\n",
      "Huge payday looming for Elon Musk\n",
      "Into earnings, Baird points to high-interest Energy Tech names\n",
      "Tesla reverses plan to bring workers back to Fremont plant - CNBC\n",
      "Tesla rallies even with Fremont opening date unclear\n",
      "Tesla +4% as earnings day approaches\n",
      "Tesla calling some workers back to California plant next week - Bloomberg\n",
      "Texas in the mix for Tesla plant\n",
      "Musk: Tesla will build cybertrucks wherever new factory lands\n",
      "Tesla raises China prices after subsidies cut\n",
      "Tesla's new board member likes to take on shorts\n",
      "BofA sees Tesla going in reverse\n",
      "Robinhood names top 10 stocks in March, as platform saw surging volumes\n",
      "Tesla keeps trucking higher\n",
      "Lawsuit over Elon Musk's 'funding secured' tweet moves on\n",
      "Animal spirits firing up again on Tesla\n",
      "Zoox agrees to settle lawsuit with Tesla for alleged trade secret theft\n",
      "Tesla China registrations jump with Shanghai pumping out Model 3s\n",
      "Goldman Sachs a believer in Tesla\n",
      "Joplin makes a strong play for the Midwest Gigafactory\n",
      "Auto sector burns cash with plants idled\n",
      "Credit Suisse pulls bearish view on Tesla\n",
      "Tesla pursues rent reductions amid pandemic - WSJ\n",
      "Tesla to sell more Shanghai-built versions of Model 3\n",
      "China auto starts slow crawl back\n",
      "Tesla cuts pay, furloughs hourly workers until May 4\n",
      "Tesla jumps to four-week high\n",
      "Longer range China-made Model 3\n",
      "Tesla +5% after Jefferies bump\n",
      "Tesla letting off contract workers at US car and battery plants\n",
      "Tesla +7% as investors take the longer view\n",
      "Tesla rallies after deliveries top 88K\n",
      "Cybertruck talk picks up\n",
      "Chanos covers Luckin short, warns on \"virus\" names\n",
      "Tesla seen riding out pandemic\n",
      "Tesla deliveries estimates to be dialed down\n",
      "Tesla to cut staff by 75% at Gigafactory 1\n",
      "Tesla to start delivering ventilators to NY hospitals tonight\n",
      "Tesla informs employees about positive coronavirus cases\n",
      "Giga New York to reopen for ventilator production\n",
      "Tesla shakes off bear call\n",
      "Tesla nabs ventilators from China in COVID-19 fight\n",
      "Steep drop in U.S. auto sales forecast for full year\n",
      "Automakers get green light for ventilators\n",
      "Musk discusses ventilators with Medtronic\n",
      "Panasonic pulls the plug at the Gigafactory for two weeks\n",
      "Auto sector gains even as plants go dark\n",
      "Tesla suspends production in California\n",
      "NTSB cites Tesla's Autopilot in fatal Model 3 crash\n",
      "Tesla rallies with the lights still on in Fremont\n",
      "Wedbush expects rough road for Tesla in near term\n",
      "Tesla will make ventilators if there's a shortage\n",
      "Tesla keeping Fremont plant open with fraction of workers - Sheriff\n",
      "Detroit automakers close U.S. plants while Tesla holds out\n",
      "Tesla -10% as Fremont production in question\n",
      "Tesla plant not considered an essential Bay Area business\n",
      "Morgan Stanley stress tests auto\n",
      "Tesla to stay running in Fremont\n",
      "Tesla delivers its first Model Y\n",
      "RBC expects 20% decline in US vehicle sales amid coronavirus outbreak\n",
      "Bernstein still sees Tesla as overvalued\n",
      "Transports reeling after U.S. shutdowns\n",
      "Tesla falls sharply as U.S. coronavirus anxiety ramps up\n",
      "U.S. auto set to zoom higher\n",
      "Tesla posts double-digit drop\n",
      "Auto stocks slammed in early trading\n",
      "Tesla looks to build Cybertruck in central U.S.\n",
      "Tesla said to lose key Model 3 exec\n",
      "Cheap gas not seen disrupting EV transformation\n",
      "Tesla makes one millionth car\n",
      "Tesla plans to hike Shanghai factory's car parts production - Reuters\n",
      "The auto sector spins out\n",
      "Tesla -11% as investors take risk off the table\n",
      "Top investor says Tesla is 'better run' after shakeup\n",
      "Tesla gets green light in China for longer-range Model 3\n",
      "Wedbush sees GM as serious player in EVs\n",
      "GM is Morgan Stanley's top pick in auto\n",
      "Tesla +7% after landing JMP Securities upgrade\n",
      "Cybertruck passes early test with construction pros\n",
      "Consumer favorites have a week to forget\n",
      "Tesla continues to slide\n",
      "Tesla, Panasonic end solar deal in New York\n",
      "Tesla slammed at NTSB hearing\n",
      "Tesla -7% as coronavirus cases climb\n",
      "China auto deliveries come to a standstill\n",
      "Clearing operations resume at Giga Berlin\n",
      "Consumer high-flyers hit a mid-day tripwire\n",
      "Tesla rally powers up again\n",
      "Tesla rally keeps analysts scrambling\n",
      "Renaissance Technologies rides Tesla rally\n",
      "Tesla looks at cobalt-free batteries\n",
      "Court halts forest clearance for Giga Berlin\n",
      "Loup Ventures sees Tesla in the EV pole position\n",
      "Tesla acknowledges 'health epidemics' as risk in filing\n",
      "Tesla pricing $2B offering at $767/share - Bloomberg\n",
      "Tesla's capital raise called a smart move\n",
      "Tesla discloses new subpoena\n",
      "Tesla hits the capital raise button\n",
      "Tesla recalls 15K Model X SUVs over power steering issue\n",
      "Tesla crashes placed on NTSB docket\n",
      "Tesla +7% as Shanghai workers roll in\n",
      "Automakers look to restart production in China\n",
      "Giga Berlin eligible for state subsidies\n",
      "Tesla aims for restart in Shanghai next week\n",
      "Tesla continues slide as China slowdown factors in\n",
      "Tesla -18% as selling picks up\n",
      "Tesla tumbling after confirming China deliveries delay\n",
      "Canaccord downgrades Tesla after sizzling rally\n",
      "Musk asks Twitter about 'Giga Texas'\n",
      "Tesla rally takes a breather into the close\n",
      "Tesla goes parabolic; Citron says even Musk might short here\n",
      "Tesla makes a run at $900\n",
      "Tesla tops $800 on boost from Panasonic JV\n",
      "Tesla soars on China growth conviction\n",
      "Tesla burns rubber again\n",
      "CATL confirms Tesla supply deal\n",
      "Tesla +8% as analysts try to keep up\n",
      "Tesla promises quick ramp for Model Y as shares surge\n",
      "Wedbush sees Tesla cruising to 1M deliveries\n",
      "Tesla blasts through $600 after big earnings beat\n",
      "Tesla EPS beats by $0.38, beats on revenue\n",
      "WWII bombs defused at Tesla's German site\n",
      "Tesla Q4 2019 Earnings Preview\n",
      "What to watch in Tesla's Q4 report\n",
      "China anxiety dents auto sector\n",
      "Rivian looks to crash EV party\n",
      "U.S. Senator takes dig at Tesla's Autopilot\n",
      "UBS note on Tesla scratches heads\n",
      "Tesla faces new suit over acceleration\n",
      "Wedbush confident on Tesla ahead of earnings\n",
      "Tesla joins $100B club, tops Volkswagen\n",
      "Tesla breaks through in Michigan\n",
      "Analysts upshift and downshift on Tesla\n",
      "Tesla blasts U.S. safety recall petition\n",
      "Tesla secures land for European factory\n",
      "Tesla unintended acceleration complaints to come under NHTSA scrutiny\n",
      "Tesla cools off after Morgan Stanley turns bearish\n",
      "New Tesla registrations nearly halve in California\n",
      "Tesla looks to Glencore for cobalt\n",
      "U.S. auto sales forecast to fall slightly in 2020\n",
      "Tesla rally finds a new gear\n",
      "Tesla races past $500\n",
      "Israel grounds Tesla's Autopilot - Calcalist\n",
      "Tesla PT hiked to $553 at Piper Sandler on China growth potential\n",
      "Noted Tesla bull says take profits here\n",
      "Slow roll for Toyota in EVs?\n",
      "Tesla price target hiked to Street-high $556 by Argus\n",
      "Tesla spirals to record market cap for U.S. automaker\n",
      "Sony shocks at CES with electric car concept\n",
      "Credit Suisse stays in bear camp on Tesla\n",
      "Model Y program launches in Shanghai\n",
      "Model Y expected to be mentioned at Tesla event tomorrow\n",
      "Tesla rises to record high after beating Q4 delivery guidance\n",
      "Auto sector hits the skids\n",
      "Wedbush calls China the Tesla wildcard\n",
      "Tesla +1% after topping Q4 deliveries expectations\n",
      "Record year for Tesla in Norway\n",
      "Tesla slashes price of China-made Model 3\n",
      "Canaccord Genuity fires off Street-high PT on Tesla\n",
      "First customers to receive China-made Model 3s\n",
      "Tesla faces lawsuit claiming racism\n",
      "Tesla Shanghai producing 1,000 cars a week\n",
      "Tesla -4% as bull/bear debate rages into 2020\n"
     ]
    }
   ],
   "source": [
    "for r,l in df.iterrows():\n",
    "    print(l[1])"
   ]
  },
  {
   "cell_type": "code",
   "execution_count": 358,
   "metadata": {},
   "outputs": [
    {
     "ename": "FileNotFoundError",
     "evalue": "[Errno 2] No such file or directory: './data/TSLA_history/Tesla pricing $2B offering at $767/share - Bloomberg'",
     "output_type": "error",
     "traceback": [
      "\u001b[0;31m---------------------------------------------------------------------------\u001b[0m",
      "\u001b[0;31mFileNotFoundError\u001b[0m                         Traceback (most recent call last)",
      "\u001b[0;32m<ipython-input-358-4443e23ccac5>\u001b[0m in \u001b[0;36m<module>\u001b[0;34m\u001b[0m\n\u001b[1;32m      2\u001b[0m \u001b[0;32mfor\u001b[0m \u001b[0mr\u001b[0m\u001b[0;34m,\u001b[0m\u001b[0ml\u001b[0m \u001b[0;32min\u001b[0m \u001b[0mdf\u001b[0m\u001b[0;34m.\u001b[0m\u001b[0miterrows\u001b[0m\u001b[0;34m(\u001b[0m\u001b[0;34m)\u001b[0m\u001b[0;34m:\u001b[0m\u001b[0;34m\u001b[0m\u001b[0;34m\u001b[0m\u001b[0m\n\u001b[1;32m      3\u001b[0m     \u001b[0mdriver\u001b[0m\u001b[0;34m.\u001b[0m\u001b[0mget\u001b[0m\u001b[0;34m(\u001b[0m\u001b[0ml\u001b[0m\u001b[0;34m[\u001b[0m\u001b[0;36m2\u001b[0m\u001b[0;34m]\u001b[0m\u001b[0;34m)\u001b[0m\u001b[0;34m\u001b[0m\u001b[0;34m\u001b[0m\u001b[0m\n\u001b[0;32m----> 4\u001b[0;31m     \u001b[0;32mwith\u001b[0m \u001b[0mopen\u001b[0m\u001b[0;34m(\u001b[0m\u001b[0;34mf\"./data/{ticker}_history/{l[1]}\"\u001b[0m\u001b[0;34m,\u001b[0m \u001b[0;34m\"w\"\u001b[0m\u001b[0;34m)\u001b[0m \u001b[0;32mas\u001b[0m \u001b[0mf\u001b[0m\u001b[0;34m:\u001b[0m\u001b[0;34m\u001b[0m\u001b[0;34m\u001b[0m\u001b[0m\n\u001b[0m\u001b[1;32m      5\u001b[0m         \u001b[0mf\u001b[0m\u001b[0;34m.\u001b[0m\u001b[0mwrite\u001b[0m\u001b[0;34m(\u001b[0m\u001b[0mdriver\u001b[0m\u001b[0;34m.\u001b[0m\u001b[0mpage_source\u001b[0m\u001b[0;34m)\u001b[0m\u001b[0;34m\u001b[0m\u001b[0;34m\u001b[0m\u001b[0m\n\u001b[1;32m      6\u001b[0m \u001b[0mdriver\u001b[0m\u001b[0;34m.\u001b[0m\u001b[0mclose\u001b[0m\u001b[0;34m(\u001b[0m\u001b[0;34m)\u001b[0m\u001b[0;34m\u001b[0m\u001b[0;34m\u001b[0m\u001b[0m\n",
      "\u001b[0;31mFileNotFoundError\u001b[0m: [Errno 2] No such file or directory: './data/TSLA_history/Tesla pricing $2B offering at $767/share - Bloomberg'"
     ]
    }
   ],
   "source": [
    "driver = webdriver.Chrome('./chromedriver')\n",
    "for r,l in df.iterrows():\n",
    "    driver.get(l[2])\n",
    "    with open(f\"./data/{ticker}_history/{l[1]}\", \"w\") as f:\n",
    "        f.write(driver.page_source)\n",
    "driver.close()\n",
    "\n"
   ]
  },
  {
   "cell_type": "code",
   "execution_count": 339,
   "metadata": {},
   "outputs": [],
   "source": [
    "# open the browser\n",
    "driver = webdriver.Chrome('./chromedriver')\n",
    "\n",
    "def qurom(df):\n",
    "    #start a list of the articles\n",
    "    art_list = []\n",
    "    # grap the comments while I'm here\n",
    "    comments = []\n",
    "    # for loop to go through each of the links and grab the articles\n",
    "    for l in df['href']:\n",
    "        driver.get(l)\n",
    "        driver.implicitly_wait(10)\n",
    "        try: \n",
    "            article = driver.find_element_by_id(\"content-rail\")\n",
    "        except:\n",
    "            article = driver.find_element_by_id(\"a-cont\")\n",
    "        else:\n",
    "            print(f'skipped {l}')\n",
    "        # The Article has comments, which for now I am going to take out. This code will separate the article into two sections with \"Like this article\" as the separator\n",
    "        sep = 'Recommended for you:'\n",
    "        art_list.append(article.text.split(sep,1)[0])\n",
    "        try: \n",
    "            comments.append(article.text.split(sep,1)[1])\n",
    "        except:\n",
    "            comments.append('not available')\n",
    "    df['article'] = art_list\n",
    "    df['comments'] = comments\n",
    "    return df"
   ]
  },
  {
   "cell_type": "code",
   "execution_count": null,
   "metadata": {},
   "outputs": [],
   "source": []
  },
  {
   "cell_type": "code",
   "execution_count": 340,
   "metadata": {},
   "outputs": [
    {
     "ename": "NoSuchElementException",
     "evalue": "Message: no such element: Unable to locate element: {\"method\":\"css selector\",\"selector\":\"[id=\"a-cont\"]\"}\n  (Session info: chrome=83.0.4103.116)\n",
     "output_type": "error",
     "traceback": [
      "\u001b[0;31m---------------------------------------------------------------------------\u001b[0m",
      "\u001b[0;31mNoSuchElementException\u001b[0m                    Traceback (most recent call last)",
      "\u001b[0;32m<ipython-input-339-26ca99a0e1f3>\u001b[0m in \u001b[0;36mqurom\u001b[0;34m(df)\u001b[0m\n\u001b[1;32m     13\u001b[0m         \u001b[0;32mtry\u001b[0m\u001b[0;34m:\u001b[0m\u001b[0;34m\u001b[0m\u001b[0;34m\u001b[0m\u001b[0m\n\u001b[0;32m---> 14\u001b[0;31m             \u001b[0marticle\u001b[0m \u001b[0;34m=\u001b[0m \u001b[0mdriver\u001b[0m\u001b[0;34m.\u001b[0m\u001b[0mfind_element_by_id\u001b[0m\u001b[0;34m(\u001b[0m\u001b[0;34m\"content-rail\"\u001b[0m\u001b[0;34m)\u001b[0m\u001b[0;34m\u001b[0m\u001b[0;34m\u001b[0m\u001b[0m\n\u001b[0m\u001b[1;32m     15\u001b[0m         \u001b[0;32mexcept\u001b[0m\u001b[0;34m:\u001b[0m\u001b[0;34m\u001b[0m\u001b[0;34m\u001b[0m\u001b[0m\n",
      "\u001b[0;32m~/opt/anaconda3/envs/dsi/lib/python3.7/site-packages/selenium/webdriver/remote/webdriver.py\u001b[0m in \u001b[0;36mfind_element_by_id\u001b[0;34m(self, id_)\u001b[0m\n\u001b[1;32m    359\u001b[0m         \"\"\"\n\u001b[0;32m--> 360\u001b[0;31m         \u001b[0;32mreturn\u001b[0m \u001b[0mself\u001b[0m\u001b[0;34m.\u001b[0m\u001b[0mfind_element\u001b[0m\u001b[0;34m(\u001b[0m\u001b[0mby\u001b[0m\u001b[0;34m=\u001b[0m\u001b[0mBy\u001b[0m\u001b[0;34m.\u001b[0m\u001b[0mID\u001b[0m\u001b[0;34m,\u001b[0m \u001b[0mvalue\u001b[0m\u001b[0;34m=\u001b[0m\u001b[0mid_\u001b[0m\u001b[0;34m)\u001b[0m\u001b[0;34m\u001b[0m\u001b[0;34m\u001b[0m\u001b[0m\n\u001b[0m\u001b[1;32m    361\u001b[0m \u001b[0;34m\u001b[0m\u001b[0m\n",
      "\u001b[0;32m~/opt/anaconda3/envs/dsi/lib/python3.7/site-packages/selenium/webdriver/remote/webdriver.py\u001b[0m in \u001b[0;36mfind_element\u001b[0;34m(self, by, value)\u001b[0m\n\u001b[1;32m    977\u001b[0m             \u001b[0;34m'using'\u001b[0m\u001b[0;34m:\u001b[0m \u001b[0mby\u001b[0m\u001b[0;34m,\u001b[0m\u001b[0;34m\u001b[0m\u001b[0;34m\u001b[0m\u001b[0m\n\u001b[0;32m--> 978\u001b[0;31m             'value': value})['value']\n\u001b[0m\u001b[1;32m    979\u001b[0m \u001b[0;34m\u001b[0m\u001b[0m\n",
      "\u001b[0;32m~/opt/anaconda3/envs/dsi/lib/python3.7/site-packages/selenium/webdriver/remote/webdriver.py\u001b[0m in \u001b[0;36mexecute\u001b[0;34m(self, driver_command, params)\u001b[0m\n\u001b[1;32m    320\u001b[0m         \u001b[0;32mif\u001b[0m \u001b[0mresponse\u001b[0m\u001b[0;34m:\u001b[0m\u001b[0;34m\u001b[0m\u001b[0;34m\u001b[0m\u001b[0m\n\u001b[0;32m--> 321\u001b[0;31m             \u001b[0mself\u001b[0m\u001b[0;34m.\u001b[0m\u001b[0merror_handler\u001b[0m\u001b[0;34m.\u001b[0m\u001b[0mcheck_response\u001b[0m\u001b[0;34m(\u001b[0m\u001b[0mresponse\u001b[0m\u001b[0;34m)\u001b[0m\u001b[0;34m\u001b[0m\u001b[0;34m\u001b[0m\u001b[0m\n\u001b[0m\u001b[1;32m    322\u001b[0m             response['value'] = self._unwrap_value(\n",
      "\u001b[0;32m~/opt/anaconda3/envs/dsi/lib/python3.7/site-packages/selenium/webdriver/remote/errorhandler.py\u001b[0m in \u001b[0;36mcheck_response\u001b[0;34m(self, response)\u001b[0m\n\u001b[1;32m    241\u001b[0m             \u001b[0;32mraise\u001b[0m \u001b[0mexception_class\u001b[0m\u001b[0;34m(\u001b[0m\u001b[0mmessage\u001b[0m\u001b[0;34m,\u001b[0m \u001b[0mscreen\u001b[0m\u001b[0;34m,\u001b[0m \u001b[0mstacktrace\u001b[0m\u001b[0;34m,\u001b[0m \u001b[0malert_text\u001b[0m\u001b[0;34m)\u001b[0m\u001b[0;34m\u001b[0m\u001b[0;34m\u001b[0m\u001b[0m\n\u001b[0;32m--> 242\u001b[0;31m         \u001b[0;32mraise\u001b[0m \u001b[0mexception_class\u001b[0m\u001b[0;34m(\u001b[0m\u001b[0mmessage\u001b[0m\u001b[0;34m,\u001b[0m \u001b[0mscreen\u001b[0m\u001b[0;34m,\u001b[0m \u001b[0mstacktrace\u001b[0m\u001b[0;34m)\u001b[0m\u001b[0;34m\u001b[0m\u001b[0;34m\u001b[0m\u001b[0m\n\u001b[0m\u001b[1;32m    243\u001b[0m \u001b[0;34m\u001b[0m\u001b[0m\n",
      "\u001b[0;31mNoSuchElementException\u001b[0m: Message: no such element: Unable to locate element: {\"method\":\"css selector\",\"selector\":\"[id=\"content-rail\"]\"}\n  (Session info: chrome=83.0.4103.116)\n",
      "\nDuring handling of the above exception, another exception occurred:\n",
      "\u001b[0;31mNoSuchElementException\u001b[0m                    Traceback (most recent call last)",
      "\u001b[0;32m<ipython-input-340-9306cf97ea1e>\u001b[0m in \u001b[0;36m<module>\u001b[0;34m\u001b[0m\n\u001b[0;32m----> 1\u001b[0;31m \u001b[0mdf2\u001b[0m \u001b[0;34m=\u001b[0m \u001b[0mqurom\u001b[0m\u001b[0;34m(\u001b[0m\u001b[0mdf\u001b[0m\u001b[0;34m)\u001b[0m\u001b[0;34m\u001b[0m\u001b[0;34m\u001b[0m\u001b[0m\n\u001b[0m\u001b[1;32m      2\u001b[0m \u001b[0;31m# df.to_csv(f'./data/{ticker}.csv', index = False)\u001b[0m\u001b[0;34m\u001b[0m\u001b[0;34m\u001b[0m\u001b[0;34m\u001b[0m\u001b[0m\n\u001b[1;32m      3\u001b[0m \u001b[0;34m\u001b[0m\u001b[0m\n\u001b[1;32m      4\u001b[0m \u001b[0;31m# close the browser\u001b[0m\u001b[0;34m\u001b[0m\u001b[0;34m\u001b[0m\u001b[0;34m\u001b[0m\u001b[0m\n",
      "\u001b[0;32m<ipython-input-339-26ca99a0e1f3>\u001b[0m in \u001b[0;36mqurom\u001b[0;34m(df)\u001b[0m\n\u001b[1;32m     14\u001b[0m             \u001b[0marticle\u001b[0m \u001b[0;34m=\u001b[0m \u001b[0mdriver\u001b[0m\u001b[0;34m.\u001b[0m\u001b[0mfind_element_by_id\u001b[0m\u001b[0;34m(\u001b[0m\u001b[0;34m\"content-rail\"\u001b[0m\u001b[0;34m)\u001b[0m\u001b[0;34m\u001b[0m\u001b[0;34m\u001b[0m\u001b[0m\n\u001b[1;32m     15\u001b[0m         \u001b[0;32mexcept\u001b[0m\u001b[0;34m:\u001b[0m\u001b[0;34m\u001b[0m\u001b[0;34m\u001b[0m\u001b[0m\n\u001b[0;32m---> 16\u001b[0;31m             \u001b[0marticle\u001b[0m \u001b[0;34m=\u001b[0m \u001b[0mdriver\u001b[0m\u001b[0;34m.\u001b[0m\u001b[0mfind_element_by_id\u001b[0m\u001b[0;34m(\u001b[0m\u001b[0;34m\"a-cont\"\u001b[0m\u001b[0;34m)\u001b[0m\u001b[0;34m\u001b[0m\u001b[0;34m\u001b[0m\u001b[0m\n\u001b[0m\u001b[1;32m     17\u001b[0m         \u001b[0;32melse\u001b[0m\u001b[0;34m:\u001b[0m\u001b[0;34m\u001b[0m\u001b[0;34m\u001b[0m\u001b[0m\n\u001b[1;32m     18\u001b[0m             \u001b[0mprint\u001b[0m\u001b[0;34m(\u001b[0m\u001b[0;34mf'skipped {l}'\u001b[0m\u001b[0;34m)\u001b[0m\u001b[0;34m\u001b[0m\u001b[0;34m\u001b[0m\u001b[0m\n",
      "\u001b[0;32m~/opt/anaconda3/envs/dsi/lib/python3.7/site-packages/selenium/webdriver/remote/webdriver.py\u001b[0m in \u001b[0;36mfind_element_by_id\u001b[0;34m(self, id_)\u001b[0m\n\u001b[1;32m    358\u001b[0m             \u001b[0melement\u001b[0m \u001b[0;34m=\u001b[0m \u001b[0mdriver\u001b[0m\u001b[0;34m.\u001b[0m\u001b[0mfind_element_by_id\u001b[0m\u001b[0;34m(\u001b[0m\u001b[0;34m'foo'\u001b[0m\u001b[0;34m)\u001b[0m\u001b[0;34m\u001b[0m\u001b[0;34m\u001b[0m\u001b[0m\n\u001b[1;32m    359\u001b[0m         \"\"\"\n\u001b[0;32m--> 360\u001b[0;31m         \u001b[0;32mreturn\u001b[0m \u001b[0mself\u001b[0m\u001b[0;34m.\u001b[0m\u001b[0mfind_element\u001b[0m\u001b[0;34m(\u001b[0m\u001b[0mby\u001b[0m\u001b[0;34m=\u001b[0m\u001b[0mBy\u001b[0m\u001b[0;34m.\u001b[0m\u001b[0mID\u001b[0m\u001b[0;34m,\u001b[0m \u001b[0mvalue\u001b[0m\u001b[0;34m=\u001b[0m\u001b[0mid_\u001b[0m\u001b[0;34m)\u001b[0m\u001b[0;34m\u001b[0m\u001b[0;34m\u001b[0m\u001b[0m\n\u001b[0m\u001b[1;32m    361\u001b[0m \u001b[0;34m\u001b[0m\u001b[0m\n\u001b[1;32m    362\u001b[0m     \u001b[0;32mdef\u001b[0m \u001b[0mfind_elements_by_id\u001b[0m\u001b[0;34m(\u001b[0m\u001b[0mself\u001b[0m\u001b[0;34m,\u001b[0m \u001b[0mid_\u001b[0m\u001b[0;34m)\u001b[0m\u001b[0;34m:\u001b[0m\u001b[0;34m\u001b[0m\u001b[0;34m\u001b[0m\u001b[0m\n",
      "\u001b[0;32m~/opt/anaconda3/envs/dsi/lib/python3.7/site-packages/selenium/webdriver/remote/webdriver.py\u001b[0m in \u001b[0;36mfind_element\u001b[0;34m(self, by, value)\u001b[0m\n\u001b[1;32m    976\u001b[0m         return self.execute(Command.FIND_ELEMENT, {\n\u001b[1;32m    977\u001b[0m             \u001b[0;34m'using'\u001b[0m\u001b[0;34m:\u001b[0m \u001b[0mby\u001b[0m\u001b[0;34m,\u001b[0m\u001b[0;34m\u001b[0m\u001b[0;34m\u001b[0m\u001b[0m\n\u001b[0;32m--> 978\u001b[0;31m             'value': value})['value']\n\u001b[0m\u001b[1;32m    979\u001b[0m \u001b[0;34m\u001b[0m\u001b[0m\n\u001b[1;32m    980\u001b[0m     \u001b[0;32mdef\u001b[0m \u001b[0mfind_elements\u001b[0m\u001b[0;34m(\u001b[0m\u001b[0mself\u001b[0m\u001b[0;34m,\u001b[0m \u001b[0mby\u001b[0m\u001b[0;34m=\u001b[0m\u001b[0mBy\u001b[0m\u001b[0;34m.\u001b[0m\u001b[0mID\u001b[0m\u001b[0;34m,\u001b[0m \u001b[0mvalue\u001b[0m\u001b[0;34m=\u001b[0m\u001b[0;32mNone\u001b[0m\u001b[0;34m)\u001b[0m\u001b[0;34m:\u001b[0m\u001b[0;34m\u001b[0m\u001b[0;34m\u001b[0m\u001b[0m\n",
      "\u001b[0;32m~/opt/anaconda3/envs/dsi/lib/python3.7/site-packages/selenium/webdriver/remote/webdriver.py\u001b[0m in \u001b[0;36mexecute\u001b[0;34m(self, driver_command, params)\u001b[0m\n\u001b[1;32m    319\u001b[0m         \u001b[0mresponse\u001b[0m \u001b[0;34m=\u001b[0m \u001b[0mself\u001b[0m\u001b[0;34m.\u001b[0m\u001b[0mcommand_executor\u001b[0m\u001b[0;34m.\u001b[0m\u001b[0mexecute\u001b[0m\u001b[0;34m(\u001b[0m\u001b[0mdriver_command\u001b[0m\u001b[0;34m,\u001b[0m \u001b[0mparams\u001b[0m\u001b[0;34m)\u001b[0m\u001b[0;34m\u001b[0m\u001b[0;34m\u001b[0m\u001b[0m\n\u001b[1;32m    320\u001b[0m         \u001b[0;32mif\u001b[0m \u001b[0mresponse\u001b[0m\u001b[0;34m:\u001b[0m\u001b[0;34m\u001b[0m\u001b[0;34m\u001b[0m\u001b[0m\n\u001b[0;32m--> 321\u001b[0;31m             \u001b[0mself\u001b[0m\u001b[0;34m.\u001b[0m\u001b[0merror_handler\u001b[0m\u001b[0;34m.\u001b[0m\u001b[0mcheck_response\u001b[0m\u001b[0;34m(\u001b[0m\u001b[0mresponse\u001b[0m\u001b[0;34m)\u001b[0m\u001b[0;34m\u001b[0m\u001b[0;34m\u001b[0m\u001b[0m\n\u001b[0m\u001b[1;32m    322\u001b[0m             response['value'] = self._unwrap_value(\n\u001b[1;32m    323\u001b[0m                 response.get('value', None))\n",
      "\u001b[0;32m~/opt/anaconda3/envs/dsi/lib/python3.7/site-packages/selenium/webdriver/remote/errorhandler.py\u001b[0m in \u001b[0;36mcheck_response\u001b[0;34m(self, response)\u001b[0m\n\u001b[1;32m    240\u001b[0m                 \u001b[0malert_text\u001b[0m \u001b[0;34m=\u001b[0m \u001b[0mvalue\u001b[0m\u001b[0;34m[\u001b[0m\u001b[0;34m'alert'\u001b[0m\u001b[0;34m]\u001b[0m\u001b[0;34m.\u001b[0m\u001b[0mget\u001b[0m\u001b[0;34m(\u001b[0m\u001b[0;34m'text'\u001b[0m\u001b[0;34m)\u001b[0m\u001b[0;34m\u001b[0m\u001b[0;34m\u001b[0m\u001b[0m\n\u001b[1;32m    241\u001b[0m             \u001b[0;32mraise\u001b[0m \u001b[0mexception_class\u001b[0m\u001b[0;34m(\u001b[0m\u001b[0mmessage\u001b[0m\u001b[0;34m,\u001b[0m \u001b[0mscreen\u001b[0m\u001b[0;34m,\u001b[0m \u001b[0mstacktrace\u001b[0m\u001b[0;34m,\u001b[0m \u001b[0malert_text\u001b[0m\u001b[0;34m)\u001b[0m\u001b[0;34m\u001b[0m\u001b[0;34m\u001b[0m\u001b[0m\n\u001b[0;32m--> 242\u001b[0;31m         \u001b[0;32mraise\u001b[0m \u001b[0mexception_class\u001b[0m\u001b[0;34m(\u001b[0m\u001b[0mmessage\u001b[0m\u001b[0;34m,\u001b[0m \u001b[0mscreen\u001b[0m\u001b[0;34m,\u001b[0m \u001b[0mstacktrace\u001b[0m\u001b[0;34m)\u001b[0m\u001b[0;34m\u001b[0m\u001b[0;34m\u001b[0m\u001b[0m\n\u001b[0m\u001b[1;32m    243\u001b[0m \u001b[0;34m\u001b[0m\u001b[0m\n\u001b[1;32m    244\u001b[0m     \u001b[0;32mdef\u001b[0m \u001b[0m_value_or_default\u001b[0m\u001b[0;34m(\u001b[0m\u001b[0mself\u001b[0m\u001b[0;34m,\u001b[0m \u001b[0mobj\u001b[0m\u001b[0;34m,\u001b[0m \u001b[0mkey\u001b[0m\u001b[0;34m,\u001b[0m \u001b[0mdefault\u001b[0m\u001b[0;34m)\u001b[0m\u001b[0;34m:\u001b[0m\u001b[0;34m\u001b[0m\u001b[0;34m\u001b[0m\u001b[0m\n",
      "\u001b[0;31mNoSuchElementException\u001b[0m: Message: no such element: Unable to locate element: {\"method\":\"css selector\",\"selector\":\"[id=\"a-cont\"]\"}\n  (Session info: chrome=83.0.4103.116)\n"
     ]
    }
   ],
   "source": [
    "df2 = qurom(df)\n",
    "# df.to_csv(f'./data/{ticker}.csv', index = False)\n",
    "\n",
    "# close the browser\n"
   ]
  },
  {
   "cell_type": "code",
   "execution_count": 338,
   "metadata": {},
   "outputs": [],
   "source": [
    "driver.close()\n"
   ]
  },
  {
   "cell_type": "code",
   "execution_count": 247,
   "metadata": {},
   "outputs": [
    {
     "ename": "KeyError",
     "evalue": "\"['text'] not found in axis\"",
     "output_type": "error",
     "traceback": [
      "\u001b[0;31m---------------------------------------------------------------------------\u001b[0m",
      "\u001b[0;31mKeyError\u001b[0m                                  Traceback (most recent call last)",
      "\u001b[0;32m<ipython-input-247-c7a6f2514abe>\u001b[0m in \u001b[0;36m<module>\u001b[0;34m\u001b[0m\n\u001b[0;32m----> 1\u001b[0;31m \u001b[0mdf3\u001b[0m \u001b[0;34m=\u001b[0m \u001b[0mdf2\u001b[0m\u001b[0;34m.\u001b[0m\u001b[0mdrop\u001b[0m\u001b[0;34m(\u001b[0m\u001b[0;34m'text'\u001b[0m\u001b[0;34m,\u001b[0m \u001b[0maxis\u001b[0m\u001b[0;34m=\u001b[0m\u001b[0;36m1\u001b[0m\u001b[0;34m,\u001b[0m \u001b[0minplace\u001b[0m\u001b[0;34m=\u001b[0m\u001b[0;32mTrue\u001b[0m\u001b[0;34m)\u001b[0m\u001b[0;34m\u001b[0m\u001b[0;34m\u001b[0m\u001b[0m\n\u001b[0m\u001b[1;32m      2\u001b[0m \u001b[0mdf3\u001b[0m\u001b[0;34m.\u001b[0m\u001b[0mto_csv\u001b[0m\u001b[0;34m(\u001b[0m\u001b[0;34mf'./data/{ticker}.csv'\u001b[0m\u001b[0;34m,\u001b[0m \u001b[0mindex\u001b[0m \u001b[0;34m=\u001b[0m \u001b[0;32mFalse\u001b[0m\u001b[0;34m)\u001b[0m\u001b[0;34m\u001b[0m\u001b[0;34m\u001b[0m\u001b[0m\n",
      "\u001b[0;32m~/opt/anaconda3/envs/dsi/lib/python3.7/site-packages/pandas/core/frame.py\u001b[0m in \u001b[0;36mdrop\u001b[0;34m(self, labels, axis, index, columns, level, inplace, errors)\u001b[0m\n\u001b[1;32m   3995\u001b[0m             \u001b[0mlevel\u001b[0m\u001b[0;34m=\u001b[0m\u001b[0mlevel\u001b[0m\u001b[0;34m,\u001b[0m\u001b[0;34m\u001b[0m\u001b[0;34m\u001b[0m\u001b[0m\n\u001b[1;32m   3996\u001b[0m             \u001b[0minplace\u001b[0m\u001b[0;34m=\u001b[0m\u001b[0minplace\u001b[0m\u001b[0;34m,\u001b[0m\u001b[0;34m\u001b[0m\u001b[0;34m\u001b[0m\u001b[0m\n\u001b[0;32m-> 3997\u001b[0;31m             \u001b[0merrors\u001b[0m\u001b[0;34m=\u001b[0m\u001b[0merrors\u001b[0m\u001b[0;34m,\u001b[0m\u001b[0;34m\u001b[0m\u001b[0;34m\u001b[0m\u001b[0m\n\u001b[0m\u001b[1;32m   3998\u001b[0m         )\n\u001b[1;32m   3999\u001b[0m \u001b[0;34m\u001b[0m\u001b[0m\n",
      "\u001b[0;32m~/opt/anaconda3/envs/dsi/lib/python3.7/site-packages/pandas/core/generic.py\u001b[0m in \u001b[0;36mdrop\u001b[0;34m(self, labels, axis, index, columns, level, inplace, errors)\u001b[0m\n\u001b[1;32m   3934\u001b[0m         \u001b[0;32mfor\u001b[0m \u001b[0maxis\u001b[0m\u001b[0;34m,\u001b[0m \u001b[0mlabels\u001b[0m \u001b[0;32min\u001b[0m \u001b[0maxes\u001b[0m\u001b[0;34m.\u001b[0m\u001b[0mitems\u001b[0m\u001b[0;34m(\u001b[0m\u001b[0;34m)\u001b[0m\u001b[0;34m:\u001b[0m\u001b[0;34m\u001b[0m\u001b[0;34m\u001b[0m\u001b[0m\n\u001b[1;32m   3935\u001b[0m             \u001b[0;32mif\u001b[0m \u001b[0mlabels\u001b[0m \u001b[0;32mis\u001b[0m \u001b[0;32mnot\u001b[0m \u001b[0;32mNone\u001b[0m\u001b[0;34m:\u001b[0m\u001b[0;34m\u001b[0m\u001b[0;34m\u001b[0m\u001b[0m\n\u001b[0;32m-> 3936\u001b[0;31m                 \u001b[0mobj\u001b[0m \u001b[0;34m=\u001b[0m \u001b[0mobj\u001b[0m\u001b[0;34m.\u001b[0m\u001b[0m_drop_axis\u001b[0m\u001b[0;34m(\u001b[0m\u001b[0mlabels\u001b[0m\u001b[0;34m,\u001b[0m \u001b[0maxis\u001b[0m\u001b[0;34m,\u001b[0m \u001b[0mlevel\u001b[0m\u001b[0;34m=\u001b[0m\u001b[0mlevel\u001b[0m\u001b[0;34m,\u001b[0m \u001b[0merrors\u001b[0m\u001b[0;34m=\u001b[0m\u001b[0merrors\u001b[0m\u001b[0;34m)\u001b[0m\u001b[0;34m\u001b[0m\u001b[0;34m\u001b[0m\u001b[0m\n\u001b[0m\u001b[1;32m   3937\u001b[0m \u001b[0;34m\u001b[0m\u001b[0m\n\u001b[1;32m   3938\u001b[0m         \u001b[0;32mif\u001b[0m \u001b[0minplace\u001b[0m\u001b[0;34m:\u001b[0m\u001b[0;34m\u001b[0m\u001b[0;34m\u001b[0m\u001b[0m\n",
      "\u001b[0;32m~/opt/anaconda3/envs/dsi/lib/python3.7/site-packages/pandas/core/generic.py\u001b[0m in \u001b[0;36m_drop_axis\u001b[0;34m(self, labels, axis, level, errors)\u001b[0m\n\u001b[1;32m   3968\u001b[0m                 \u001b[0mnew_axis\u001b[0m \u001b[0;34m=\u001b[0m \u001b[0maxis\u001b[0m\u001b[0;34m.\u001b[0m\u001b[0mdrop\u001b[0m\u001b[0;34m(\u001b[0m\u001b[0mlabels\u001b[0m\u001b[0;34m,\u001b[0m \u001b[0mlevel\u001b[0m\u001b[0;34m=\u001b[0m\u001b[0mlevel\u001b[0m\u001b[0;34m,\u001b[0m \u001b[0merrors\u001b[0m\u001b[0;34m=\u001b[0m\u001b[0merrors\u001b[0m\u001b[0;34m)\u001b[0m\u001b[0;34m\u001b[0m\u001b[0;34m\u001b[0m\u001b[0m\n\u001b[1;32m   3969\u001b[0m             \u001b[0;32melse\u001b[0m\u001b[0;34m:\u001b[0m\u001b[0;34m\u001b[0m\u001b[0;34m\u001b[0m\u001b[0m\n\u001b[0;32m-> 3970\u001b[0;31m                 \u001b[0mnew_axis\u001b[0m \u001b[0;34m=\u001b[0m \u001b[0maxis\u001b[0m\u001b[0;34m.\u001b[0m\u001b[0mdrop\u001b[0m\u001b[0;34m(\u001b[0m\u001b[0mlabels\u001b[0m\u001b[0;34m,\u001b[0m \u001b[0merrors\u001b[0m\u001b[0;34m=\u001b[0m\u001b[0merrors\u001b[0m\u001b[0;34m)\u001b[0m\u001b[0;34m\u001b[0m\u001b[0;34m\u001b[0m\u001b[0m\n\u001b[0m\u001b[1;32m   3971\u001b[0m             \u001b[0mresult\u001b[0m \u001b[0;34m=\u001b[0m \u001b[0mself\u001b[0m\u001b[0;34m.\u001b[0m\u001b[0mreindex\u001b[0m\u001b[0;34m(\u001b[0m\u001b[0;34m**\u001b[0m\u001b[0;34m{\u001b[0m\u001b[0maxis_name\u001b[0m\u001b[0;34m:\u001b[0m \u001b[0mnew_axis\u001b[0m\u001b[0;34m}\u001b[0m\u001b[0;34m)\u001b[0m\u001b[0;34m\u001b[0m\u001b[0;34m\u001b[0m\u001b[0m\n\u001b[1;32m   3972\u001b[0m \u001b[0;34m\u001b[0m\u001b[0m\n",
      "\u001b[0;32m~/opt/anaconda3/envs/dsi/lib/python3.7/site-packages/pandas/core/indexes/base.py\u001b[0m in \u001b[0;36mdrop\u001b[0;34m(self, labels, errors)\u001b[0m\n\u001b[1;32m   5015\u001b[0m         \u001b[0;32mif\u001b[0m \u001b[0mmask\u001b[0m\u001b[0;34m.\u001b[0m\u001b[0many\u001b[0m\u001b[0;34m(\u001b[0m\u001b[0;34m)\u001b[0m\u001b[0;34m:\u001b[0m\u001b[0;34m\u001b[0m\u001b[0;34m\u001b[0m\u001b[0m\n\u001b[1;32m   5016\u001b[0m             \u001b[0;32mif\u001b[0m \u001b[0merrors\u001b[0m \u001b[0;34m!=\u001b[0m \u001b[0;34m\"ignore\"\u001b[0m\u001b[0;34m:\u001b[0m\u001b[0;34m\u001b[0m\u001b[0;34m\u001b[0m\u001b[0m\n\u001b[0;32m-> 5017\u001b[0;31m                 \u001b[0;32mraise\u001b[0m \u001b[0mKeyError\u001b[0m\u001b[0;34m(\u001b[0m\u001b[0;34mf\"{labels[mask]} not found in axis\"\u001b[0m\u001b[0;34m)\u001b[0m\u001b[0;34m\u001b[0m\u001b[0;34m\u001b[0m\u001b[0m\n\u001b[0m\u001b[1;32m   5018\u001b[0m             \u001b[0mindexer\u001b[0m \u001b[0;34m=\u001b[0m \u001b[0mindexer\u001b[0m\u001b[0;34m[\u001b[0m\u001b[0;34m~\u001b[0m\u001b[0mmask\u001b[0m\u001b[0;34m]\u001b[0m\u001b[0;34m\u001b[0m\u001b[0;34m\u001b[0m\u001b[0m\n\u001b[1;32m   5019\u001b[0m         \u001b[0;32mreturn\u001b[0m \u001b[0mself\u001b[0m\u001b[0;34m.\u001b[0m\u001b[0mdelete\u001b[0m\u001b[0;34m(\u001b[0m\u001b[0mindexer\u001b[0m\u001b[0;34m)\u001b[0m\u001b[0;34m\u001b[0m\u001b[0;34m\u001b[0m\u001b[0m\n",
      "\u001b[0;31mKeyError\u001b[0m: \"['text'] not found in axis\""
     ]
    }
   ],
   "source": [
    "# df3 = df2.drop('text', axis=1, inplace=True)\n",
    "df3.to_csv(f'./data/{ticker}.csv', index = False)\n"
   ]
  },
  {
   "cell_type": "code",
   "execution_count": 260,
   "metadata": {},
   "outputs": [],
   "source": [
    "df3 = pd.read_csv(f'./data/{ticker}.csv')\n"
   ]
  },
  {
   "cell_type": "code",
   "execution_count": 262,
   "metadata": {},
   "outputs": [
    {
     "data": {
      "text/plain": [
       "'Stocks To Watch: Fireworks For Nikola, Tesla And Micron\\nJun. 27, 2020 9:00 AM ET|101 comments | Includes: AAXN, ACCD, ALO, ALXN, AMTI, AP, ARHH, ARNGF, , , , , , , , , , , , , , , , , , , , , , , , , , , , , , , , , , , , , , , , , , , , , , , , , , , , , , , , , , , , , , , , , , , , , , , , , , , , , , , , , , , , , , , , , , , , , , ,\\nSA Stocks To Watch\\nLong/short equity, special situations, event-driven\\n(55,141 followers)\\nWelcome to Seeking Alpha\\'s Stocks to Watch - a preview of key events scheduled for the next week. Follow this account and turn the e-mail alert on to receive this article in your inbox every Saturday morning. A podcast of Stocks to Watch is also available on Sundays on Seeking Alpha, Apple Podcasts, Stitcher and Spotify (click the highlighted links).\\nFederal Reserve Chair Jerome Powell and Treasury Secretary Steven Mnuchin testify before Congress on June 30 in what\\'s expected to be a broad overview of the economy and monetary policy. The Fed\\'s John Williams and Charles Evans also have speeches on the calendar and FOMC minutes are due out on July 1. On the economic front, reports on factory orders, trade balance, and manufacturing PMI will all pour in before the June jobs report steals the show on July 2. Economists project a gain of 3M jobs during the month to take the unemployment rate to 12.2% from 13.3%. If payrolls look weak for June, the pressure could increase on President Trump and Senate Republicans to pass another sweeping COVID-19 relief bill. In the energy markets, keep an eye on Bloomberg\\'s survey of OPEC June crude production due out on July 1. Will any output surprises bubble to the surface? In the corporate world, social media pauses by consumer giants like Coca-Cola (NYSE:KO), Hershey (NYSE:HSY) and Levi Strauss (NYSE:LEVI) could be matched by other companies to increase the headaches for Facebook (NASDAQ:FB) and Twitter (NYSE:TWTR). The market will be closed on July 3 for the Independence break. We gave it a whack, but we couldn\\'t find any pure play firework stocks to spotlight.\\nEarnings spotlight: Micron (NASDAQ:MU) on June 29; Conagra (NYSE:CAG) and FedEx (NYSE:FDX) on June 30; Macy\\'s (NYSE:M), Capri Holdings (NYSE:CPRI), Constellation Brands (NYSE:STZ) and General Mills (NYSE:GIS) on July 1; Lindsay (NYSE:LNN) and Jefferies (NYSE:JEF) on July 2.\\nGo deeper: See Seeking Alpha\\'s complete list of earnings reporters\\nIPO watch: IPO pricing are anticipated for DoubleDown Interactive (DDI) and Dun & Bradstreet (DNB) on June 30, as well as Accolade (ACCD) and Lemonade (LMND) on July 1. Quiet period expirations arrive on Warner Music Group (NASDAQ:WMG) and Pliant Therapeutics (NASDAQ:PLRX) on June 29, as well as ZoomInfo (NASDAQ:ZI), Applied Molecular (NASDAQ:AMTI) and Shift4 Payments (NYSE:FOUR) on June 30. All five of those stocks have rallied since their debut, from Warner Music\\'s 22% gain to ZoomInfo\\'s 142% pop. Also next week, an IPO share lockup arrives on Northstar Gold (OTCPK:NSGCF). Across the Pacific, IPO debuts for Kangji Medical ($404M), Gan & Lee Pharmaceuticals ($360M) and Hygeia Healthcare ($286M) are on tap.\\nGo deeper: Catch up on all the latest IPO news.\\nM&A tidbits: Mylan (NASDAQ:MYL) shareholders vote on the merger with Pfizer\\'s (NYSE:PFE) Upjohn generic drug business. If the deal is approved, new company will be called Viatris and will launch sometime after October 1. The walk date on the China Oceanwide buyout of Genworth Financial (NYSE:GNW) arrives on June 30. A number of mergers close in the July 1-2 time frame, including First Horizon (NYSE:FHN)-IBERIABANK (NASDAQ:IBKC), Alio Gold (NYSEMKT:ALO)-Argonaut Gold (OTCPK:ARNGF), Mobile Mini (NASDAQ:MINI)-WillScot (NASDAQ:WSC) and Alexion Pharmaceuticals (NASDAQ:ALXN)-Portola Pharmaceuticals (NASDAQ:PTLA). Keep an eye on Kansas City Southern (NYSE:KSU) amid takeover chatter and VMware (NYSE:VMW) with more talk from Dell (NYSE:DELL) shareholders calling for a spinoff.\\nProjected dividend changes (quarterly): It is a very light week for dividend projections, with only Marsh & McLennan (NYSE:MMC) expected to make a move with a hike to to $0.465 from $0.455.\\nSpotlight on Nikola: Nikola (NASDAQ:NKLA) will start taking pre-orders on June 29 for the Badger and announce the timing of its Nikola World 2020 event. The electric pickup truck is coming to the market with both a fuel cell and a battery electric version. The fuel cell variant will also have the option to run on full battery power if hydrogen refilling isn\\'t convenient. The Badger will reportedly feature a range of 600 miles (300 on fuel cell +300 on electric), offer over 906 horsepower, up to 980 ft-lbs of torque and a 0-to-60 mph sprint time of 2.9 seconds. Crucially, Nikola is in the process of choosing an OEM partner (rumors of Fiat Chrysler (NYSE:FCAU)), with an announcement expected soon. JPMorgan is positive on the long-term upside. \"Nikola is poised to disrupt the transportation industry with rapid deployment of hydrogen infrastructure and FCEV powered vehicles for use on long haul trucking routes, reducing CO2 emissions meaningfully and positioning the firm for a key role in the future hydrogen economy,\" writes analyst Paul Coster and team. \"The resulting business model could be compelling, however risks are elevated for this pre-revenue company, and the stock looks fully valued here, so we look for a pull-back or incremental positive developments to get more constructive,\" he adds.\\nMicron earnings preview: Micron is due to report earnings on June 29 to consensus expectations for revenue of $4.6B to $5.2B in revenue, EPS of $0.40 to $0.70, operating expenses of $800 to $850M and gross margin of 29.5% to 32.5%. Analysts think the company\\'s guidance update could rattle the sector. Peers include Samsung and SK Hynix (OTC:HXSCF) on the DRAM side, as well as Western Digital (NASDAQ:WDC) and Intel (NASDAQ:INTC) for DRAM and NAND. \"Micron\\'s financial results, and the memory market in general, have been better than we expected in recent months. However, we continue to think there remains significant uncertainty with regard to memory end-market demand memory pricing trends through the rest of this year. We are maintaining our Neutral rating on MU stock,\" previews Nomura Instinet on the upcoming print. Micron has topped EPS estimates four quarters in a row.\\nFirearm checks: Sometime at the end of the week the update on June firearm checks might come firing in from the FBI\\'s National Instant Criminal Background Check System. Gun background checks rose 75% in May on an adjusted basis to follow on strong months in March (+80%) and April (+62%). Was that enough supply or will the civil unrest and election politics factor into June\\'s tally? One data point to consider is that from June 1 to June 17 in Illinois there were more than 42K applications for firearm owner identification cards, compared with about 7K during the same time last year. That sounds strong for Smith & Wesson Brands (NASDAQ:SWBI), Vista Outdoor (NYSE:VSTO), Axon Enterprise (NASDAQ:AAXN), Olin Corporation (NYSE:OLN) and Sturm Ruger (NYSE:RGR)\\nHealthcare watch: A number of companies are due to present at the European Society for Medical Oncology World Congress on July 1-4, including Lineage Cell Therapeutics (NYSEMKT:LCTX) on OPC1 cell therapy program for spinal cord injury presentation, Roche (OTCQX:RHHBY) on Phase 1-2 FAP-IL2v data in combination with Tecentriq in pancreatic cancer and Pfizer (PFE) on its Phase 2 Anchor CRC trial of triple combination with Erbitux and doublet (Braftovi and Erbitux). No FDA PDUFA dates are on tap.\\nAnalyst meetings and business updates: Jack in the Box (NASDAQ:JACK) is hosting a Meet and Greet webcast presentation with incoming CEO Darin Harris on June 29. Puration (OTCPK:PURA) is scheduled to post a comprehensive update on the company\\'s overall acquisition campaign on June 30. Last week, Puration announced the acquisition of a CBD infused sexual wellness product line to mark its fourth acquisition of the year. International Flavors & Fragrances (NYSE:IFF) has a sustainability call scheduled for June 30. Shares of IFF are up 9.44% over the last 90 days.\\nCounting Teslas: Tesla (NASDAQ:TSLA) is scheduled to release an update on Q2 deliveries within the first few days of the month. After a slow start due to factory closings, Tesla is forecast by Wall Street analysts to have delivered between 60K and 75K units during the quarter, while Electrek is tipping the number be surprisingly close to last year\\'s level of 95K. As always, Elon Musk is pushing hard at the end of the quarter. \"For many reasons, a great deal of Tesla execution worldwide is packed into the final week of the quarter. It is very important that we go all out through end of June 30 to ensure a good outcome,\" he e-mailed employees.\\nConferences rundown: Sidoti is holding its inaugural Microcap Virtual Investor Conference on June 30. Companies due to give online presentations include CRA International (NASDAQ:CRAI), Wayside Technology (NASDAQ:WSTG), Cematrix (OTCQB:CTXXF), Assure (OTCQB:ARHH), Lifetime Brands (NASDAQ:LCUT), Lincoln Educational Services (NASDAQ:LINC), Digirad (NASDAQ:DRAD), China Distance Education (NYSE:DL), Tupperware Brands (NYSE:TUP), Jerash Holdings (NASDAQ:JRSH), Ampco-Pittsburgh (NYSE:AP) and Poet Technologies (OTCQX:POETF).\\nU.S. auto sales: TrueCar forecasts auto sales will fall 27.2% in June to 1,098,960 units. \"Automotive retail continues to show positive momentum, rebounding from April lows and performing better than initially expected as states continue to ease restrictions,\" notes TrueCar analyst Eric Lyman. The firm also points to significant improvement in the used market, where used car sales are expected to be up 16% on a month-to-month comparison. TrueCar June forecast by manufacturer - BMW -20.6% to 27,775 units, Daimler -35.3% to 18,930 units, Fiat Chrysler Automobiles -32.8% to 138,478 units, Ford (NYSE:F) -31.0% to 150,925 units, GM (NYSE:GM) -31.1% to 171,626 units, Honda (NYSE:HMC) -20.7% to 107,737 units, Hyundai (OTCPK:HYMLF)-8.3% to 60,585 units, Kia (OTCPK:HYMLF) -15.2% to 48,148 units, Nissan (OTCPK:NSANY) -44.6% to 68,469 units, Subaru (OTCPK:FUJHY) -4.3% to 58,873 units, Tesla -54.4% to 6,561 units, Toyota (NYSE:TM) -27.0% to 147,675 units, Volkswagen (OTCPK:VWAGY) -17.7% to 46,683 units.\\nCourt battles: The CEOs of General Motors and Fiat Chrysler Automobiles have been ordered by a district judge to meet next week in person to resolve their differences about the GM lawsuit filed last year. U.S. District Judge Paul Borman called the litigation a waste of time and resources, labeling it a nuclear option. Borman wants GM\\'s Mary Barra and Fiat\\'s Mike Manley to talk in person on July 1, with social-distancing measures in place.\\n5G watch: MTN Group (OTCPK:MTNOY) will launch its 5G commercial network in South Africa next week, joining Vodacom Group and Rain in the race to grab a 5G lead in the nation. MTN is hosting a virtual launch event on June 30, which could throw a spotlight on the industry as a whole. Verizon (NYSE:VZ) just expanded its 5G home Internet service and Nokia (NYSE:NOK) is building out its next-generation 5G AirScale Cloud RAN solution for commercial availability this year. Some of the companies sitting on the sidelines waiting for an acceleration in 5G demand include Qualcomm (NASDAQ:QCOM), Netgear (NASDAQ:NTGR) Skyworks (NASDAQ:SWKS), Crown Castle (NYSE:CCI), China Tower (OTCPK:CTOWY) and Inseego (NASDAQ:INSG). A catch-all for the 5G sector is the Defiance Next Gen Connectivity ETF (NYSEARCA:FIVG).\\nNew Jersey casinos: New Jersey will allow Atlantic City\\'s casinos to reopen to gamblers on July 2, but with 25% capacity limits. New Jersey casinos include Caesars Atlantic City Hotel & Casino (NASDAQ:CZR), Tropicana Atlantic City (NASDAQ:ERI), Bally\\'s (NYSE:TRWH), Golden Nugget (owned by Landry\\'s), Harrah\\'s (CZR) and Borgata (NYSE:MGM).\\nProduct launch: The biggest product launch to watch next week might be Beyond Meat\\'s (NASDAQ:BYND) new limited edition 10-pack of plant-based burgers said to be offered at its most affordable price level ever to consumers. That is great for grillers, but for investors, the most interesting part might be the distribution network for the burgers that includes some Giant Foods, Harris Teeter, HEB, HyVee, Jewel, Lidl, Safeway, ShopRite, Stop & Shop, SuperValu, Target and Walmart stores. Beyond Meat enters next week on a hot streak, up 114% over 90 days.\\nGood news for Boeing: A Federal Aviation Administration certification flight test needed to return Boeing\\'s (NYSE:BA) 737 MAX to service could take place early next week. A certification flight test, which likely would last at least two days, would be followed by pilot training and other steps before the 737 MAX is approved to fly (probably in September). The successful test flight could help remove some baked-in risk on the 737 Max never flying again and frees up analysts to push up long-term estimates on Boeing.\\nRVs: While RV shipments numbers for May showed a 30% decline, the RV Industry Association says the reality is that the RV industry is very strong. \"Now that all states have reopened, coupled with continued media attention on RVs as a way to travel and maintain social distance, the outlook for the RV industry this summer is extremely bright,\" says RV Industry President Craig Kirby. Investors have been frontrunning the expectation for a strong summer of RV sales, bidding up Thor Industries (NYSE:THO), Winnebago Industries (NYSE:WGO), Patrick Industries (NASDAQ:PATK) and LCI Industries (NYSE:LCII) dramatically over the last few months.\\nNotable annual meetings: eBay (NASDAQ:EBAY) and Eldorado Resorts (ERI) on June 29.\\nBarron\\'s mentions: Best Buy (NYSE:BBY), Nvidia (NASDAQ:NVDA) and Verizon are singled out as three companies that place a high priority on people, which is seen as long-term asset that drives success over the long term. In a ranking of the best CEOs of the year, high-profile names like JPMorgan Chase\\'s (NYSE:JPM) Jamie Dimon, GM\\'s Mary Barra, Tesla\\'s Elon Musk and Microsoft\\'s (NASDAQ:MSFT) Satya Nadella are joined on the list by lesser-known CEOs like Ecolab\\'s (NYSE:ECL) Douglas Baker, Nasdaq\\'s (NASDAQ:NDAQ) Adena Friedman and Shopify\\'s (NYSE:SHOP) Tobias Lutke. As for some stock picking, the publication points to Dell (DELL), which is seen escaping its valuation purgatory if it spins off VMware next year and maintains a close relationship with the company through a partnership agreement. Wells Fargo (NYSE:WFC) and Capital One Financial (NYSE:COF) are seen as the two banks most at risk at losing investor interest due to the Fed\\'s new dividend limit.\\nSources: Bloomberg, Automotive News, Reuters, CNBC, EDGAR\\nLike this article\\n'"
      ]
     },
     "execution_count": 262,
     "metadata": {},
     "output_type": "execute_result"
    }
   ],
   "source": [
    "df3['article'][0]"
   ]
  },
  {
   "cell_type": "code",
   "execution_count": 261,
   "metadata": {},
   "outputs": [
    {
     "data": {
      "text/html": [
       "<div>\n",
       "<style scoped>\n",
       "    .dataframe tbody tr th:only-of-type {\n",
       "        vertical-align: middle;\n",
       "    }\n",
       "\n",
       "    .dataframe tbody tr th {\n",
       "        vertical-align: top;\n",
       "    }\n",
       "\n",
       "    .dataframe thead th {\n",
       "        text-align: right;\n",
       "    }\n",
       "</style>\n",
       "<table border=\"1\" class=\"dataframe\">\n",
       "  <thead>\n",
       "    <tr style=\"text-align: right;\">\n",
       "      <th></th>\n",
       "      <th>href</th>\n",
       "      <th>date</th>\n",
       "      <th>name</th>\n",
       "      <th>comments_qty</th>\n",
       "      <th>article</th>\n",
       "      <th>comments</th>\n",
       "    </tr>\n",
       "  </thead>\n",
       "  <tbody>\n",
       "    <tr>\n",
       "      <th>0</th>\n",
       "      <td>https://seekingalpha.com/article/4355962-stock...</td>\n",
       "      <td>Today, 9:00 AM</td>\n",
       "      <td>Stocks To Watch: Fireworks For Nikola, Tesla A...</td>\n",
       "      <td>92 Comments</td>\n",
       "      <td>Stocks To Watch: Fireworks For Nikola, Tesla A...</td>\n",
       "      <td>\\nDon't Buy Falling Financials, Buy These Stoc...</td>\n",
       "    </tr>\n",
       "    <tr>\n",
       "      <th>1</th>\n",
       "      <td>https://seekingalpha.com/article/4355897-tesla...</td>\n",
       "      <td>Yesterday, 2:05 PM</td>\n",
       "      <td>Tesla: Watching Q2 Coronavirus Deliveries</td>\n",
       "      <td>173 Comments</td>\n",
       "      <td>Earnings Analysis | Consumer\\nTesla: Watching ...</td>\n",
       "      <td>\\nThere Will Be No Second Wave\\nLawrence Fulle...</td>\n",
       "    </tr>\n",
       "    <tr>\n",
       "      <th>2</th>\n",
       "      <td>https://seekingalpha.com/article/4355755-tesla...</td>\n",
       "      <td>Thu, Jun. 25</td>\n",
       "      <td>Tesla: Ignoring Quality Issues Is No Longer An...</td>\n",
       "      <td>233 Comments</td>\n",
       "      <td>Tesla: Ignoring Quality Issues Is No Longer An...</td>\n",
       "      <td>\\nTesla Makes An Expensive Decision (NASDAQ:TS...</td>\n",
       "    </tr>\n",
       "    <tr>\n",
       "      <th>3</th>\n",
       "      <td>https://seekingalpha.com/article/4355742-quest...</td>\n",
       "      <td>Thu, Jun. 25</td>\n",
       "      <td>Questions Remain, But This May Now Be The Time...</td>\n",
       "      <td>115 Comments</td>\n",
       "      <td>Long Ideas | Consumer \\nQuestions Remain, But ...</td>\n",
       "      <td>\\nIt Happened - The Second Wave Is Here\\nJonat...</td>\n",
       "    </tr>\n",
       "    <tr>\n",
       "      <th>4</th>\n",
       "      <td>https://seekingalpha.com/article/4355640-tesla...</td>\n",
       "      <td>Thu, Jun. 25</td>\n",
       "      <td>Tesla V2G Technology Could Dramatically Increa...</td>\n",
       "      <td>481 Comments</td>\n",
       "      <td>Long Ideas | Consumer \\nTesla V2G Technology C...</td>\n",
       "      <td>\\nHow To Retire With A Million In 10 Years\\nFi...</td>\n",
       "    </tr>\n",
       "  </tbody>\n",
       "</table>\n",
       "</div>"
      ],
      "text/plain": [
       "                                                href                date  \\\n",
       "0  https://seekingalpha.com/article/4355962-stock...      Today, 9:00 AM   \n",
       "1  https://seekingalpha.com/article/4355897-tesla...  Yesterday, 2:05 PM   \n",
       "2  https://seekingalpha.com/article/4355755-tesla...        Thu, Jun. 25   \n",
       "3  https://seekingalpha.com/article/4355742-quest...        Thu, Jun. 25   \n",
       "4  https://seekingalpha.com/article/4355640-tesla...        Thu, Jun. 25   \n",
       "\n",
       "                                                name  comments_qty  \\\n",
       "0  Stocks To Watch: Fireworks For Nikola, Tesla A...   92 Comments   \n",
       "1          Tesla: Watching Q2 Coronavirus Deliveries  173 Comments   \n",
       "2  Tesla: Ignoring Quality Issues Is No Longer An...  233 Comments   \n",
       "3  Questions Remain, But This May Now Be The Time...  115 Comments   \n",
       "4  Tesla V2G Technology Could Dramatically Increa...  481 Comments   \n",
       "\n",
       "                                             article  \\\n",
       "0  Stocks To Watch: Fireworks For Nikola, Tesla A...   \n",
       "1  Earnings Analysis | Consumer\\nTesla: Watching ...   \n",
       "2  Tesla: Ignoring Quality Issues Is No Longer An...   \n",
       "3  Long Ideas | Consumer \\nQuestions Remain, But ...   \n",
       "4  Long Ideas | Consumer \\nTesla V2G Technology C...   \n",
       "\n",
       "                                            comments  \n",
       "0  \\nDon't Buy Falling Financials, Buy These Stoc...  \n",
       "1  \\nThere Will Be No Second Wave\\nLawrence Fulle...  \n",
       "2  \\nTesla Makes An Expensive Decision (NASDAQ:TS...  \n",
       "3  \\nIt Happened - The Second Wave Is Here\\nJonat...  \n",
       "4  \\nHow To Retire With A Million In 10 Years\\nFi...  "
      ]
     },
     "execution_count": 261,
     "metadata": {},
     "output_type": "execute_result"
    }
   ],
   "source": [
    "w2v_model = Word2Vec(sentences=df3['article'],\n",
    "                     min_count=1,\n",
    "                 window=5,\n",
    "                 size=100,\n",
    "                 workers=4)\n",
    "\n",
    "# w2v_model.build_vocab(sentences)\n",
    "w2v_model.train(tweets, total_examples=w2v_model.corpus_count, epochs=w2v_model.iter)\n",
    "w2v_model.init_sims(replace=True)"
   ]
  },
  {
   "cell_type": "code",
   "execution_count": null,
   "metadata": {},
   "outputs": [],
   "source": []
  },
  {
   "cell_type": "code",
   "execution_count": null,
   "metadata": {},
   "outputs": [],
   "source": []
  },
  {
   "cell_type": "code",
   "execution_count": null,
   "metadata": {},
   "outputs": [],
   "source": []
  },
  {
   "cell_type": "code",
   "execution_count": null,
   "metadata": {},
   "outputs": [],
   "source": []
  },
  {
   "cell_type": "code",
   "execution_count": null,
   "metadata": {},
   "outputs": [],
   "source": []
  },
  {
   "cell_type": "code",
   "execution_count": null,
   "metadata": {},
   "outputs": [],
   "source": []
  },
  {
   "cell_type": "code",
   "execution_count": 122,
   "metadata": {},
   "outputs": [
    {
     "ename": "AssertionError",
     "evalue": "",
     "output_type": "error",
     "traceback": [
      "\u001b[0;31m---------------------------------------------------------------------------\u001b[0m",
      "\u001b[0;31mAssertionError\u001b[0m                            Traceback (most recent call last)",
      "\u001b[0;32m<ipython-input-122-b3a557f56fb0>\u001b[0m in \u001b[0;36m<module>\u001b[0;34m\u001b[0m\n\u001b[1;32m      3\u001b[0m \u001b[0mdriver\u001b[0m\u001b[0;34m.\u001b[0m\u001b[0mimplicitly_wait\u001b[0m\u001b[0;34m(\u001b[0m\u001b[0;36m100\u001b[0m\u001b[0;34m)\u001b[0m\u001b[0;34m\u001b[0m\u001b[0;34m\u001b[0m\u001b[0m\n\u001b[1;32m      4\u001b[0m \u001b[0marticle\u001b[0m \u001b[0;34m=\u001b[0m \u001b[0mdriver\u001b[0m\u001b[0;34m.\u001b[0m\u001b[0mfind_element_by_id\u001b[0m\u001b[0;34m(\u001b[0m\u001b[0;34m\"content-rail\"\u001b[0m\u001b[0;34m)\u001b[0m\u001b[0;34m\u001b[0m\u001b[0;34m\u001b[0m\u001b[0m\n\u001b[0;32m----> 5\u001b[0;31m \u001b[0;32massert\u001b[0m \u001b[0;34m\"Python\"\u001b[0m \u001b[0;32min\u001b[0m \u001b[0mdriver\u001b[0m\u001b[0;34m.\u001b[0m\u001b[0mtitle\u001b[0m\u001b[0;34m\u001b[0m\u001b[0;34m\u001b[0m\u001b[0m\n\u001b[0m\u001b[1;32m      6\u001b[0m \u001b[0;34m\u001b[0m\u001b[0m\n\u001b[1;32m      7\u001b[0m \u001b[0melem\u001b[0m\u001b[0;34m.\u001b[0m\u001b[0mclear\u001b[0m\u001b[0;34m(\u001b[0m\u001b[0;34m)\u001b[0m\u001b[0;34m\u001b[0m\u001b[0;34m\u001b[0m\u001b[0m\n",
      "\u001b[0;31mAssertionError\u001b[0m: "
     ]
    }
   ],
   "source": [
    "driver = webdriver.Chrome('./chromedriver')\n",
    "driver.get(url2)\n",
    "driver.implicitly_wait(100)\n",
    "article = driver.find_element_by_id(\"content-rail\")\n",
    "# assert \"Python\" in driver.title\n",
    "\n",
    "# elem.clear()\n",
    "# elem.send_keys(\"pycon\")\n",
    "# elem.send_keys(Keys.RETURN)\n",
    "# assert \"No results found.\" not in driver.page_source\n",
    "driver.close()"
   ]
  },
  {
   "cell_type": "code",
   "execution_count": 127,
   "metadata": {
    "collapsed": true,
    "jupyter": {
     "outputs_hidden": true
    }
   },
   "outputs": [
    {
     "data": {
      "text/plain": [
       "'\\nDon\\'t Buy Falling Financials, Buy These Stocks Instead\\nLimelight Alpha Management Partners • Jun. 26, 2020 9:32 PM ET\\n5 Reasons Bristol Myers Squibb Is An Exceptional Blue-Chip For Retirees (NYSE:BMY)\\nBrad Thomas • Jun. 27, 2020 7:00 AM ET\\nNikola: The S-1 Filing Is A Ticking Time Bomb For Longs (NASDAQ:NKLA)\\nEdward Vranic, CFA • Jun. 24, 2020 8:36 AM ET\\nWarren Buffett July Update: 46 Equities Show 9 To Buy And Hold Today\\nFredrik Arnold • Jun. 25, 2020 4:59 PM ET\\nComments 91\\n• Sort by\\n  Newest\\n  Oldest\\n  Most liked\\nNewest\\nAdd Your Comment\\nPublish\\namazapple\\nComments14290 | + Follow\\nThe universe of buzzy electric-vehicle stocks is about to get a new entrant: Hyliion, a Texas-based battery-powered heavy-duty truck company founded in 2015. It plans to merge with Tortoise Acquisition Corp. , a special-purpose acquisition company, by this fall.\\nTortoise’s stock (ticker: SHLL) has already climbed nearly 70% since the announcement on June 19. Investors just can’t get enough of EV stocks these days, and SPACs are having a moment of their own. With Hyliion and Tortoise, investors have another way to play the EV trend.\\nwww.barrons.com/...\\n27 Jun 2020, 08:34 PM\\nReply\\n0\\nLike\\njohnsoriaknows\\nPREMIUM\\nComments67 | + Follow\\nCOVID-19 therapy and testing plays will two market focus areas focus the rest of 2020 as the pandemic is raising its ugly head with a vengeance. Vaccines are also ht but realistically only the majors will win the race leaving tiny vaccine plays VXRT, INO, HTBX, and others like them eating dust when it\\'s all said and done.\\nThe following are a couple of COVID-19 therapy and test rpogrmas with news next week and have not taken off as others have and therefore offer a significant short and mid-term potential appreciation for value investors:\\n$CANF - The company will announce its COVID-19 IND and Phase 2 protocol next week. The stock might gain 500%+ as many have in the past but its gains might be more sustainable as it has a late-stage pipeline addressing liver cancer, NASH, rheumathoid arthritis, psoriais, erectile disfunction and many other indications with an addresable market of over $150 billion. This $30M company with 10M share float has 2 Phase 3 readouts scheduled for 4Q 2020. More info here:\\nseekingalpha.com/...\\n$TRIB, Trinity Biotech, a $50M market cap midget is about to launch a comprehensive COVID-19 antibody test program divided in 3 near-term events. If TRIB capitalizes on this opportunity it could be a 2000% gainer to just match lesser competitor CODX\\'s market cap:\\n1) On May 27, 20202, Trinity BIotech\\'s CEO O\\'Caoimh stated that the company\\'s COVID-19 IgG ELISA antibody tests are in validation phase and expects FDA Emergency Use Authorization end of June.\\n2) TRIB\\'s CEO expects that with further testing done by the FDA it will gain \"Umbrella EUA\" designation to certify accuracy which only a handful of test providers currently have.\\n3) The company is also developing a 12-minute rapid point-of-care COVID-19 test to detect antibodies, both IgG and IgM, to the virus that can be run using a drop of blood. This is a huge global market, as an example, QDEL\\'s market cap has swelled by $2.6B to $8.9B following the May 8, 2020 FDA cleared of its 15-minute rapid antibody tests.\\nDetails here:\\nseekingalpha.com/...\\nGood luck!!!\\n27 Jun 2020, 07:34 PM\\nReply\\n0\\nLike\\nAlphaElephant\\nComments714 | + Follow\\n$FB needs a smack down. Get that valuation in the dumpster so I can buy cheap\\n27 Jun 2020, 07:01 PM\\nReply\\n1\\nLike\\nNovavax Op Warp Speed\\nComments3002 | + Follow\\n@AlphaElephant I would bet that $FB pps will drop more, as they\\'ve lost close to $8 Billion in advertisement already from what I understand & more loses to come, as more companies follow in line. Under $100 or lower would be nice. I\\'d also like to see $TWTR get hit hard on the downside. I\\'d buy shrs of $TWTR if they dropped near $25 or lower myself. (edited)\\n27 Jun 2020, 07:12 PM\\nReply\\n0\\nLike\\nbillyb12\\nMarketplace\\nComments17 | + Follow\\nIf you like to eat chemicals, go plant based. Read the label on plant based foods.\\n27 Jun 2020, 06:34 PM\\nReply\\n1\\nLike\\nRonak142\\nComments1 | + Follow\\nIDEX . Any idea\\n27 Jun 2020, 05:52 PM\\nReply\\n0\\nLike\\nDiesel\\nContributor\\nComments9919 | + Follow\\nAnother stock to watch next week is AMD. It\\'s been in a $52-55 range for the last couple months but it suddenly crashed below $50 in the last 15 minutes of trading on Friday. It will be interesting to see where it goes from here.\\n27 Jun 2020, 03:59 PM\\nReply\\n2\\nLike\\nAminator\\nComments168 | + Follow\\nIn what universe is a move down to $50 from $52 a \"sudden crash,\" when the market itself corrected by 2%+?\\n27 Jun 2020, 05:14 PM\\nReply\\n0\\nLike\\nrbrandx\\nComments58 | + Follow\\nIt was determined by the famous China Study that eating more than 20% animal protein causes cancer.\\n27 Jun 2020, 03:41 PM\\nReply\\n1\\nLike\\nCCPCCP\\nPREMIUMMarketplace\\nComments69 | + Follow\\n@rbrandx\\nCCP fake that study.\\nGod gave us breathing system so we don’t need mask and god gave us animals as food so it should be 100% animal protein.\\nDon’t trust anything from China. masks for wimps and Plant-based for pussies.\\n27 Jun 2020, 04:26 PM\\nReply\\n1\\nLike\\nFundamental Trader\\nComments436 | + Follow\\nIf brains were dynamite, you wouldn\\'t have enough to mess up your hair.\\nMasks are to protect other people from you, lowlife!\\n27 Jun 2020, 06:20 PM\\nReply\\n2\\nLike\\nLenAnthony\\nComments17 | + Follow\\nI might want to know if that meat was from China before deciding the implications .... (edited)\\n27 Jun 2020, 07:31 PM\\nReply\\n0\\nLike\\nMaxPower912\\nComments6568 | + Follow\\nmake sure you take those hydroxychloroquine tablets with a double shot of bleach, to (make motion with hand like you are cleaning a window) disinfect yourself internally.\\ntaking hydroxychloroquine with water is for pussies\\n27 Jun 2020, 08:25 PM\\nReply\\n0\\nLike\\n2lazye\\nComments275 | + Follow\\nCleaned and oiled and loaded my 357 revolver and shotguns.\\n27 Jun 2020, 01:54 PM\\nReply\\n2\\nLike\\nLong Time Running\\nComments2121 | + Follow\\n@2lazye what, no 50 caliber, that\\'s what revolution calls for.\\n27 Jun 2020, 03:24 PM\\nReply\\n2\\nLike\\nFundamental Trader\\nComments436 | + Follow\\nThinking of visiting the US for the first time myself. If it kicks off, I\\'ve promised myself I will.\\nWould be a great opportunity to bag me some trumpists and help the good people of America return their country to its former glory.\\n27 Jun 2020, 06:23 PM\\nReply\\n2\\nLike\\njune1234\\nComments9068 | + Follow\\nMU already upped 3QT guidance a month ago\\nwww.cnbc.com/...\\n27 Jun 2020, 01:46 PM\\nReply\\n4\\nLike\\neasympney7\\nComments207 | + Follow\\nTook starter in FREE late friday////was ACTT////guy who ran Hain Celestial will do it again here///predict 50 to 100% over next yr///would be good buyout candidaten for IFF or MCK.\\n27 Jun 2020, 01:09 PM\\nReply\\n0\\nLike\\ntaxxkiller\\nMarketplace\\nComments68 | + Follow\\nBudweiser has order 800 semi-trucks from Nokila. r.search.aol.com/...\\n27 Jun 2020, 01:01 PM\\nReply\\n2\\nLike\\nea100\\nComments9 | + Follow\\nSaw a comment earlier that Tesla is the new Apple. Apple in spite of its growth has played into the value spectrum of the equity world. Cash, book value, p/e. Nothing remotely like Tesla. Which has a valuation only supported by the hysteria around Musk.\\n27 Jun 2020, 12:15 PM\\nReply\\n1\\nLike\\nFundamental Trader\\nComments436 | + Follow\\nSome people will just never get it. Because they don\\'t even try.\\nMusk will dominate the automobile industry and the space industry. Possibly the energy industry too, though I\\'m less confident with that last one.\\nHe has the most highly qualified, innivotive and most highly motivated technicians in the business and Tesla and SpaceX share technologies. This is what will keep Tesla in the lead. An 8 year old Model S is still ahead of any current competition in the market. That\\'s a lot of catching up to do and Elon already has the best guys in the business working for him.\\nI agree the shares are expensive, maybe they always will be. Just as Amazon shares were too expensive for most of the last decade. The main difference here is that it\\'s not hard to find out why Tesla is so far ahead and why it will likely maintain that lead. All it takes is a little research. (edited)\\n27 Jun 2020, 06:34 PM\\nReply\\n1\\nLike\\nTomM5060\\nComments78 | + Follow\\nI\\'m glad I sold Mylan last year. It\\'s a worthless company now that it\\'s run by some of the worse administrators in their group. The board of directors are the major problem along with their CEO. It use to be a well run company that gave a nice dividend. Anything that Mylan management has anything to do with is something I won\\'t invest in.\\n27 Jun 2020, 11:38 AM\\nReply\\n1\\nLike\\nNovavax Op Warp Speed\\nComments3002 | + Follow\\n@TomM5060 $PFE or $GSK would be companies to look at, but do your own research & dd. I like both, they have promising futures.\\n27 Jun 2020, 12:43 PM\\nReply\\n1\\nLike\\nstunato\\nComments268 | + Follow\\nIf the market comes back next week...Apple will lead the way...\\n27 Jun 2020, 11:30 AM\\nReply\\n2\\nLike\\nNovavax Op Warp Speed\\nComments3002 | + Follow\\n$TSLA, $BA, $AAPL & $AMZN will contribute, after last weeks selloff. Lets start July off with a bang of a rebound!!\\n27 Jun 2020, 12:02 PM\\nReply\\n3\\nLike\\nNovavax Op Warp Speed\\nComments3002 | + Follow\\nImpossible Foods CEO Patrick Brown was quoted:\\n\"This is why I think people are increasingly aware plant - based products are going to completely replace the animal - based products in the food world within the next 15 years. That\\'s our mission. That transformation is inevitable.\"\\nNot on my watch, as you can\\'t beat a nice juicy BBQ steak of your choice, as I prefer rib eye. Yuk...plant - based food, not me.\\n27 Jun 2020, 09:59 AM\\nReply\\n26\\nLike\\nEntreri\\nComments1257 | + Follow\\n@Novavax Op Warp Speed\\nPlant food is much more healthy. Vegetables.\\nAlthough I wouldn\\'t want Impossible Burger.\\nEating so much meat leads to many health issues. Not to mention to digest and leave your system, ouch.\\nWe were never meant to eat so much meat and be sedentary.\\n27 Jun 2020, 10:34 AM\\nReply\\n11\\nLike\\nNovavax Op Warp Speed\\nComments3002 | + Follow\\n@Entreri I don\\'t know about plant food being more healthy for us, as many would beg to differ. Moderation, is the word to use when eating meat & it still can\\'t be beat imho.\\n27 Jun 2020, 10:43 AM\\nReply\\n9\\nLike\\nChance888\\nComments64 | + Follow\\n@Entreri\\nIt all depends on what else you\\'re eating WITH the meat. Science is just now figuring some of this out and it\\'s pretty fascinating. Simple carbs and refined sugars are really the problem in almost any diet. Meat, in and of itself, is VERY healthy and necessary to consume for optimal health and hormone production. (edited)\\n27 Jun 2020, 10:51 AM\\nReply\\n12\\nLike\\nTradeNvest\\nComments1285 | + Follow\\nThe Game Changers (2019)\\nwww.youtube.com/...\\n27 Jun 2020, 11:29 AM\\nReply\\n2\\nLike\\nEntreri\\nComments1257 | + Follow\\n@Chance888\\nRed meat linked to stomach cancer, increased inflammation etc.\\nHindus of India have been vegetarians for 1000s of years.\\nMeat is not needed for health.\\nThe damage done to the environment is also much much greater.\\n27 Jun 2020, 01:19 PM\\nReply\\n5\\nLike\\njohnfairplay\\nComments1270 | + Follow\\nThe ironic thing is that it takes many more acres of arable land and much more water to raise one pound of vegetable burger than it does one pound of beef burger. Destroying the planet with their good intentions.\\n27 Jun 2020, 01:19 PM\\nReply\\n3\\nLike\\nForestFromTrees\\nComments665 | + Follow\\n@Novavax Op Warp Speed Can\\'t imagine what your BMI is. I\\'m sure your Colonoscopy will be an adventure.\\nThe growing % of people who are going to plant-based diets are always going to be healthier. Have you ever seen a fat vegetarian?\\nIt\\'s an exciting time to be plant based because we now have comparable protein alternatives to traditional meat. Those animals you eat are treated like garbage, fed with garbage, and pumped with antibiotics and hormones. You are what your eat. (edited)\\n27 Jun 2020, 01:40 PM\\nReply\\n1\\nLike\\nEformula\\nComments872 | + Follow\\n@Entreri no we were never meant to eat processed crap that never exist in nature or can be biodegradable. The best diet is an omnivore and meat and vegetables are both crucial. Fake meat is not crucial, it is a fad by people who thinks it\\'s better than eat, taste like meat, and maybe better than meat, when it\\'s not\\n27 Jun 2020, 03:26 PM\\nReply\\n1\\nLike\\nEformula\\nComments872 | + Follow\\n@Chance888 I eat anything that moves and anythings that grow, but I don\\'t eat stuff that when you put it out in the wild, animals don\\'t eat it and they don\\'t degrade for the next 10 years because it\\'s artificially made.\\n27 Jun 2020, 03:28 PM\\nReply\\n2\\nLike\\ns2ndra\\nComments3 | + Follow\\n@ForestFromTrees yes there are fat vegetarians who have kidney problems like my aunt.\\n27 Jun 2020, 03:37 PM\\nReply\\n1\\nLike\\nVictor_nek\\nComments137 | + Follow\\n@Chance888 Meat is NOT necessary. I’ve been on plant based diet since beginning of 2013. Not only my health is much better than before, I’m in a great shape, too (55 yo).\\n27 Jun 2020, 03:39 PM\\nReply\\n3\\nLike\\nChance888\\nComments64 | + Follow\\n@Entreri\\nAgain - I can\\'t overstate the relevancy of knowing what other foods the individuals were eating with the meat.\\n27 Jun 2020, 08:02 PM\\nReply\\n0\\nLike\\nChance888\\nComments64 | + Follow\\n@Victor_nek\\nIt wasn\\'t my intention to imply that a plant-based diet doesn\\'t work wonders for a certain minority of individuals.\\n27 Jun 2020, 08:05 PM\\nReply\\n0\\nLike\\nMaxPower912\\nComments6568 | + Follow\\nthe same people that also beg to differ on wearing masks and global warming ?\\n27 Jun 2020, 08:19 PM\\nReply\\n0\\nLike\\nMaxPower912\\nComments6568 | + Follow\\nthe best single thing you can do for the environment is eat less meat\\n27 Jun 2020, 08:20 PM\\nReply\\n0\\nLike\\nwidgets\\nComments501 | + Follow\\nNKLA - No hydrogen fueling stations\\n- no product\\n- no factory\\n- CEO is a high school dropout who failed to make a natural gas vehicle, but learned just\\ntalking B.S will put cash in your pocket.\\n- Jump in the waters fine.\\n27 Jun 2020, 09:48 AM\\nReply\\n13\\nLike\\nSkaterdude\\nComments3529 | + Follow\\nIt looks like they are going to use hydrogen generators at each station (electrolysis), rather than pipelines. It\\'s inefficient and costly. Didn\\'t know they are claiming 600 miles range (battery + fuel cell); not sure how they are going to package that.\\n27 Jun 2020, 10:07 AM\\nReply\\n3\\nLike\\nEntreri\\nComments1257 | + Follow\\n@widgets\\nHigh school drop out? Just wow.\\nAnd Trevor thinks he is better than Elon, lol!\\nTrevor accomplishments are failed small businesses.\\nElon Musk accomplishments before joining Tesla, founded and co-founded PayPal and SpaceX. Elon has made Tesla a tech darling and a Juggernaut.\\n27 Jun 2020, 10:27 AM\\nReply\\n7\\nLike\\nitsNifty\\nComments23 | + Follow\\n@widgets JPMORGAN lost al credibility\\n27 Jun 2020, 10:29 AM\\nReply\\n0\\nLike\\nGame Changer\\nComments197 | + Follow\\n@widgets\\nI did not know that Trevor Milton was supposedly a high school drop out so I looked it up.\\nWhy did you need to make up a blatently false statement like that? What does that say about the accuracy and veracity of your other online statements?\\nHe did drop out of college as did Bill Gates, Steve Jobs, and several other self made billionaires.\\nThere are thousands of people with PhD\\'s and not much more.\\nBTW: I have no intent to gamble in NKLA or Tsla.\\nI don\\'t blindly worship CEO\\'s or politicians as gurus.\\n27 Jun 2020, 03:47 PM\\nReply\\n0\\nLike\\nwidgets\\nComments501 | + Follow\\nTo be fair he did get a GED. Ha\\n27 Jun 2020, 06:09 PM\\nReply\\n0\\nLike\\nwidgets\\nComments501 | + Follow\\n@Game Changer He Tweeted it himself on his Twitter feed June 9th 2020 12:19 pm. (edited)\\n27 Jun 2020, 06:27 PM\\nReply\\n0\\nLike\\nNovavax Op Warp Speed\\nComments3002 | + Follow\\nThe U.S government seems to be getting more involved in supporting $NOK & $ERIC for 5G contracts, to counter Huawei. As Singapore just approved $NOK as a contractor for 5G, snubbing Huawei. Nokia is the \"black swan\" in the 5G sector.\\n27 Jun 2020, 09:47 AM\\nReply\\n7\\nLike\\nmetoo5\\nComments2412 | + Follow\\n@Novavax - I don’t think there is a 5G sector anymore than there was a 4G or 3G sector. There a comm sector.\\n27 Jun 2020, 03:33 PM\\nReply\\n1\\nLike\\nBrandanS\\nComments8 | + Follow\\n@metoo5 I agree in the short term. But what I hear is the actual game changing element of 5g is that it is the gateway to the Internet of Things. That\\'s why many are buying semiconductor company stocks as their 5g play as opposed to traditional telecommunications companies like Verizon, At&amp;t, Nokia, CCI, etc\\n27 Jun 2020, 05:48 PM\\nReply\\n0\\nLike\\nRhmassing\\nComments2233 | + Follow\\nWFC has suffered from its own missteps and scandals to have dropped to such level being the lowest PE stock among its peers. Every piece of negative news has been reflected in its price. Naturally the dividend Is high because its low share price, not because it raised dividend payout. Now this Barron’ piece added another attempt to lower its share price to the advantage of those intending to accumulate shares big time. Yes, WFC’s dividend will gradual be reduced from now 7% to a level more like the rest of its peers, not because the actual dividend reduction, but due to its gradual rising share price. Anyone who is still interest in this sector, WFC is the best value of the bunch with this latest downbeat comments.\\n27 Jun 2020, 09:41 AM\\nReply\\n3\\nLike\\nNovavax Op Warp Speed\\nComments3002 | + Follow\\nNow would be a good time for $GS to offer $WFC an M&A deal. Could it happen? I surely don\\'t know, just throwing the suggestion out there.\\n27 Jun 2020, 10:05 AM\\nReply\\n1\\nLike\\ntrsales\\nComments1138 | + Follow\\n@Rhmassing \"WFC’s dividend will gradual be reduced from now 7% to a level more like the rest of its peers, not because the actual dividend reduction\"\\nThe fed just mandated banks to reduce any dividends to less than the trailing current 12 month earnings. Most major banks were in the 30% range which should be fine for now, but WFC was over 100% making a dividend cut a certainty. If WFC were to reduce their dividend to similar large bank payout ratios, the cut would be over 50%.\\n27 Jun 2020, 10:16 AM\\nReply\\n2\\nLike\\nchucklab\\nComments1625 | + Follow\\nq4blog.com/...\\n27 Jun 2020, 09:38 AM\\nReply\\n0\\nLike\\nNovavax Op Warp Speed\\nComments3002 | + Follow\\nThe government needs to replace Obamacare, its time has come & gone. The American citizen needs better healthcare, maybe Trumpcare would come up with better. Guess we\\'ll have to wait & see what develops.\\n27 Jun 2020, 09:37 AM\\nReply\\n6\\nLike\\nSkaterdude\\nComments3529 | + Follow\\nThe Republicans have had 6 years and have failed to come up with an alternative. We can always hope they will kill it and get routed from Congress and the White House for doing it.\\n27 Jun 2020, 10:09 AM\\nReply\\n12\\nLike\\nhockey11\\nComments158 | + Follow\\nTrumpcare? Thanks for the morning laugh.\\n27 Jun 2020, 10:13 AM\\nReply\\n15\\nLike\\nNovavax Op Warp Speed\\nComments3002 | + Follow\\n@hockey11 we could all use a good laugh these days.\\n27 Jun 2020, 10:20 AM\\nReply\\n1\\nLike\\nrichardsymms\\nComments231 | + Follow\\nPerfect timing too! With the election ahead, people will be happy to know there will be a replacement for Obamacare. Lots of votes will be gained for Trump. Right?\\n27 Jun 2020, 10:43 AM\\nReply\\n2\\nLike\\nAnadromic\\nComments13 | + Follow\\n@richardsymms Trumpcare, like INFRASTRUCTURE WEEK!, is a fantasy. The man is a psychopath who let Putin put bounties on US troops and thinks the only problem with coronavirus is too much testing.\\n27 Jun 2020, 12:02 PM\\nReply\\n4\\nLike\\nmedfub-1gubdo-gymnUw\\nPREMIUM\\nComments3 | + Follow\\nCan’t wait to see the alternatives ideas, Biden’s a literal Genius, look where his 45 years got US.\\n27 Jun 2020, 01:34 PM\\nReply\\n1\\nLike\\nmikesuntok\\nComments158 | + Follow\\nNot going to happen before Nov 3! With all the lay-offs and no medical, there will be more than 30 million without medical.\\n27 Jun 2020, 02:11 PM\\nReply\\n0\\nLike\\nMaxPower912\\nComments6568 | + Follow\\nNovavax,\\nby not just letting it be, and by trying for 4 years to kill it including right now at the supreme court level --- this administration and the republicans have made it a guarantee that the next administration will add to it, or go even further, and make it more permanent. there is no chance the USA ever goes back. no chance. none.\\nthe pendulum is about to swing back, and farther than ever before, and your side is on the losing side. that is the truth\\n27 Jun 2020, 07:01 PM\\nReply\\n0\\nLike\\nChris Lau\\nContributorPREMIUMMarketplace Guide\\nComments10356 | + Follow\\nMicron\\'s going to crush expectations. PT $100.\\nBoycott on $FB? Please. Billions of users hooked to the site. The truth is the companies are cutting ad spend and business is down. Use the list of companies boycotting the site to short-sell them $KO $UL and yucky Hershey chocolate.\\nShort $NKLA. Ford\\'s new f-150 hybrid is a sleeping giant.\\nWatch REITs but beware the yield trap (high yield, falling stock price): https://bit.ly/31hWSXs\\n$NOK 5G. Struggling, it will get to my PT $7.00. https://bit.ly/2XWVpCV\\n27 Jun 2020, 09:28 AM\\nReply\\n8\\nLike\\n16253672\\nComments345 | + Follow\\n@Chris Lau agreed. In the above article, the analyst was worried about guidance.\\nIf guidance is good, we may be on the move up to 100 next year. But I would be happy with 65 first.\\n162\\n27 Jun 2020, 09:35 AM\\nReply\\n0\\nLike\\nMedici\\nPREMIUM\\nComments133 | + Follow\\n@Chris Lau have you seen how much it costs to borrow NKLA? And the puts... wow\\n27 Jun 2020, 09:47 AM\\nReply\\n2\\nLike\\nCru3z\\nComments18 | + Follow\\n@Chris Lau Millennials are not interested in Ford. \"Smart\" technology has fulfilled their visions. Therefore, Tesla or Nikola are a good bet. Even Mercedes Benz is looking into self driving technology with Nvidia.\\nFacebook is 15+ years old and Gen Z barely use the platform. It is mostly used to keep in contact with family, not friends. Instagram is what is keeping the younger crowd on Facebook\\'s behalf. SNAP and TikTok is their choice.\\nNokia is not the only 5G provider.\\n27 Jun 2020, 10:04 AM\\nReply\\n4\\nLike\\nEntreri\\nComments1257 | + Follow\\n@Cru3z\\nTesla and possibly Rivian are good bets.\\nTesla is the new Apple.\\n27 Jun 2020, 10:32 AM\\nReply\\n1\\nLike\\nJ.C. Stowell\\nComments129 | + Follow\\n@Chris Lau\\nI don\\'t see the F-150 Hybrid being the sleeping giant that you believe it is. Failure to execute, playing catchup with other Mfgs, increasing competition and a still questionable Esuite just doesn\\'t cut it.\\n27 Jun 2020, 10:50 AM\\nReply\\n1\\nLike\\nDienteQ\\nComments28 | + Follow\\n@Cru3z.....”Millennials” neither drive nor work, so affording or buying a $45-65,000 truck is not part of that issue. They protest well on foot, though.....maybe “NIke”?\\n27 Jun 2020, 12:01 PM\\nReply\\n9\\nLike\\nNovavax Op Warp Speed\\nComments3002 | + Follow\\n@DienteQ too funny, but true in many ways.\\n27 Jun 2020, 12:12 PM\\nReply\\n1\\nLike\\nLeroyboy66\\nComments119 | + Follow\\n@DienteQ\\nHilarious but sadly true..\\nMost of them sponge off mommy ...\\n27 Jun 2020, 06:09 PM\\nReply\\n1\\nLike\\nMaxPower912\\nComments6568 | + Follow\\nmillennials were born 1981 to 1996\\nso, 24 to 39 years old\\nyou think most in this age range are sponging off mommy?\\nor are you projecting?\\n27 Jun 2020, 06:56 PM\\nReply\\n0\\nLike\\nNovavax Op Warp Speed\\nComments3002 | + Follow\\n@Leroyboy66 & hibernate in their basements, playing video games all damn day, or walking around all day with their iphones glued to the palm of their hands.\\n27 Jun 2020, 07:04 PM\\nReply\\n0\\nLike\\nKeyone903\\nComments3 | + Follow\\nI know several millennials who drive expensive truck,s but they live with mom and dad!\\n27 Jun 2020, 08:17 PM\\nReply\\n0\\nLike\\nSuited_aces1\\nComments383 | + Follow\\nThe tech sector needs Micron to provide strong guidance\\n27 Jun 2020, 09:27 AM\\nReply\\n5\\nLike\\nNovavax Op Warp Speed\\nComments3002 | + Follow\\nI wonder if the Fed will continue to spend trillions every year, or even forever to support the market? Will it ever end?\\n27 Jun 2020, 09:22 AM\\nReply\\n0\\nLike\\nNovavax Op Warp Speed\\nComments3002 | + Follow\\nBoycott Facebook & Twitter?\\nI would love to see more companies boycott $FB & TWTR through July or even longer, to put even more pressure on them to be more unbiased & transparent.\\n27 Jun 2020, 09:17 AM\\nReply\\n15\\nLike\\njosephrichardzaleski\\nComments27 | + Follow\\nDo your research. The pressure is to eliminate hate speech and calls for violence. So no, it won’t be “unbiased & transparent”, code for “let Trump say whatever he wants” without any consequences.\\n27 Jun 2020, 09:40 AM\\nReply\\n5\\nLike\\nNovavax Op Warp Speed\\nComments3002 | + Follow\\n@josephrichardzaleski FAKE POST??\\n27 Jun 2020, 10:11 AM\\nReply\\n10\\nLike\\nZubrowka\\nComments181 | + Follow\\n@josephrichardzaleski The problem with \"hate speech,\" as a category, is it is too broad, elusive of definition. One pair of persons\\' reasonable mutual disagreement may be perceived by another as \"hate speech,\" if only because this other person does not see or understand the reason and thus may hastily conclude the driver must be \"hate.\"\\nPlugging in \"hate\" as a gap-filler for understanding is as old as time, and is part and parcel to the escalation of conflicts of a peaceful nature to violence. I suggest we see the physical manifestations of that pattern in the present moment as civil society is indeed tested. (edited)\\n27 Jun 2020, 12:55 PM\\nReply\\n3\\nLike\\njosephrichardzaleski\\nComments27 | + Follow\\nWhat the hell does “fake post” mean? Perhaps read a book as opposed to regurgitating Trump lines.\\n27 Jun 2020, 01:30 PM\\nReply\\n1\\nLike\\njoedroid78\\nComments4 | + Follow\\n@josephrichardzaleski. What are you talking about? I don\\'t want to make this a political conversation. Anyway, Trump calling for violence is just a liberal/left\\'s fantasy and wet dream. The left leaning media has vigorously promotes it and people like you have fallen for it. He called for tougher action against rioters, nothing more nothing less. The only people that encouraged violence here are the leadership of the cities (95% Democrats) who sat silently as the anarchy ensured.\\nWell, you can\\'t call me a racist as I\\'m a brown skinned immigrant myself and I love the land (USA) that gave me everything I have now. Thank you\\n27 Jun 2020, 01:33 PM\\nReply\\n8\\nLike\\njosephrichardzaleski\\nComments27 | + Follow\\n@joedroid78 Trump said, “when the looting starts, the shooting starts”. This is a call to violence on American citizens. No, ifs, and, or buts about. Stop trying to paint it another way.\\n27 Jun 2020, 01:36 PM\\nReply\\n4\\nLike\\njoedroid78\\nComments4 | + Follow\\n@josephrichardzaleski\\nIf I own a business that I spent years building with my hardwork, tears, pain and a looter enters with the intention of pillaging my work...sorry, if I own a gun, I will use it. Nothing wrong in what he said.\\n27 Jun 2020, 02:01 PM\\nReply\\n5\\nLike\\nAndreP\\nComments1612 | + Follow\\nJoe, you qualified your statement to Jose eluding to a specific situation and because of that, I can agree with you. However, Mr. Trump never does that. He makes a broad open ended statement interpreted by anyone as they see fit. That is the problem and he does that on purpose as the leader of this country.\\n27 Jun 2020, 04:38 PM\\nReply\\n2\\nLike\\njoedroid78\\nComments4 | + Follow\\n@AndreP\\nAndre, Trump was never a politician. You can never expect him to be as smooth an operator as other politician. But, I believe his commitment towards the country (as crude as it may show) is definitely better than his predecessors. To use this only weakness as if he hates 1/2 the country is not correct. He may not have said the politically correct thing in several occasions, but that\\'s not a reason to disqualify his achievements.\\n27 Jun 2020, 04:50 PM\\nReply\\n3\\nLike\\nMaxPower912\\nComments6568 | + Follow\\njoedroid78,\\nexcuses. if you take the job, you do the job. you don\\'t say you were never a politician.\\nexcuses are for losers. everyone knows that. everyone.\\n27 Jun 2020, 06:50 PM\\nReply\\n0\\nLike\\njoedroid78\\nComments4 | + Follow\\n@MaxPower912\\nNo one is giving any excuses, it\\'s only in your mind. When you talk about \"doing the job\", he has done the job of the President better than others. If you are going to prefer a smooth talker but accomplishes nothing, please feel free to vote for Biden. Remember, it is under these smooth talking politician\\'s nose, that the middle class and the jobs that support them were shipped overseas. It\\'s unbelievable how soany gets offended by \"words\"\\n27 Jun 2020, 07:23 PM\\nReply\\n2\\nLike\\nBasit Saliu\\nComments18265 | + Follow\\nT\\'s new CEO on Wednesday. Hopefully it is a great week for the stock market. Thank you SA. (edited)\\n27 Jun 2020, 09:17 AM\\nReply\\n3\\nLike\\nDisagree with this article? Submit your own.\\nTo report a factual error in this article, click here.\\nYour feedback matters to us!'"
      ]
     },
     "execution_count": 127,
     "metadata": {},
     "output_type": "execute_result"
    }
   ],
   "source": [
    "# The Article has comments, which for now I am going to take out. This code will separate the article into two sections with \"Like this article\" as the separator\n",
    "sep = 'Recommended for you:'\n",
    "article.text.split(sep,1)[1]"
   ]
  },
  {
   "cell_type": "code",
   "execution_count": null,
   "metadata": {},
   "outputs": [],
   "source": []
  },
  {
   "cell_type": "code",
   "execution_count": null,
   "metadata": {},
   "outputs": [],
   "source": []
  },
  {
   "cell_type": "code",
   "execution_count": null,
   "metadata": {},
   "outputs": [],
   "source": []
  },
  {
   "cell_type": "code",
   "execution_count": null,
   "metadata": {},
   "outputs": [],
   "source": []
  },
  {
   "cell_type": "code",
   "execution_count": null,
   "metadata": {},
   "outputs": [],
   "source": []
  },
  {
   "cell_type": "code",
   "execution_count": null,
   "metadata": {},
   "outputs": [],
   "source": []
  },
  {
   "cell_type": "code",
   "execution_count": null,
   "metadata": {},
   "outputs": [],
   "source": []
  },
  {
   "cell_type": "code",
   "execution_count": null,
   "metadata": {},
   "outputs": [],
   "source": []
  },
  {
   "cell_type": "code",
   "execution_count": 178,
   "metadata": {},
   "outputs": [],
   "source": [
    "r = urllib.request.Request(url, headers={'User-Agent': 'Chrome/83.0.4103.116'})"
   ]
  },
  {
   "cell_type": "code",
   "execution_count": 179,
   "metadata": {},
   "outputs": [],
   "source": [
    "html = urllib.request.urlopen(r)\n",
    "time.sleep(10)\n",
    "\n",
    "html = html.read()"
   ]
  },
  {
   "cell_type": "code",
   "execution_count": 174,
   "metadata": {},
   "outputs": [
    {
     "name": "stdout",
     "output_type": "stream",
     "text": [
      "200\n"
     ]
    }
   ],
   "source": [
    "\n",
    "# Establishing the connection to the web page:\n",
    "response = requests.get(url)\n",
    "print(response.status_code)\n",
    "\n",
    "# Pull the HTML string out of requests and convert it to a Python string.\n",
    "html = response.text\n"
   ]
  },
  {
   "cell_type": "code",
   "execution_count": 175,
   "metadata": {},
   "outputs": [
    {
     "ename": "RuntimeError",
     "evalue": "Cannot use HTMLSession within an existing event loop. Use AsyncHTMLSession instead.",
     "output_type": "error",
     "traceback": [
      "\u001b[0;31m---------------------------------------------------------------------------\u001b[0m",
      "\u001b[0;31mRuntimeError\u001b[0m                              Traceback (most recent call last)",
      "\u001b[0;32m<ipython-input-175-acf25160689b>\u001b[0m in \u001b[0;36m<module>\u001b[0;34m\u001b[0m\n\u001b[1;32m      5\u001b[0m \u001b[0mr\u001b[0m \u001b[0;34m=\u001b[0m \u001b[0msession\u001b[0m\u001b[0;34m.\u001b[0m\u001b[0mget\u001b[0m\u001b[0;34m(\u001b[0m\u001b[0murl\u001b[0m\u001b[0;34m)\u001b[0m\u001b[0;34m\u001b[0m\u001b[0;34m\u001b[0m\u001b[0m\n\u001b[1;32m      6\u001b[0m \u001b[0;34m\u001b[0m\u001b[0m\n\u001b[0;32m----> 7\u001b[0;31m \u001b[0mr\u001b[0m\u001b[0;34m.\u001b[0m\u001b[0mhtml\u001b[0m\u001b[0;34m.\u001b[0m\u001b[0mrender\u001b[0m\u001b[0;34m(\u001b[0m\u001b[0;34m)\u001b[0m\u001b[0;34m\u001b[0m\u001b[0;34m\u001b[0m\u001b[0m\n\u001b[0m",
      "\u001b[0;32m~/opt/anaconda3/envs/dsi/lib/python3.7/site-packages/requests_html.py\u001b[0m in \u001b[0;36mrender\u001b[0;34m(self, retries, script, wait, scrolldown, sleep, reload, timeout, keep_page)\u001b[0m\n\u001b[1;32m    584\u001b[0m         \"\"\"\n\u001b[1;32m    585\u001b[0m \u001b[0;34m\u001b[0m\u001b[0m\n\u001b[0;32m--> 586\u001b[0;31m         \u001b[0mself\u001b[0m\u001b[0;34m.\u001b[0m\u001b[0mbrowser\u001b[0m \u001b[0;34m=\u001b[0m \u001b[0mself\u001b[0m\u001b[0;34m.\u001b[0m\u001b[0msession\u001b[0m\u001b[0;34m.\u001b[0m\u001b[0mbrowser\u001b[0m  \u001b[0;31m# Automatically create a event loop and browser\u001b[0m\u001b[0;34m\u001b[0m\u001b[0;34m\u001b[0m\u001b[0m\n\u001b[0m\u001b[1;32m    587\u001b[0m         \u001b[0mcontent\u001b[0m \u001b[0;34m=\u001b[0m \u001b[0;32mNone\u001b[0m\u001b[0;34m\u001b[0m\u001b[0;34m\u001b[0m\u001b[0m\n\u001b[1;32m    588\u001b[0m \u001b[0;34m\u001b[0m\u001b[0m\n",
      "\u001b[0;32m~/opt/anaconda3/envs/dsi/lib/python3.7/site-packages/requests_html.py\u001b[0m in \u001b[0;36mbrowser\u001b[0;34m(self)\u001b[0m\n\u001b[1;32m    727\u001b[0m             \u001b[0mself\u001b[0m\u001b[0;34m.\u001b[0m\u001b[0mloop\u001b[0m \u001b[0;34m=\u001b[0m \u001b[0masyncio\u001b[0m\u001b[0;34m.\u001b[0m\u001b[0mget_event_loop\u001b[0m\u001b[0;34m(\u001b[0m\u001b[0;34m)\u001b[0m\u001b[0;34m\u001b[0m\u001b[0;34m\u001b[0m\u001b[0m\n\u001b[1;32m    728\u001b[0m             \u001b[0;32mif\u001b[0m \u001b[0mself\u001b[0m\u001b[0;34m.\u001b[0m\u001b[0mloop\u001b[0m\u001b[0;34m.\u001b[0m\u001b[0mis_running\u001b[0m\u001b[0;34m(\u001b[0m\u001b[0;34m)\u001b[0m\u001b[0;34m:\u001b[0m\u001b[0;34m\u001b[0m\u001b[0;34m\u001b[0m\u001b[0m\n\u001b[0;32m--> 729\u001b[0;31m                 \u001b[0;32mraise\u001b[0m \u001b[0mRuntimeError\u001b[0m\u001b[0;34m(\u001b[0m\u001b[0;34m\"Cannot use HTMLSession within an existing event loop. Use AsyncHTMLSession instead.\"\u001b[0m\u001b[0;34m)\u001b[0m\u001b[0;34m\u001b[0m\u001b[0;34m\u001b[0m\u001b[0m\n\u001b[0m\u001b[1;32m    730\u001b[0m             \u001b[0mself\u001b[0m\u001b[0;34m.\u001b[0m\u001b[0m_browser\u001b[0m \u001b[0;34m=\u001b[0m \u001b[0mself\u001b[0m\u001b[0;34m.\u001b[0m\u001b[0mloop\u001b[0m\u001b[0;34m.\u001b[0m\u001b[0mrun_until_complete\u001b[0m\u001b[0;34m(\u001b[0m\u001b[0msuper\u001b[0m\u001b[0;34m(\u001b[0m\u001b[0;34m)\u001b[0m\u001b[0;34m.\u001b[0m\u001b[0mbrowser\u001b[0m\u001b[0;34m)\u001b[0m\u001b[0;34m\u001b[0m\u001b[0;34m\u001b[0m\u001b[0m\n\u001b[1;32m    731\u001b[0m         \u001b[0;32mreturn\u001b[0m \u001b[0mself\u001b[0m\u001b[0;34m.\u001b[0m\u001b[0m_browser\u001b[0m\u001b[0;34m\u001b[0m\u001b[0;34m\u001b[0m\u001b[0m\n",
      "\u001b[0;31mRuntimeError\u001b[0m: Cannot use HTMLSession within an existing event loop. Use AsyncHTMLSession instead."
     ]
    }
   ],
   "source": [
    "from requests_html import HTMLSession\n",
    "\n",
    "session = HTMLSession()\n",
    "\n",
    "r = session.get(url)\n",
    "\n",
    "r.html.render()"
   ]
  },
  {
   "cell_type": "code",
   "execution_count": null,
   "metadata": {},
   "outputs": [],
   "source": []
  },
  {
   "cell_type": "code",
   "execution_count": null,
   "metadata": {},
   "outputs": [],
   "source": []
  },
  {
   "cell_type": "code",
   "execution_count": null,
   "metadata": {},
   "outputs": [],
   "source": []
  },
  {
   "cell_type": "code",
   "execution_count": null,
   "metadata": {},
   "outputs": [],
   "source": []
  },
  {
   "cell_type": "code",
   "execution_count": null,
   "metadata": {},
   "outputs": [],
   "source": []
  },
  {
   "cell_type": "code",
   "execution_count": null,
   "metadata": {},
   "outputs": [],
   "source": []
  },
  {
   "cell_type": "code",
   "execution_count": null,
   "metadata": {},
   "outputs": [],
   "source": []
  },
  {
   "cell_type": "code",
   "execution_count": 113,
   "metadata": {},
   "outputs": [],
   "source": [
    "soup = BeautifulSoup(html,'lxml')"
   ]
  },
  {
   "cell_type": "code",
   "execution_count": null,
   "metadata": {},
   "outputs": [],
   "source": []
  },
  {
   "cell_type": "code",
   "execution_count": null,
   "metadata": {},
   "outputs": [],
   "source": []
  },
  {
   "cell_type": "code",
   "execution_count": 170,
   "metadata": {},
   "outputs": [
    {
     "ename": "AttributeError",
     "evalue": "module 'urllib3' has no attribute 'urlopen'",
     "output_type": "error",
     "traceback": [
      "\u001b[0;31m---------------------------------------------------------------------------\u001b[0m",
      "\u001b[0;31mAttributeError\u001b[0m                            Traceback (most recent call last)",
      "\u001b[0;32m<ipython-input-170-1f63a8a26601>\u001b[0m in \u001b[0;36m<module>\u001b[0;34m\u001b[0m\n\u001b[1;32m      1\u001b[0m \u001b[0;32mimport\u001b[0m \u001b[0murllib3\u001b[0m\u001b[0;34m\u001b[0m\u001b[0;34m\u001b[0m\u001b[0m\n\u001b[1;32m      2\u001b[0m \u001b[0;32mimport\u001b[0m \u001b[0mtime\u001b[0m\u001b[0;34m\u001b[0m\u001b[0;34m\u001b[0m\u001b[0m\n\u001b[0;32m----> 3\u001b[0;31m \u001b[0mdata\u001b[0m \u001b[0;34m=\u001b[0m \u001b[0murllib3\u001b[0m\u001b[0;34m.\u001b[0m\u001b[0murlopen\u001b[0m\u001b[0;34m(\u001b[0m\u001b[0murl\u001b[0m\u001b[0;34m)\u001b[0m\u001b[0;34m\u001b[0m\u001b[0;34m\u001b[0m\u001b[0m\n\u001b[0m\u001b[1;32m      4\u001b[0m \u001b[0mtime\u001b[0m\u001b[0;34m.\u001b[0m\u001b[0msleep\u001b[0m\u001b[0;34m(\u001b[0m\u001b[0;36m10\u001b[0m\u001b[0;34m)\u001b[0m\u001b[0;34m\u001b[0m\u001b[0;34m\u001b[0m\u001b[0m\n\u001b[1;32m      5\u001b[0m \u001b[0mdata\u001b[0m \u001b[0;34m=\u001b[0m \u001b[0mdata\u001b[0m\u001b[0;34m.\u001b[0m\u001b[0mread\u001b[0m\u001b[0;34m(\u001b[0m\u001b[0;34m)\u001b[0m\u001b[0;34m\u001b[0m\u001b[0;34m\u001b[0m\u001b[0m\n",
      "\u001b[0;31mAttributeError\u001b[0m: module 'urllib3' has no attribute 'urlopen'"
     ]
    }
   ],
   "source": [
    "import urllib3\n",
    "import time\n",
    "data = urllib3.urlopen(url)\n",
    "time.sleep(10)\n",
    "data = data.read()"
   ]
  },
  {
   "cell_type": "code",
   "execution_count": null,
   "metadata": {},
   "outputs": [],
   "source": []
  },
  {
   "cell_type": "code",
   "execution_count": null,
   "metadata": {},
   "outputs": [],
   "source": []
  },
  {
   "cell_type": "code",
   "execution_count": null,
   "metadata": {},
   "outputs": [],
   "source": []
  },
  {
   "cell_type": "code",
   "execution_count": null,
   "metadata": {},
   "outputs": [],
   "source": []
  },
  {
   "cell_type": "code",
   "execution_count": null,
   "metadata": {},
   "outputs": [],
   "source": []
  },
  {
   "cell_type": "code",
   "execution_count": null,
   "metadata": {},
   "outputs": [],
   "source": []
  },
  {
   "cell_type": "code",
   "execution_count": 15,
   "metadata": {},
   "outputs": [
    {
     "ename": "IndexError",
     "evalue": "list index out of range",
     "output_type": "error",
     "traceback": [
      "\u001b[0;31m---------------------------------------------------------------------------\u001b[0m",
      "\u001b[0;31mIndexError\u001b[0m                                Traceback (most recent call last)",
      "\u001b[0;32m<ipython-input-15-7828625086f6>\u001b[0m in \u001b[0;36m<module>\u001b[0;34m\u001b[0m\n\u001b[1;32m     22\u001b[0m         \u001b[0mresults_list\u001b[0m\u001b[0;34m.\u001b[0m\u001b[0mappend\u001b[0m\u001b[0;34m(\u001b[0m\u001b[0mresult\u001b[0m\u001b[0;34m)\u001b[0m\u001b[0;34m\u001b[0m\u001b[0;34m\u001b[0m\u001b[0m\n\u001b[1;32m     23\u001b[0m \u001b[0;34m\u001b[0m\u001b[0m\n\u001b[0;32m---> 24\u001b[0;31m \u001b[0mresults_list\u001b[0m\u001b[0;34m[\u001b[0m\u001b[0;36m0\u001b[0m\u001b[0;34m]\u001b[0m\u001b[0;34m\u001b[0m\u001b[0;34m\u001b[0m\u001b[0m\n\u001b[0m",
      "\u001b[0;31mIndexError\u001b[0m: list index out of range"
     ]
    }
   ],
   "source": [
    "results_list = []\n",
    "\n",
    "articles = soup.find_all('article', {'class':'title'})\n",
    "\n",
    "for element in articles:\n",
    "    # start a dictionary to store this item's data\n",
    "    result = {}\n",
    "    \n",
    "    # get the title and full link/url\n",
    "    a_href = element.find('a')\n",
    "    if a_href:\n",
    "        result['title'] = a_href.text   # element text\n",
    "        result['link'] = a_href['href'] # href link\n",
    "        \n",
    "    # get the url domain\n",
    "    span = element.find('span', {'class':'comhead'})\n",
    "    if span:\n",
    "        result['url'] = span.text.strip()[1:-1]\n",
    "        \n",
    "    # only store \"full\" rows of data\n",
    "    if len(result) == 3:\n",
    "        results_list.append(result)\n",
    "        \n",
    "results_list[0]"
   ]
  }
 ],
 "metadata": {
  "kernelspec": {
   "display_name": "Python 3",
   "language": "python",
   "name": "python3"
  },
  "language_info": {
   "codemirror_mode": {
    "name": "ipython",
    "version": 3
   },
   "file_extension": ".py",
   "mimetype": "text/x-python",
   "name": "python",
   "nbconvert_exporter": "python",
   "pygments_lexer": "ipython3",
   "version": "3.7.7"
  }
 },
 "nbformat": 4,
 "nbformat_minor": 4
}
