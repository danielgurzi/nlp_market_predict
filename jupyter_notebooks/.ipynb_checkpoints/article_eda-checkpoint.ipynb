{
 "cells": [
  {
   "cell_type": "code",
   "execution_count": 34,
   "metadata": {},
   "outputs": [],
   "source": [
    "import pandas as pd\n",
    "import numpy as np\n",
    "from datetime import date, timedelta\n",
    "from gensim.models import Word2Vec, KeyedVectors\n",
    "import string"
   ]
  },
  {
   "cell_type": "code",
   "execution_count": 8,
   "metadata": {},
   "outputs": [],
   "source": [
    "ticker = 'TSLA'"
   ]
  },
  {
   "cell_type": "code",
   "execution_count": 9,
   "metadata": {},
   "outputs": [],
   "source": [
    "df = pd.read_csv(f'./data/{ticker}.csv')"
   ]
  },
  {
   "cell_type": "code",
   "execution_count": 29,
   "metadata": {},
   "outputs": [],
   "source": [
    "def text_clean(x):\n",
    "    return x.replace(',','').translate(string.punctuation).split('\\n')\n"
   ]
  },
  {
   "cell_type": "code",
   "execution_count": 30,
   "metadata": {
    "collapsed": true,
    "jupyter": {
     "outputs_hidden": true
    }
   },
   "outputs": [
    {
     "data": {
      "text/plain": [
       "['Stocks To Watch: Fireworks For Nikola Tesla And Micron+Jun. 27 2020 9:00 AM ET|101 comments | Includes: AAXN ACCD ALO ALXN AMTI AP ARHH ARNGF                                                                                              +SA Stocks To Watch+Long/short equity special situations event-driven+(55141 followers)+Welcome to Seeking Alpha\\'s Stocks to Watch - a preview of key events scheduled for the next week. Follow this account and turn the e-mail alert on to receive this article in your inbox every Saturday morning. A podcast of Stocks to Watch is also available on Sundays on Seeking Alpha Apple Podcasts Stitcher and Spotify (click the highlighted links).+Federal Reserve Chair Jerome Powell and Treasury Secretary Steven Mnuchin testify before Congress on June 30 in what\\'s expected to be a broad overview of the economy and monetary policy. The Fed\\'s John Williams and Charles Evans also have speeches on the calendar and FOMC minutes are due out on July 1. On the economic front reports on factory orders trade balance and manufacturing PMI will all pour in before the June jobs report steals the show on July 2. Economists project a gain of 3M jobs during the month to take the unemployment rate to 12.2% from 13.3%. If payrolls look weak for June the pressure could increase on President Trump and Senate Republicans to pass another sweeping COVID-19 relief bill. In the energy markets keep an eye on Bloomberg\\'s survey of OPEC June crude production due out on July 1. Will any output surprises bubble to the surface? In the corporate world social media pauses by consumer giants like Coca-Cola (NYSE:KO) Hershey (NYSE:HSY) and Levi Strauss (NYSE:LEVI) could be matched by other companies to increase the headaches for Facebook (NASDAQ:FB) and Twitter (NYSE:TWTR). The market will be closed on July 3 for the Independence break. We gave it a whack but we couldn\\'t find any pure play firework stocks to spotlight.+Earnings spotlight: Micron (NASDAQ:MU) on June 29; Conagra (NYSE:CAG) and FedEx (NYSE:FDX) on June 30; Macy\\'s (NYSE:M) Capri Holdings (NYSE:CPRI) Constellation Brands (NYSE:STZ) and General Mills (NYSE:GIS) on July 1; Lindsay (NYSE:LNN) and Jefferies (NYSE:JEF) on July 2.+Go deeper: See Seeking Alpha\\'s complete list of earnings reporters+IPO watch: IPO pricing are anticipated for DoubleDown Interactive (DDI) and Dun & Bradstreet (DNB) on June 30 as well as Accolade (ACCD) and Lemonade (LMND) on July 1. Quiet period expirations arrive on Warner Music Group (NASDAQ:WMG) and Pliant Therapeutics (NASDAQ:PLRX) on June 29 as well as ZoomInfo (NASDAQ:ZI) Applied Molecular (NASDAQ:AMTI) and Shift4 Payments (NYSE:FOUR) on June 30. All five of those stocks have rallied since their debut from Warner Music\\'s 22% gain to ZoomInfo\\'s 142% pop. Also next week an IPO share lockup arrives on Northstar Gold (OTCPK:NSGCF). Across the Pacific IPO debuts for Kangji Medical ($404M) Gan & Lee Pharmaceuticals ($360M) and Hygeia Healthcare ($286M) are on tap.+Go deeper: Catch up on all the latest IPO news.+M&A tidbits: Mylan (NASDAQ:MYL) shareholders vote on the merger with Pfizer\\'s (NYSE:PFE) Upjohn generic drug business. If the deal is approved new company will be called Viatris and will launch sometime after October 1. The walk date on the China Oceanwide buyout of Genworth Financial (NYSE:GNW) arrives on June 30. A number of mergers close in the July 1-2 time frame including First Horizon (NYSE:FHN)-IBERIABANK (NASDAQ:IBKC) Alio Gold (NYSEMKT:ALO)-Argonaut Gold (OTCPK:ARNGF) Mobile Mini (NASDAQ:MINI)-WillScot (NASDAQ:WSC) and Alexion Pharmaceuticals (NASDAQ:ALXN)-Portola Pharmaceuticals (NASDAQ:PTLA). Keep an eye on Kansas City Southern (NYSE:KSU) amid takeover chatter and VMware (NYSE:VMW) with more talk from Dell (NYSE:DELL) shareholders calling for a spinoff.+Projected dividend changes (quarterly): It is a very light week for dividend projections with only Marsh & McLennan (NYSE:MMC) expected to make a move with a hike to to $0.465 from $0.455.+Spotlight on Nikola: Nikola (NASDAQ:NKLA) will start taking pre-orders on June 29 for the Badger and announce the timing of its Nikola World 2020 event. The electric pickup truck is coming to the market with both a fuel cell and a battery electric version. The fuel cell variant will also have the option to run on full battery power if hydrogen refilling isn\\'t convenient. The Badger will reportedly feature a range of 600 miles (300 on fuel cell +300 on electric) offer over 906 horsepower up to 980 ft-lbs of torque and a 0-to-60 mph sprint time of 2.9 seconds. Crucially Nikola is in the process of choosing an OEM partner (rumors of Fiat Chrysler (NYSE:FCAU)) with an announcement expected soon. JPMorgan is positive on the long-term upside. \"Nikola is poised to disrupt the transportation industry with rapid deployment of hydrogen infrastructure and FCEV powered vehicles for use on long haul trucking routes reducing CO2 emissions meaningfully and positioning the firm for a key role in the future hydrogen economy\" writes analyst Paul Coster and team. \"The resulting business model could be compelling however risks are elevated for this pre-revenue company and the stock looks fully valued here so we look for a pull-back or incremental positive developments to get more constructive\" he adds.+Micron earnings preview: Micron is due to report earnings on June 29 to consensus expectations for revenue of $4.6B to $5.2B in revenue EPS of $0.40 to $0.70 operating expenses of $800 to $850M and gross margin of 29.5% to 32.5%. Analysts think the company\\'s guidance update could rattle the sector. Peers include Samsung and SK Hynix (OTC:HXSCF) on the DRAM side as well as Western Digital (NASDAQ:WDC) and Intel (NASDAQ:INTC) for DRAM and NAND. \"Micron\\'s financial results and the memory market in general have been better than we expected in recent months. However we continue to think there remains significant uncertainty with regard to memory end-market demand memory pricing trends through the rest of this year. We are maintaining our Neutral rating on MU stock\" previews Nomura Instinet on the upcoming print. Micron has topped EPS estimates four quarters in a row.+Firearm checks: Sometime at the end of the week the update on June firearm checks might come firing in from the FBI\\'s National Instant Criminal Background Check System. Gun background checks rose 75% in May on an adjusted basis to follow on strong months in March (+80%) and April (+62%). Was that enough supply or will the civil unrest and election politics factor into June\\'s tally? One data point to consider is that from June 1 to June 17 in Illinois there were more than 42K applications for firearm owner identification cards compared with about 7K during the same time last year. That sounds strong for Smith & Wesson Brands (NASDAQ:SWBI) Vista Outdoor (NYSE:VSTO) Axon Enterprise (NASDAQ:AAXN) Olin Corporation (NYSE:OLN) and Sturm Ruger (NYSE:RGR)+Healthcare watch: A number of companies are due to present at the European Society for Medical Oncology World Congress on July 1-4 including Lineage Cell Therapeutics (NYSEMKT:LCTX) on OPC1 cell therapy program for spinal cord injury presentation Roche (OTCQX:RHHBY) on Phase 1-2 FAP-IL2v data in combination with Tecentriq in pancreatic cancer and Pfizer (PFE) on its Phase 2 Anchor CRC trial of triple combination with Erbitux and doublet (Braftovi and Erbitux). No FDA PDUFA dates are on tap.+Analyst meetings and business updates: Jack in the Box (NASDAQ:JACK) is hosting a Meet and Greet webcast presentation with incoming CEO Darin Harris on June 29. Puration (OTCPK:PURA) is scheduled to post a comprehensive update on the company\\'s overall acquisition campaign on June 30. Last week Puration announced the acquisition of a CBD infused sexual wellness product line to mark its fourth acquisition of the year. International Flavors & Fragrances (NYSE:IFF) has a sustainability call scheduled for June 30. Shares of IFF are up 9.44% over the last 90 days.+Counting Teslas: Tesla (NASDAQ:TSLA) is scheduled to release an update on Q2 deliveries within the first few days of the month. After a slow start due to factory closings Tesla is forecast by Wall Street analysts to have delivered between 60K and 75K units during the quarter while Electrek is tipping the number be surprisingly close to last year\\'s level of 95K. As always Elon Musk is pushing hard at the end of the quarter. \"For many reasons a great deal of Tesla execution worldwide is packed into the final week of the quarter. It is very important that we go all out through end of June 30 to ensure a good outcome\" he e-mailed employees.+Conferences rundown: Sidoti is holding its inaugural Microcap Virtual Investor Conference on June 30. Companies due to give online presentations include CRA International (NASDAQ:CRAI) Wayside Technology (NASDAQ:WSTG) Cematrix (OTCQB:CTXXF) Assure (OTCQB:ARHH) Lifetime Brands (NASDAQ:LCUT) Lincoln Educational Services (NASDAQ:LINC) Digirad (NASDAQ:DRAD) China Distance Education (NYSE:DL) Tupperware Brands (NYSE:TUP) Jerash Holdings (NASDAQ:JRSH) Ampco-Pittsburgh (NYSE:AP) and Poet Technologies (OTCQX:POETF).+U.S. auto sales: TrueCar forecasts auto sales will fall 27.2% in June to 1098960 units. \"Automotive retail continues to show positive momentum rebounding from April lows and performing better than initially expected as states continue to ease restrictions\" notes TrueCar analyst Eric Lyman. The firm also points to significant improvement in the used market where used car sales are expected to be up 16% on a month-to-month comparison. TrueCar June forecast by manufacturer - BMW -20.6% to 27775 units Daimler -35.3% to 18930 units Fiat Chrysler Automobiles -32.8% to 138478 units Ford (NYSE:F) -31.0% to 150925 units GM (NYSE:GM) -31.1% to 171626 units Honda (NYSE:HMC) -20.7% to 107737 units Hyundai (OTCPK:HYMLF)-8.3% to 60585 units Kia (OTCPK:HYMLF) -15.2% to 48148 units Nissan (OTCPK:NSANY) -44.6% to 68469 units Subaru (OTCPK:FUJHY) -4.3% to 58873 units Tesla -54.4% to 6561 units Toyota (NYSE:TM) -27.0% to 147675 units Volkswagen (OTCPK:VWAGY) -17.7% to 46683 units.+Court battles: The CEOs of General Motors and Fiat Chrysler Automobiles have been ordered by a district judge to meet next week in person to resolve their differences about the GM lawsuit filed last year. U.S. District Judge Paul Borman called the litigation a waste of time and resources labeling it a nuclear option. Borman wants GM\\'s Mary Barra and Fiat\\'s Mike Manley to talk in person on July 1 with social-distancing measures in place.+5G watch: MTN Group (OTCPK:MTNOY) will launch its 5G commercial network in South Africa next week joining Vodacom Group and Rain in the race to grab a 5G lead in the nation. MTN is hosting a virtual launch event on June 30 which could throw a spotlight on the industry as a whole. Verizon (NYSE:VZ) just expanded its 5G home Internet service and Nokia (NYSE:NOK) is building out its next-generation 5G AirScale Cloud RAN solution for commercial availability this year. Some of the companies sitting on the sidelines waiting for an acceleration in 5G demand include Qualcomm (NASDAQ:QCOM) Netgear (NASDAQ:NTGR) Skyworks (NASDAQ:SWKS) Crown Castle (NYSE:CCI) China Tower (OTCPK:CTOWY) and Inseego (NASDAQ:INSG). A catch-all for the 5G sector is the Defiance Next Gen Connectivity ETF (NYSEARCA:FIVG).+New Jersey casinos: New Jersey will allow Atlantic City\\'s casinos to reopen to gamblers on July 2 but with 25% capacity limits. New Jersey casinos include Caesars Atlantic City Hotel & Casino (NASDAQ:CZR) Tropicana Atlantic City (NASDAQ:ERI) Bally\\'s (NYSE:TRWH) Golden Nugget (owned by Landry\\'s) Harrah\\'s (CZR) and Borgata (NYSE:MGM).+Product launch: The biggest product launch to watch next week might be Beyond Meat\\'s (NASDAQ:BYND) new limited edition 10-pack of plant-based burgers said to be offered at its most affordable price level ever to consumers. That is great for grillers but for investors the most interesting part might be the distribution network for the burgers that includes some Giant Foods Harris Teeter HEB HyVee Jewel Lidl Safeway ShopRite Stop & Shop SuperValu Target and Walmart stores. Beyond Meat enters next week on a hot streak up 114% over 90 days.+Good news for Boeing: A Federal Aviation Administration certification flight test needed to return Boeing\\'s (NYSE:BA) 737 MAX to service could take place early next week. A certification flight test which likely would last at least two days would be followed by pilot training and other steps before the 737 MAX is approved to fly (probably in September). The successful test flight could help remove some baked-in risk on the 737 Max never flying again and frees up analysts to push up long-term estimates on Boeing.+RVs: While RV shipments numbers for May showed a 30% decline the RV Industry Association says the reality is that the RV industry is very strong. \"Now that all states have reopened coupled with continued media attention on RVs as a way to travel and maintain social distance the outlook for the RV industry this summer is extremely bright\" says RV Industry President Craig Kirby. Investors have been frontrunning the expectation for a strong summer of RV sales bidding up Thor Industries (NYSE:THO) Winnebago Industries (NYSE:WGO) Patrick Industries (NASDAQ:PATK) and LCI Industries (NYSE:LCII) dramatically over the last few months.+Notable annual meetings: eBay (NASDAQ:EBAY) and Eldorado Resorts (ERI) on June 29.+Barron\\'s mentions: Best Buy (NYSE:BBY) Nvidia (NASDAQ:NVDA) and Verizon are singled out as three companies that place a high priority on people which is seen as long-term asset that drives success over the long term. In a ranking of the best CEOs of the year high-profile names like JPMorgan Chase\\'s (NYSE:JPM) Jamie Dimon GM\\'s Mary Barra Tesla\\'s Elon Musk and Microsoft\\'s (NASDAQ:MSFT) Satya Nadella are joined on the list by lesser-known CEOs like Ecolab\\'s (NYSE:ECL) Douglas Baker Nasdaq\\'s (NASDAQ:NDAQ) Adena Friedman and Shopify\\'s (NYSE:SHOP) Tobias Lutke. As for some stock picking the publication points to Dell (DELL) which is seen escaping its valuation purgatory if it spins off VMware next year and maintains a close relationship with the company through a partnership agreement. Wells Fargo (NYSE:WFC) and Capital One Financial (NYSE:COF) are seen as the two banks most at risk at losing investor interest due to the Fed\\'s new dividend limit.+Sources: Bloomberg Automotive News Reuters CNBC EDGAR+Like this article+']"
      ]
     },
     "execution_count": 30,
     "metadata": {},
     "output_type": "execute_result"
    }
   ],
   "source": [
    "text_clean(df['article'][0])"
   ]
  },
  {
   "cell_type": "code",
   "execution_count": 44,
   "metadata": {},
   "outputs": [],
   "source": [
    "# import google's word2vec located: https://drive.google.com/file/d/0B7XkCwpI5KDYNlNUTTlSS21pQmM/edit?usp=sharing\n",
    "model = KeyedVectors.load_word2vec_format('../../Downloads/GoogleNews-vectors-negative300.bin', binary=True)  \n"
   ]
  },
  {
   "cell_type": "code",
   "execution_count": null,
   "metadata": {},
   "outputs": [],
   "source": []
  },
  {
   "cell_type": "code",
   "execution_count": 6,
   "metadata": {},
   "outputs": [
    {
     "name": "stdout",
     "output_type": "stream",
     "text": [
      "Sun, Jun. 28\n",
      "Sat, Jun. 27\n",
      "Thu, Jun. 25\n",
      "Thu, Jun. 25\n",
      "Thu, Jun. 25\n",
      "Wed, Jun. 24\n",
      "Wed, Jun. 17\n",
      "Wed, Jun. 17\n",
      "Sat, Jun. 27\n"
     ]
    }
   ],
   "source": [
    "\n",
    "for i in df.date:\n",
    "    if \"Today\" in i:\n",
    "        print(i.replace(i, date.today().strftime(\"%a, %b. %d\")))\n",
    "    elif \"Yesterday\" in i:\n",
    "        print(i.replace(i, (date.today() - timedelta(days = 1)).strftime(\"%a, %b. %d\")))\n",
    "    else:\n",
    "        print(i)"
   ]
  },
  {
   "cell_type": "code",
   "execution_count": 21,
   "metadata": {},
   "outputs": [
    {
     "ename": "AttributeError",
     "evalue": "'DataFrame' object has no attribute 'to_datetime'",
     "output_type": "error",
     "traceback": [
      "\u001b[0;31m---------------------------------------------------------------------------\u001b[0m",
      "\u001b[0;31mAttributeError\u001b[0m                            Traceback (most recent call last)",
      "\u001b[0;32m<ipython-input-21-310ddcf57fa8>\u001b[0m in \u001b[0;36m<module>\u001b[0;34m\u001b[0m\n\u001b[0;32m----> 1\u001b[0;31m \u001b[0mdf\u001b[0m\u001b[0;34m.\u001b[0m\u001b[0mto_datetime\u001b[0m\u001b[0;34m(\u001b[0m\u001b[0;34m'date'\u001b[0m\u001b[0;34m,\u001b[0m \u001b[0minfer_datetime_format\u001b[0m\u001b[0;34m=\u001b[0m\u001b[0;32mTrue\u001b[0m\u001b[0;34m)\u001b[0m\u001b[0;34m\u001b[0m\u001b[0;34m\u001b[0m\u001b[0m\n\u001b[0m",
      "\u001b[0;32m~/opt/anaconda3/envs/dsi/lib/python3.7/site-packages/pandas/core/generic.py\u001b[0m in \u001b[0;36m__getattr__\u001b[0;34m(self, name)\u001b[0m\n\u001b[1;32m   5272\u001b[0m             \u001b[0;32mif\u001b[0m \u001b[0mself\u001b[0m\u001b[0;34m.\u001b[0m\u001b[0m_info_axis\u001b[0m\u001b[0;34m.\u001b[0m\u001b[0m_can_hold_identifiers_and_holds_name\u001b[0m\u001b[0;34m(\u001b[0m\u001b[0mname\u001b[0m\u001b[0;34m)\u001b[0m\u001b[0;34m:\u001b[0m\u001b[0;34m\u001b[0m\u001b[0;34m\u001b[0m\u001b[0m\n\u001b[1;32m   5273\u001b[0m                 \u001b[0;32mreturn\u001b[0m \u001b[0mself\u001b[0m\u001b[0;34m[\u001b[0m\u001b[0mname\u001b[0m\u001b[0;34m]\u001b[0m\u001b[0;34m\u001b[0m\u001b[0;34m\u001b[0m\u001b[0m\n\u001b[0;32m-> 5274\u001b[0;31m             \u001b[0;32mreturn\u001b[0m \u001b[0mobject\u001b[0m\u001b[0;34m.\u001b[0m\u001b[0m__getattribute__\u001b[0m\u001b[0;34m(\u001b[0m\u001b[0mself\u001b[0m\u001b[0;34m,\u001b[0m \u001b[0mname\u001b[0m\u001b[0;34m)\u001b[0m\u001b[0;34m\u001b[0m\u001b[0;34m\u001b[0m\u001b[0m\n\u001b[0m\u001b[1;32m   5275\u001b[0m \u001b[0;34m\u001b[0m\u001b[0m\n\u001b[1;32m   5276\u001b[0m     \u001b[0;32mdef\u001b[0m \u001b[0m__setattr__\u001b[0m\u001b[0;34m(\u001b[0m\u001b[0mself\u001b[0m\u001b[0;34m,\u001b[0m \u001b[0mname\u001b[0m\u001b[0;34m:\u001b[0m \u001b[0mstr\u001b[0m\u001b[0;34m,\u001b[0m \u001b[0mvalue\u001b[0m\u001b[0;34m)\u001b[0m \u001b[0;34m->\u001b[0m \u001b[0;32mNone\u001b[0m\u001b[0;34m:\u001b[0m\u001b[0;34m\u001b[0m\u001b[0;34m\u001b[0m\u001b[0m\n",
      "\u001b[0;31mAttributeError\u001b[0m: 'DataFrame' object has no attribute 'to_datetime'"
     ]
    }
   ],
   "source": [
    "df.to_datetime('date', infer_datetime_format=True)"
   ]
  }
 ],
 "metadata": {
  "kernelspec": {
   "display_name": "Python 3",
   "language": "python",
   "name": "python3"
  },
  "language_info": {
   "codemirror_mode": {
    "name": "ipython",
    "version": 3
   },
   "file_extension": ".py",
   "mimetype": "text/x-python",
   "name": "python",
   "nbconvert_exporter": "python",
   "pygments_lexer": "ipython3",
   "version": "3.7.7"
  }
 },
 "nbformat": 4,
 "nbformat_minor": 4
}
