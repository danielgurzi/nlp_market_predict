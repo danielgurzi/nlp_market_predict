{
 "cells": [
  {
   "cell_type": "code",
   "execution_count": 174,
   "metadata": {},
   "outputs": [],
   "source": [
    "import pandas as pd\n",
    "import numpy as np\n",
    "import pickle\n",
    "from sklearn.preprocessing import StandardScaler\n",
    "from sklearn.model_selection import train_test_split\n",
    "from sklearn.metrics import accuracy_score\n",
    "import yfinance as yf\n",
    "\n",
    "from tensorflow.keras.models import Sequential, load_model\n",
    "from tensorflow.keras.layers import Dense, Dropout, GRU\n",
    "from tensorflow.keras.optimizers import Adam\n",
    "from tensorflow.keras.preprocessing.sequence import TimeseriesGenerator\n",
    "\n",
    "import matplotlib.pyplot as plt\n",
    "\n",
    "%matplotlib inline"
   ]
  },
  {
   "cell_type": "code",
   "execution_count": 2,
   "metadata": {},
   "outputs": [],
   "source": [
    "ticker = 'TSLA'"
   ]
  },
  {
   "cell_type": "code",
   "execution_count": 133,
   "metadata": {},
   "outputs": [],
   "source": [
    "# articles = pd.read_csv(f'./data/{ticker}_art_df.csv',index_col='date')\n",
    "dbfile = open('./pickle_jar/articlePickle', 'rb')      \n",
    "articles = pickle.load(dbfile) \n",
    "dbfile.close() "
   ]
  },
  {
   "cell_type": "code",
   "execution_count": 21,
   "metadata": {},
   "outputs": [],
   "source": [
    "stocks = pd.read_csv(f'./data/{ticker}_history.csv', index_col='Date')"
   ]
  },
  {
   "cell_type": "code",
   "execution_count": 194,
   "metadata": {},
   "outputs": [],
   "source": [
    "def get_stock(ticker):\n",
    "    stock = yf.Ticker(ticker).history()\n",
    "    stock.columns = [i.lower() for i in stock.columns]\n",
    "    stock = stock.pct_change()\n",
    "    stock = stock.pct_change()\n",
    "    stock[['dividends','stock splits']] = stock[['dividends','stock splits']].fillna(0)\n",
    "    stock.dropna(inplace=True)\n",
    "\n",
    "    return stock"
   ]
  },
  {
   "cell_type": "code",
   "execution_count": 195,
   "metadata": {},
   "outputs": [],
   "source": [
    "stocks = get_stock('TSLA')"
   ]
  },
  {
   "cell_type": "code",
   "execution_count": 201,
   "metadata": {},
   "outputs": [],
   "source": [
    "stock = yf.Ticker(ticker).history()\n",
    "stock.columns = [i.lower() for i in stock.columns]\n",
    "stock = stock.pct_change()\n",
    "stock = stock.pct_change()\n",
    "stock = stock.pct_change()\n",
    "stock = stock.pct_change()\n",
    "stock[['dividends','stock splits']] = stock[['dividends','stock splits']].fillna(0)\n",
    "stock.dropna(inplace=True)"
   ]
  },
  {
   "cell_type": "code",
   "execution_count": 202,
   "metadata": {},
   "outputs": [
    {
     "data": {
      "image/png": "[encoded data removed]",
      "text/plain": [
       "<Figure size 432x288 with 1 Axes>"
      ]
     },
     "metadata": {
      "needs_background": "light"
     },
     "output_type": "display_data"
    }
   ],
   "source": [
    "plt.plot(stock['close']);"
   ]
  },
  {
   "cell_type": "code",
   "execution_count": 28,
   "metadata": {},
   "outputs": [],
   "source": [
    "# create target columns with prices going up as 1 and down as 0\n",
    "stocks['target'] = (stocks['close'] >= 0).astype(int)\n"
   ]
  },
  {
   "cell_type": "code",
   "execution_count": 147,
   "metadata": {
    "collapsed": true,
    "jupyter": {
     "outputs_hidden": true
    }
   },
   "outputs": [
    {
     "ename": "KeyError",
     "evalue": "\"['name' 'article' 'comments' 'href'] not found in axis\"",
     "output_type": "error",
     "traceback": [
      "\u001b[0;31m---------------------------------------------------------------------------\u001b[0m",
      "\u001b[0;31mKeyError\u001b[0m                                  Traceback (most recent call last)",
      "\u001b[0;32m<ipython-input-147-d06d7ef6a293>\u001b[0m in \u001b[0;36m<module>\u001b[0;34m\u001b[0m\n\u001b[0;32m----> 1\u001b[0;31m \u001b[0marticles\u001b[0m\u001b[0;34m.\u001b[0m\u001b[0mdrop\u001b[0m\u001b[0;34m(\u001b[0m\u001b[0;34m[\u001b[0m\u001b[0;34m'name'\u001b[0m\u001b[0;34m,\u001b[0m\u001b[0;34m'article'\u001b[0m\u001b[0;34m,\u001b[0m\u001b[0;34m'comments'\u001b[0m\u001b[0;34m,\u001b[0m\u001b[0;34m'href'\u001b[0m\u001b[0;34m,\u001b[0m \u001b[0;34m'article_vect'\u001b[0m\u001b[0;34m,\u001b[0m\u001b[0;34m'name_vect'\u001b[0m\u001b[0;34m]\u001b[0m\u001b[0;34m,\u001b[0m \u001b[0maxis\u001b[0m\u001b[0;34m=\u001b[0m\u001b[0;36m1\u001b[0m\u001b[0;34m,\u001b[0m \u001b[0minplace\u001b[0m\u001b[0;34m=\u001b[0m\u001b[0;32mTrue\u001b[0m\u001b[0;34m)\u001b[0m\u001b[0;34m\u001b[0m\u001b[0;34m\u001b[0m\u001b[0m\n\u001b[0m",
      "\u001b[0;32m~/opt/anaconda3/envs/DSI/lib/python3.7/site-packages/pandas/core/frame.py\u001b[0m in \u001b[0;36mdrop\u001b[0;34m(self, labels, axis, index, columns, level, inplace, errors)\u001b[0m\n\u001b[1;32m   3995\u001b[0m             \u001b[0mlevel\u001b[0m\u001b[0;34m=\u001b[0m\u001b[0mlevel\u001b[0m\u001b[0;34m,\u001b[0m\u001b[0;34m\u001b[0m\u001b[0;34m\u001b[0m\u001b[0m\n\u001b[1;32m   3996\u001b[0m             \u001b[0minplace\u001b[0m\u001b[0;34m=\u001b[0m\u001b[0minplace\u001b[0m\u001b[0;34m,\u001b[0m\u001b[0;34m\u001b[0m\u001b[0;34m\u001b[0m\u001b[0m\n\u001b[0;32m-> 3997\u001b[0;31m             \u001b[0merrors\u001b[0m\u001b[0;34m=\u001b[0m\u001b[0merrors\u001b[0m\u001b[0;34m,\u001b[0m\u001b[0;34m\u001b[0m\u001b[0;34m\u001b[0m\u001b[0m\n\u001b[0m\u001b[1;32m   3998\u001b[0m         )\n\u001b[1;32m   3999\u001b[0m \u001b[0;34m\u001b[0m\u001b[0m\n",
      "\u001b[0;32m~/opt/anaconda3/envs/DSI/lib/python3.7/site-packages/pandas/core/generic.py\u001b[0m in \u001b[0;36mdrop\u001b[0;34m(self, labels, axis, index, columns, level, inplace, errors)\u001b[0m\n\u001b[1;32m   3934\u001b[0m         \u001b[0;32mfor\u001b[0m \u001b[0maxis\u001b[0m\u001b[0;34m,\u001b[0m \u001b[0mlabels\u001b[0m \u001b[0;32min\u001b[0m \u001b[0maxes\u001b[0m\u001b[0;34m.\u001b[0m\u001b[0mitems\u001b[0m\u001b[0;34m(\u001b[0m\u001b[0;34m)\u001b[0m\u001b[0;34m:\u001b[0m\u001b[0;34m\u001b[0m\u001b[0;34m\u001b[0m\u001b[0m\n\u001b[1;32m   3935\u001b[0m             \u001b[0;32mif\u001b[0m \u001b[0mlabels\u001b[0m \u001b[0;32mis\u001b[0m \u001b[0;32mnot\u001b[0m \u001b[0;32mNone\u001b[0m\u001b[0;34m:\u001b[0m\u001b[0;34m\u001b[0m\u001b[0;34m\u001b[0m\u001b[0m\n\u001b[0;32m-> 3936\u001b[0;31m                 \u001b[0mobj\u001b[0m \u001b[0;34m=\u001b[0m \u001b[0mobj\u001b[0m\u001b[0;34m.\u001b[0m\u001b[0m_drop_axis\u001b[0m\u001b[0;34m(\u001b[0m\u001b[0mlabels\u001b[0m\u001b[0;34m,\u001b[0m \u001b[0maxis\u001b[0m\u001b[0;34m,\u001b[0m \u001b[0mlevel\u001b[0m\u001b[0;34m=\u001b[0m\u001b[0mlevel\u001b[0m\u001b[0;34m,\u001b[0m \u001b[0merrors\u001b[0m\u001b[0;34m=\u001b[0m\u001b[0merrors\u001b[0m\u001b[0;34m)\u001b[0m\u001b[0;34m\u001b[0m\u001b[0;34m\u001b[0m\u001b[0m\n\u001b[0m\u001b[1;32m   3937\u001b[0m \u001b[0;34m\u001b[0m\u001b[0m\n\u001b[1;32m   3938\u001b[0m         \u001b[0;32mif\u001b[0m \u001b[0minplace\u001b[0m\u001b[0;34m:\u001b[0m\u001b[0;34m\u001b[0m\u001b[0;34m\u001b[0m\u001b[0m\n",
      "\u001b[0;32m~/opt/anaconda3/envs/DSI/lib/python3.7/site-packages/pandas/core/generic.py\u001b[0m in \u001b[0;36m_drop_axis\u001b[0;34m(self, labels, axis, level, errors)\u001b[0m\n\u001b[1;32m   3968\u001b[0m                 \u001b[0mnew_axis\u001b[0m \u001b[0;34m=\u001b[0m \u001b[0maxis\u001b[0m\u001b[0;34m.\u001b[0m\u001b[0mdrop\u001b[0m\u001b[0;34m(\u001b[0m\u001b[0mlabels\u001b[0m\u001b[0;34m,\u001b[0m \u001b[0mlevel\u001b[0m\u001b[0;34m=\u001b[0m\u001b[0mlevel\u001b[0m\u001b[0;34m,\u001b[0m \u001b[0merrors\u001b[0m\u001b[0;34m=\u001b[0m\u001b[0merrors\u001b[0m\u001b[0;34m)\u001b[0m\u001b[0;34m\u001b[0m\u001b[0;34m\u001b[0m\u001b[0m\n\u001b[1;32m   3969\u001b[0m             \u001b[0;32melse\u001b[0m\u001b[0;34m:\u001b[0m\u001b[0;34m\u001b[0m\u001b[0;34m\u001b[0m\u001b[0m\n\u001b[0;32m-> 3970\u001b[0;31m                 \u001b[0mnew_axis\u001b[0m \u001b[0;34m=\u001b[0m \u001b[0maxis\u001b[0m\u001b[0;34m.\u001b[0m\u001b[0mdrop\u001b[0m\u001b[0;34m(\u001b[0m\u001b[0mlabels\u001b[0m\u001b[0;34m,\u001b[0m \u001b[0merrors\u001b[0m\u001b[0;34m=\u001b[0m\u001b[0merrors\u001b[0m\u001b[0;34m)\u001b[0m\u001b[0;34m\u001b[0m\u001b[0;34m\u001b[0m\u001b[0m\n\u001b[0m\u001b[1;32m   3971\u001b[0m             \u001b[0mresult\u001b[0m \u001b[0;34m=\u001b[0m \u001b[0mself\u001b[0m\u001b[0;34m.\u001b[0m\u001b[0mreindex\u001b[0m\u001b[0;34m(\u001b[0m\u001b[0;34m**\u001b[0m\u001b[0;34m{\u001b[0m\u001b[0maxis_name\u001b[0m\u001b[0;34m:\u001b[0m \u001b[0mnew_axis\u001b[0m\u001b[0;34m}\u001b[0m\u001b[0;34m)\u001b[0m\u001b[0;34m\u001b[0m\u001b[0;34m\u001b[0m\u001b[0m\n\u001b[1;32m   3972\u001b[0m \u001b[0;34m\u001b[0m\u001b[0m\n",
      "\u001b[0;32m~/opt/anaconda3/envs/DSI/lib/python3.7/site-packages/pandas/core/indexes/base.py\u001b[0m in \u001b[0;36mdrop\u001b[0;34m(self, labels, errors)\u001b[0m\n\u001b[1;32m   5016\u001b[0m         \u001b[0;32mif\u001b[0m \u001b[0mmask\u001b[0m\u001b[0;34m.\u001b[0m\u001b[0many\u001b[0m\u001b[0;34m(\u001b[0m\u001b[0;34m)\u001b[0m\u001b[0;34m:\u001b[0m\u001b[0;34m\u001b[0m\u001b[0;34m\u001b[0m\u001b[0m\n\u001b[1;32m   5017\u001b[0m             \u001b[0;32mif\u001b[0m \u001b[0merrors\u001b[0m \u001b[0;34m!=\u001b[0m \u001b[0;34m\"ignore\"\u001b[0m\u001b[0;34m:\u001b[0m\u001b[0;34m\u001b[0m\u001b[0;34m\u001b[0m\u001b[0m\n\u001b[0;32m-> 5018\u001b[0;31m                 \u001b[0;32mraise\u001b[0m \u001b[0mKeyError\u001b[0m\u001b[0;34m(\u001b[0m\u001b[0;34mf\"{labels[mask]} not found in axis\"\u001b[0m\u001b[0;34m)\u001b[0m\u001b[0;34m\u001b[0m\u001b[0;34m\u001b[0m\u001b[0m\n\u001b[0m\u001b[1;32m   5019\u001b[0m             \u001b[0mindexer\u001b[0m \u001b[0;34m=\u001b[0m \u001b[0mindexer\u001b[0m\u001b[0;34m[\u001b[0m\u001b[0;34m~\u001b[0m\u001b[0mmask\u001b[0m\u001b[0;34m]\u001b[0m\u001b[0;34m\u001b[0m\u001b[0;34m\u001b[0m\u001b[0m\n\u001b[1;32m   5020\u001b[0m         \u001b[0;32mreturn\u001b[0m \u001b[0mself\u001b[0m\u001b[0;34m.\u001b[0m\u001b[0mdelete\u001b[0m\u001b[0;34m(\u001b[0m\u001b[0mindexer\u001b[0m\u001b[0;34m)\u001b[0m\u001b[0;34m\u001b[0m\u001b[0;34m\u001b[0m\u001b[0m\n",
      "\u001b[0;31mKeyError\u001b[0m: \"['name' 'article' 'comments' 'href'] not found in axis\""
     ]
    }
   ],
   "source": [
    "articles.drop(['name','article','comments','href', 'article_vect','name_vect'], axis=1, inplace=True)"
   ]
  },
  {
   "cell_type": "code",
   "execution_count": 149,
   "metadata": {},
   "outputs": [],
   "source": [
    "df = pd.merge(stocks, articles, left_index=True, right_index=True, how='outer')\n"
   ]
  },
  {
   "cell_type": "code",
   "execution_count": 138,
   "metadata": {
    "collapsed": true,
    "jupyter": {
     "outputs_hidden": true
    }
   },
   "outputs": [
    {
     "data": {
      "text/html": [
       "<div>\n",
       "<style scoped>\n",
       "    .dataframe tbody tr th:only-of-type {\n",
       "        vertical-align: middle;\n",
       "    }\n",
       "\n",
       "    .dataframe tbody tr th {\n",
       "        vertical-align: top;\n",
       "    }\n",
       "\n",
       "    .dataframe thead th {\n",
       "        text-align: right;\n",
       "    }\n",
       "</style>\n",
       "<table border=\"1\" class=\"dataframe\">\n",
       "  <thead>\n",
       "    <tr style=\"text-align: right;\">\n",
       "      <th></th>\n",
       "      <th>open</th>\n",
       "      <th>high</th>\n",
       "      <th>low</th>\n",
       "      <th>close</th>\n",
       "      <th>volume</th>\n",
       "      <th>dividends</th>\n",
       "      <th>stock splits</th>\n",
       "      <th>target</th>\n",
       "      <th>article_vect</th>\n",
       "      <th>name_vect</th>\n",
       "      <th>art_clusters</th>\n",
       "      <th>name_clusters</th>\n",
       "    </tr>\n",
       "  </thead>\n",
       "  <tbody>\n",
       "    <tr>\n",
       "      <th>2020-01-01</th>\n",
       "      <td>NaN</td>\n",
       "      <td>NaN</td>\n",
       "      <td>NaN</td>\n",
       "      <td>NaN</td>\n",
       "      <td>NaN</td>\n",
       "      <td>NaN</td>\n",
       "      <td>NaN</td>\n",
       "      <td>NaN</td>\n",
       "      <td>[0.008461366, 0.05105899, 0.07668589, -0.00334...</td>\n",
       "      <td>[0.054052733, 0.06796875, 0.11328125, -0.14697...</td>\n",
       "      <td>1.0</td>\n",
       "      <td>0.0</td>\n",
       "    </tr>\n",
       "    <tr>\n",
       "      <th>2020-01-02</th>\n",
       "      <td>0.048148</td>\n",
       "      <td>0.022336</td>\n",
       "      <td>0.048821</td>\n",
       "      <td>0.028518</td>\n",
       "      <td>-0.073267</td>\n",
       "      <td>0.0</td>\n",
       "      <td>0.0</td>\n",
       "      <td>1.0</td>\n",
       "      <td>[0.016928406, 0.045346987, 0.036655273, 0.0230...</td>\n",
       "      <td>[0.039111327, 0.005859375, 0.07011719, 0.08488...</td>\n",
       "      <td>0.0</td>\n",
       "      <td>1.0</td>\n",
       "    </tr>\n",
       "    <tr>\n",
       "      <th>2020-01-02</th>\n",
       "      <td>0.048148</td>\n",
       "      <td>0.022336</td>\n",
       "      <td>0.048821</td>\n",
       "      <td>0.028518</td>\n",
       "      <td>-0.073267</td>\n",
       "      <td>0.0</td>\n",
       "      <td>0.0</td>\n",
       "      <td>1.0</td>\n",
       "      <td>[0.025714949, 0.035415903, 0.020181393, 0.1182...</td>\n",
       "      <td>[0.074672155, -0.050136022, 0.023882184, 0.215...</td>\n",
       "      <td>1.0</td>\n",
       "      <td>0.0</td>\n",
       "    </tr>\n",
       "    <tr>\n",
       "      <th>2020-01-03</th>\n",
       "      <td>0.037691</td>\n",
       "      <td>0.054098</td>\n",
       "      <td>0.036067</td>\n",
       "      <td>0.029633</td>\n",
       "      <td>0.865119</td>\n",
       "      <td>0.0</td>\n",
       "      <td>0.0</td>\n",
       "      <td>1.0</td>\n",
       "      <td>[0.023578098, 0.048830442, 0.018772528, 0.0652...</td>\n",
       "      <td>[-0.0076226126, 0.10231527, 0.037326388, 0.106...</td>\n",
       "      <td>1.0</td>\n",
       "      <td>0.0</td>\n",
       "    </tr>\n",
       "    <tr>\n",
       "      <th>2020-01-03</th>\n",
       "      <td>0.037691</td>\n",
       "      <td>0.054098</td>\n",
       "      <td>0.036067</td>\n",
       "      <td>0.029633</td>\n",
       "      <td>0.865119</td>\n",
       "      <td>0.0</td>\n",
       "      <td>0.0</td>\n",
       "      <td>1.0</td>\n",
       "      <td>[0.043289736, 0.044603832, 0.0043062875, 0.060...</td>\n",
       "      <td>[0.104162596, 0.062109374, -0.08823242, 0.0466...</td>\n",
       "      <td>0.0</td>\n",
       "      <td>1.0</td>\n",
       "    </tr>\n",
       "    <tr>\n",
       "      <th>...</th>\n",
       "      <td>...</td>\n",
       "      <td>...</td>\n",
       "      <td>...</td>\n",
       "      <td>...</td>\n",
       "      <td>...</td>\n",
       "      <td>...</td>\n",
       "      <td>...</td>\n",
       "      <td>...</td>\n",
       "      <td>...</td>\n",
       "      <td>...</td>\n",
       "      <td>...</td>\n",
       "      <td>...</td>\n",
       "    </tr>\n",
       "    <tr>\n",
       "      <th>2020-07-07</th>\n",
       "      <td>0.100510</td>\n",
       "      <td>0.037531</td>\n",
       "      <td>0.055820</td>\n",
       "      <td>0.013328</td>\n",
       "      <td>0.042295</td>\n",
       "      <td>0.0</td>\n",
       "      <td>0.0</td>\n",
       "      <td>1.0</td>\n",
       "      <td>NaN</td>\n",
       "      <td>NaN</td>\n",
       "      <td>NaN</td>\n",
       "      <td>NaN</td>\n",
       "    </tr>\n",
       "    <tr>\n",
       "      <th>2020-07-08</th>\n",
       "      <td>0.000000</td>\n",
       "      <td>-0.008562</td>\n",
       "      <td>0.040615</td>\n",
       "      <td>0.003338</td>\n",
       "      <td>-0.925277</td>\n",
       "      <td>0.0</td>\n",
       "      <td>0.0</td>\n",
       "      <td>1.0</td>\n",
       "      <td>NaN</td>\n",
       "      <td>NaN</td>\n",
       "      <td>NaN</td>\n",
       "      <td>NaN</td>\n",
       "    </tr>\n",
       "    <tr>\n",
       "      <th>2020-07-10</th>\n",
       "      <td>NaN</td>\n",
       "      <td>NaN</td>\n",
       "      <td>NaN</td>\n",
       "      <td>NaN</td>\n",
       "      <td>NaN</td>\n",
       "      <td>NaN</td>\n",
       "      <td>NaN</td>\n",
       "      <td>NaN</td>\n",
       "      <td>[0.024432188, 0.042598385, 0.010058287, 0.0648...</td>\n",
       "      <td>[0.026672363, 0.01841518, -0.0068751746, 0.132...</td>\n",
       "      <td>1.0</td>\n",
       "      <td>0.0</td>\n",
       "    </tr>\n",
       "    <tr>\n",
       "      <th>2020-07-10</th>\n",
       "      <td>NaN</td>\n",
       "      <td>NaN</td>\n",
       "      <td>NaN</td>\n",
       "      <td>NaN</td>\n",
       "      <td>NaN</td>\n",
       "      <td>NaN</td>\n",
       "      <td>NaN</td>\n",
       "      <td>NaN</td>\n",
       "      <td>[-0.008264161, 0.034227833, 0.011855691, 0.008...</td>\n",
       "      <td>[0.02183024, 0.07195367, -0.011474609, -0.0324...</td>\n",
       "      <td>1.0</td>\n",
       "      <td>0.0</td>\n",
       "    </tr>\n",
       "    <tr>\n",
       "      <th>2020-07-11</th>\n",
       "      <td>NaN</td>\n",
       "      <td>NaN</td>\n",
       "      <td>NaN</td>\n",
       "      <td>NaN</td>\n",
       "      <td>NaN</td>\n",
       "      <td>NaN</td>\n",
       "      <td>NaN</td>\n",
       "      <td>NaN</td>\n",
       "      <td>[0.07144946, 0.089999326, 0.018507019, 0.02492...</td>\n",
       "      <td>[0.096069336, 0.021107992, 0.045084637, 0.0702...</td>\n",
       "      <td>0.0</td>\n",
       "      <td>1.0</td>\n",
       "    </tr>\n",
       "  </tbody>\n",
       "</table>\n",
       "<p>295 rows × 12 columns</p>\n",
       "</div>"
      ],
      "text/plain": [
       "                open      high       low     close    volume  dividends  \\\n",
       "2020-01-01       NaN       NaN       NaN       NaN       NaN        NaN   \n",
       "2020-01-02  0.048148  0.022336  0.048821  0.028518 -0.073267        0.0   \n",
       "2020-01-02  0.048148  0.022336  0.048821  0.028518 -0.073267        0.0   \n",
       "2020-01-03  0.037691  0.054098  0.036067  0.029633  0.865119        0.0   \n",
       "2020-01-03  0.037691  0.054098  0.036067  0.029633  0.865119        0.0   \n",
       "...              ...       ...       ...       ...       ...        ...   \n",
       "2020-07-07  0.100510  0.037531  0.055820  0.013328  0.042295        0.0   \n",
       "2020-07-08  0.000000 -0.008562  0.040615  0.003338 -0.925277        0.0   \n",
       "2020-07-10       NaN       NaN       NaN       NaN       NaN        NaN   \n",
       "2020-07-10       NaN       NaN       NaN       NaN       NaN        NaN   \n",
       "2020-07-11       NaN       NaN       NaN       NaN       NaN        NaN   \n",
       "\n",
       "            stock splits  target  \\\n",
       "2020-01-01           NaN     NaN   \n",
       "2020-01-02           0.0     1.0   \n",
       "2020-01-02           0.0     1.0   \n",
       "2020-01-03           0.0     1.0   \n",
       "2020-01-03           0.0     1.0   \n",
       "...                  ...     ...   \n",
       "2020-07-07           0.0     1.0   \n",
       "2020-07-08           0.0     1.0   \n",
       "2020-07-10           NaN     NaN   \n",
       "2020-07-10           NaN     NaN   \n",
       "2020-07-11           NaN     NaN   \n",
       "\n",
       "                                                 article_vect  \\\n",
       "2020-01-01  [0.008461366, 0.05105899, 0.07668589, -0.00334...   \n",
       "2020-01-02  [0.016928406, 0.045346987, 0.036655273, 0.0230...   \n",
       "2020-01-02  [0.025714949, 0.035415903, 0.020181393, 0.1182...   \n",
       "2020-01-03  [0.023578098, 0.048830442, 0.018772528, 0.0652...   \n",
       "2020-01-03  [0.043289736, 0.044603832, 0.0043062875, 0.060...   \n",
       "...                                                       ...   \n",
       "2020-07-07                                                NaN   \n",
       "2020-07-08                                                NaN   \n",
       "2020-07-10  [0.024432188, 0.042598385, 0.010058287, 0.0648...   \n",
       "2020-07-10  [-0.008264161, 0.034227833, 0.011855691, 0.008...   \n",
       "2020-07-11  [0.07144946, 0.089999326, 0.018507019, 0.02492...   \n",
       "\n",
       "                                                    name_vect  art_clusters  \\\n",
       "2020-01-01  [0.054052733, 0.06796875, 0.11328125, -0.14697...           1.0   \n",
       "2020-01-02  [0.039111327, 0.005859375, 0.07011719, 0.08488...           0.0   \n",
       "2020-01-02  [0.074672155, -0.050136022, 0.023882184, 0.215...           1.0   \n",
       "2020-01-03  [-0.0076226126, 0.10231527, 0.037326388, 0.106...           1.0   \n",
       "2020-01-03  [0.104162596, 0.062109374, -0.08823242, 0.0466...           0.0   \n",
       "...                                                       ...           ...   \n",
       "2020-07-07                                                NaN           NaN   \n",
       "2020-07-08                                                NaN           NaN   \n",
       "2020-07-10  [0.026672363, 0.01841518, -0.0068751746, 0.132...           1.0   \n",
       "2020-07-10  [0.02183024, 0.07195367, -0.011474609, -0.0324...           1.0   \n",
       "2020-07-11  [0.096069336, 0.021107992, 0.045084637, 0.0702...           0.0   \n",
       "\n",
       "            name_clusters  \n",
       "2020-01-01            0.0  \n",
       "2020-01-02            1.0  \n",
       "2020-01-02            0.0  \n",
       "2020-01-03            0.0  \n",
       "2020-01-03            1.0  \n",
       "...                   ...  \n",
       "2020-07-07            NaN  \n",
       "2020-07-08            NaN  \n",
       "2020-07-10            0.0  \n",
       "2020-07-10            0.0  \n",
       "2020-07-11            1.0  \n",
       "\n",
       "[295 rows x 12 columns]"
      ]
     },
     "execution_count": 138,
     "metadata": {},
     "output_type": "execute_result"
    }
   ],
   "source": [
    "df['2020']"
   ]
  },
  {
   "cell_type": "code",
   "execution_count": 150,
   "metadata": {},
   "outputs": [],
   "source": [
    "df.ffill(inplace=True)\n"
   ]
  },
  {
   "cell_type": "code",
   "execution_count": 151,
   "metadata": {},
   "outputs": [
    {
     "name": "stdout",
     "output_type": "stream",
     "text": [
      "<class 'pandas.core.frame.DataFrame'>\n",
      "DatetimeIndex: 2694 entries, 2010-06-30 to 2020-07-11\n",
      "Data columns (total 10 columns):\n",
      " #   Column         Non-Null Count  Dtype  \n",
      "---  ------         --------------  -----  \n",
      " 0   open           2694 non-null   float64\n",
      " 1   high           2694 non-null   float64\n",
      " 2   low            2694 non-null   float64\n",
      " 3   close          2694 non-null   float64\n",
      " 4   volume         2694 non-null   float64\n",
      " 5   dividends      2694 non-null   float64\n",
      " 6   stock splits   2694 non-null   float64\n",
      " 7   target         2694 non-null   float64\n",
      " 8   art_clusters   312 non-null    float64\n",
      " 9   name_clusters  312 non-null    float64\n",
      "dtypes: float64(10)\n",
      "memory usage: 231.5 KB\n"
     ]
    }
   ],
   "source": [
    "df.info()"
   ]
  },
  {
   "cell_type": "code",
   "execution_count": 152,
   "metadata": {},
   "outputs": [],
   "source": [
    "# the older dates have no article information so now we fill those with 0\n",
    "# we should fill those with the number 2 for 'no_news' \n",
    "df.fillna(2, inplace=True)"
   ]
  },
  {
   "cell_type": "code",
   "execution_count": 153,
   "metadata": {},
   "outputs": [
    {
     "name": "stdout",
     "output_type": "stream",
     "text": [
      "<class 'pandas.core.frame.DataFrame'>\n",
      "DatetimeIndex: 2694 entries, 2010-06-30 to 2020-07-11\n",
      "Data columns (total 10 columns):\n",
      " #   Column         Non-Null Count  Dtype  \n",
      "---  ------         --------------  -----  \n",
      " 0   open           2694 non-null   float64\n",
      " 1   high           2694 non-null   float64\n",
      " 2   low            2694 non-null   float64\n",
      " 3   close          2694 non-null   float64\n",
      " 4   volume         2694 non-null   float64\n",
      " 5   dividends      2694 non-null   float64\n",
      " 6   stock splits   2694 non-null   float64\n",
      " 7   target         2694 non-null   float64\n",
      " 8   art_clusters   2694 non-null   float64\n",
      " 9   name_clusters  2694 non-null   float64\n",
      "dtypes: float64(10)\n",
      "memory usage: 231.5 KB\n"
     ]
    }
   ],
   "source": [
    "df.info()"
   ]
  },
  {
   "cell_type": "markdown",
   "metadata": {},
   "source": [
    "## Modeling\n"
   ]
  },
  {
   "cell_type": "markdown",
   "metadata": {},
   "source": [
    "RNN"
   ]
  },
  {
   "cell_type": "code",
   "execution_count": 87,
   "metadata": {},
   "outputs": [],
   "source": [
    "from sklearn.preprocessing import StandardScaler\n",
    "from sklearn.model_selection import train_test_split\n",
    "from sklearn.metrics import accuracy_score\n",
    "\n",
    "from tensorflow.keras.models import Sequential\n",
    "from tensorflow.keras.layers import Dense, Dropout, GRU\n",
    "from tensorflow.keras.optimizers import Adam\n",
    "from tensorflow.keras.preprocessing.sequence import TimeseriesGenerator\n",
    "\n",
    "import matplotlib.pyplot as plt\n",
    "%matplotlib inline"
   ]
  },
  {
   "cell_type": "code",
   "execution_count": 154,
   "metadata": {},
   "outputs": [],
   "source": [
    "X = df['2020'].drop(columns='target')\n",
    "y = df['2020']['target']"
   ]
  },
  {
   "cell_type": "code",
   "execution_count": 155,
   "metadata": {},
   "outputs": [],
   "source": [
    "X_train, X_test, y_train, y_test = train_test_split(X, y, shuffle=False)"
   ]
  },
  {
   "cell_type": "code",
   "execution_count": 156,
   "metadata": {},
   "outputs": [],
   "source": [
    "# Scale\n",
    "ss = StandardScaler()\n",
    "X_train_sc = ss.fit_transform(X_train)\n",
    "X_test_sc = ss.transform(X_test)"
   ]
  },
  {
   "cell_type": "markdown",
   "metadata": {},
   "source": [
    "Time Generator"
   ]
  },
  {
   "cell_type": "code",
   "execution_count": 157,
   "metadata": {},
   "outputs": [
    {
     "data": {
      "text/plain": [
       "(64, 3, 9)"
      ]
     },
     "execution_count": 157,
     "metadata": {},
     "output_type": "execute_result"
    }
   ],
   "source": [
    "# Create training sequences\n",
    "train_seq = TimeseriesGenerator(X_train_sc, y_train, length=3, batch_size=64)\n",
    "train_seq[0][0].shape"
   ]
  },
  {
   "cell_type": "code",
   "execution_count": 158,
   "metadata": {},
   "outputs": [
    {
     "data": {
      "text/plain": [
       "(64, 3, 9)"
      ]
     },
     "execution_count": 158,
     "metadata": {},
     "output_type": "execute_result"
    }
   ],
   "source": [
    "test_seq = TimeseriesGenerator(X_test_sc, y_test, length=3, batch_size=64)\n",
    "test_seq[0][0].shape"
   ]
  },
  {
   "cell_type": "code",
   "execution_count": 159,
   "metadata": {},
   "outputs": [],
   "source": [
    "# Design RNN\n",
    "model = Sequential()\n",
    "model.add(GRU(8, input_shape=(3,9), return_sequences=True)) \n",
    "model.add(GRU(8, return_sequences=True)) \n",
    "model.add(Dense(8, activation='relu'))\n",
    "model.add(Dense(1, activation='sigmoid'))\n",
    "\n",
    "model.compile(optimizer=Adam(), loss='bce', metrics=['acc'])"
   ]
  },
  {
   "cell_type": "code",
   "execution_count": 160,
   "metadata": {},
   "outputs": [
    {
     "name": "stdout",
     "output_type": "stream",
     "text": [
      "Epoch 1/20\n",
      "4/4 [==============================] - 1s 229ms/step - loss: 0.6846 - acc: 0.6009 - val_loss: 0.6841 - val_acc: 0.5634\n",
      "Epoch 2/20\n",
      "4/4 [==============================] - 0s 22ms/step - loss: 0.6820 - acc: 0.6116 - val_loss: 0.6819 - val_acc: 0.5728\n",
      "Epoch 3/20\n",
      "4/4 [==============================] - 0s 22ms/step - loss: 0.6796 - acc: 0.6208 - val_loss: 0.6796 - val_acc: 0.5915\n",
      "Epoch 4/20\n",
      "4/4 [==============================] - 0s 21ms/step - loss: 0.6773 - acc: 0.6131 - val_loss: 0.6772 - val_acc: 0.5775\n",
      "Epoch 5/20\n",
      "4/4 [==============================] - 0s 18ms/step - loss: 0.6743 - acc: 0.6223 - val_loss: 0.6753 - val_acc: 0.5915\n",
      "Epoch 6/20\n",
      "4/4 [==============================] - 0s 51ms/step - loss: 0.6723 - acc: 0.6422 - val_loss: 0.6733 - val_acc: 0.5822\n",
      "Epoch 7/20\n",
      "4/4 [==============================] - 0s 36ms/step - loss: 0.6698 - acc: 0.6498 - val_loss: 0.6713 - val_acc: 0.5869\n",
      "Epoch 8/20\n",
      "4/4 [==============================] - 0s 44ms/step - loss: 0.6674 - acc: 0.6560 - val_loss: 0.6693 - val_acc: 0.5962\n",
      "Epoch 9/20\n",
      "4/4 [==============================] - 0s 38ms/step - loss: 0.6642 - acc: 0.6606 - val_loss: 0.6677 - val_acc: 0.6197\n",
      "Epoch 10/20\n",
      "4/4 [==============================] - 0s 23ms/step - loss: 0.6619 - acc: 0.6651 - val_loss: 0.6661 - val_acc: 0.6197\n",
      "Epoch 11/20\n",
      "4/4 [==============================] - 0s 22ms/step - loss: 0.6597 - acc: 0.6713 - val_loss: 0.6644 - val_acc: 0.6244\n",
      "Epoch 12/20\n",
      "4/4 [==============================] - 0s 20ms/step - loss: 0.6573 - acc: 0.6728 - val_loss: 0.6627 - val_acc: 0.6150\n",
      "Epoch 13/20\n",
      "4/4 [==============================] - 0s 20ms/step - loss: 0.6546 - acc: 0.6758 - val_loss: 0.6611 - val_acc: 0.6103\n",
      "Epoch 14/20\n",
      "4/4 [==============================] - 0s 21ms/step - loss: 0.6524 - acc: 0.6758 - val_loss: 0.6596 - val_acc: 0.6103\n",
      "Epoch 15/20\n",
      "4/4 [==============================] - 0s 19ms/step - loss: 0.6497 - acc: 0.6743 - val_loss: 0.6583 - val_acc: 0.6103\n",
      "Epoch 16/20\n",
      "4/4 [==============================] - 0s 19ms/step - loss: 0.6482 - acc: 0.6743 - val_loss: 0.6569 - val_acc: 0.6103\n",
      "Epoch 17/20\n",
      "4/4 [==============================] - 0s 20ms/step - loss: 0.6454 - acc: 0.6743 - val_loss: 0.6559 - val_acc: 0.6150\n",
      "Epoch 18/20\n",
      "4/4 [==============================] - 0s 33ms/step - loss: 0.6444 - acc: 0.6743 - val_loss: 0.6547 - val_acc: 0.6150\n",
      "Epoch 19/20\n",
      "4/4 [==============================] - 0s 24ms/step - loss: 0.6414 - acc: 0.6758 - val_loss: 0.6541 - val_acc: 0.6150\n",
      "Epoch 20/20\n",
      "4/4 [==============================] - 0s 19ms/step - loss: 0.6402 - acc: 0.6743 - val_loss: 0.6533 - val_acc: 0.6197\n"
     ]
    }
   ],
   "source": [
    "hist = model.fit(train_seq, epochs=20, validation_data=test_seq)"
   ]
  },
  {
   "cell_type": "code",
   "execution_count": 161,
   "metadata": {},
   "outputs": [],
   "source": [
    "# Save the model to a HDF5 file\n",
    "model.save('./pickle_jar/model_1.h5')"
   ]
  },
  {
   "cell_type": "code",
   "execution_count": 131,
   "metadata": {},
   "outputs": [],
   "source": [
    "del model\n",
    "model = load_model('./pickle_jar/model_1.h5')"
   ]
  },
  {
   "cell_type": "code",
   "execution_count": null,
   "metadata": {},
   "outputs": [],
   "source": [
    "X_new = X_test.tail()\n",
    "print(X_test.shape)\n",
    "print(X_new.shape)\n",
    "X_new_sc = ss.transform(X_new)\n",
    "# X_new_sc = X_new_sc.reshape(-1,3,8)\n",
    "y_dummy = np.zeros((X_new_sc.shape[0], ))\n",
    "X_new_sc\n",
    "new_test_seq = TimeseriesGenerator(X_new_sc\n",
    "                                   , y_dummy\n",
    "                                   , length=3\n",
    "                                   , batch_size=64)"
   ]
  },
  {
   "cell_type": "code",
   "execution_count": null,
   "metadata": {},
   "outputs": [],
   "source": [
    "new_test_seq[0][0].shape"
   ]
  },
  {
   "cell_type": "code",
   "execution_count": null,
   "metadata": {},
   "outputs": [],
   "source": [
    "answer = model.predict_classes(new_test_seq)\n"
   ]
  },
  {
   "cell_type": "code",
   "execution_count": null,
   "metadata": {},
   "outputs": [],
   "source": []
  },
  {
   "cell_type": "code",
   "execution_count": null,
   "metadata": {},
   "outputs": [],
   "source": []
  },
  {
   "cell_type": "code",
   "execution_count": null,
   "metadata": {},
   "outputs": [],
   "source": []
  },
  {
   "cell_type": "markdown",
   "metadata": {},
   "source": [
    "Baseline Model"
   ]
  },
  {
   "cell_type": "code",
   "execution_count": 164,
   "metadata": {},
   "outputs": [],
   "source": [
    "Xb = stocks.drop(columns='target')\n",
    "yb = stocks['target']\n",
    "Xb_train, Xb_test, yb_train, yb_test = train_test_split(Xb, yb, shuffle=False)\n",
    "ss = StandardScaler()\n",
    "Xb_train_sc = ss.fit_transform(Xb_train)\n",
    "Xb_test_sc = ss.transform(Xb_test)"
   ]
  },
  {
   "cell_type": "code",
   "execution_count": 169,
   "metadata": {},
   "outputs": [
    {
     "name": "stdout",
     "output_type": "stream",
     "text": [
      "train shape is (64, 3, 7)\n",
      "test shape is (64, 3, 7)\n"
     ]
    }
   ],
   "source": [
    "trainb_seq = TimeseriesGenerator(Xb_train_sc, yb_train, length=3, batch_size=64)\n",
    "print(f'train shape is {trainb_seq[0][0].shape}')\n",
    "testb_seq = TimeseriesGenerator(Xb_test_sc, yb_test, length=3, batch_size=64)\n",
    "print(f'test shape is {testb_seq[0][0].shape}')"
   ]
  },
  {
   "cell_type": "code",
   "execution_count": 170,
   "metadata": {},
   "outputs": [],
   "source": [
    "base = Sequential()\n",
    "base.add(GRU(8, input_shape=(3,7), return_sequences=True)) \n",
    "base.add(GRU(8, return_sequences=True)) \n",
    "base.add(Dense(8, activation='relu'))\n",
    "base.add(Dense(1, activation='sigmoid'))\n",
    "\n",
    "base.compile(optimizer=Adam(), loss='bce', metrics=['acc'])"
   ]
  },
  {
   "cell_type": "code",
   "execution_count": 171,
   "metadata": {},
   "outputs": [
    {
     "name": "stdout",
     "output_type": "stream",
     "text": [
      "Epoch 1/20\n",
      "30/30 [==============================] - 1s 35ms/step - loss: 0.6928 - acc: 0.5204 - val_loss: 0.6926 - val_acc: 0.5080\n",
      "Epoch 2/20\n",
      "30/30 [==============================] - 0s 10ms/step - loss: 0.6923 - acc: 0.5188 - val_loss: 0.6926 - val_acc: 0.5058\n",
      "Epoch 3/20\n",
      "30/30 [==============================] - 0s 12ms/step - loss: 0.6921 - acc: 0.5176 - val_loss: 0.6926 - val_acc: 0.5096\n",
      "Epoch 4/20\n",
      "30/30 [==============================] - 0s 11ms/step - loss: 0.6921 - acc: 0.5160 - val_loss: 0.6927 - val_acc: 0.5101\n",
      "Epoch 5/20\n",
      "30/30 [==============================] - 0s 9ms/step - loss: 0.6919 - acc: 0.5204 - val_loss: 0.6928 - val_acc: 0.5064\n",
      "Epoch 6/20\n",
      "30/30 [==============================] - 0s 9ms/step - loss: 0.6918 - acc: 0.5197 - val_loss: 0.6928 - val_acc: 0.5080\n",
      "Epoch 7/20\n",
      "30/30 [==============================] - 0s 11ms/step - loss: 0.6915 - acc: 0.5197 - val_loss: 0.6932 - val_acc: 0.5101\n",
      "Epoch 8/20\n",
      "30/30 [==============================] - 0s 9ms/step - loss: 0.6918 - acc: 0.5199 - val_loss: 0.6930 - val_acc: 0.5080\n",
      "Epoch 9/20\n",
      "30/30 [==============================] - 0s 10ms/step - loss: 0.6915 - acc: 0.5239 - val_loss: 0.6935 - val_acc: 0.5069\n",
      "Epoch 10/20\n",
      "30/30 [==============================] - 0s 11ms/step - loss: 0.6914 - acc: 0.5223 - val_loss: 0.6931 - val_acc: 0.5080\n",
      "Epoch 11/20\n",
      "30/30 [==============================] - 0s 9ms/step - loss: 0.6916 - acc: 0.5250 - val_loss: 0.6926 - val_acc: 0.5085\n",
      "Epoch 12/20\n",
      "30/30 [==============================] - 0s 9ms/step - loss: 0.6911 - acc: 0.5234 - val_loss: 0.6930 - val_acc: 0.5085\n",
      "Epoch 13/20\n",
      "30/30 [==============================] - 0s 9ms/step - loss: 0.6911 - acc: 0.5229 - val_loss: 0.6934 - val_acc: 0.5106\n",
      "Epoch 14/20\n",
      "30/30 [==============================] - 0s 9ms/step - loss: 0.6910 - acc: 0.5274 - val_loss: 0.6929 - val_acc: 0.5080\n",
      "Epoch 15/20\n",
      "30/30 [==============================] - 0s 9ms/step - loss: 0.6906 - acc: 0.5283 - val_loss: 0.6931 - val_acc: 0.5053\n",
      "Epoch 16/20\n",
      "30/30 [==============================] - 0s 10ms/step - loss: 0.6905 - acc: 0.5246 - val_loss: 0.6933 - val_acc: 0.5064\n",
      "Epoch 17/20\n",
      "30/30 [==============================] - 0s 9ms/step - loss: 0.6903 - acc: 0.5324 - val_loss: 0.6933 - val_acc: 0.5069\n",
      "Epoch 18/20\n",
      "30/30 [==============================] - 0s 9ms/step - loss: 0.6901 - acc: 0.5274 - val_loss: 0.6934 - val_acc: 0.5037\n",
      "Epoch 19/20\n",
      "30/30 [==============================] - 0s 9ms/step - loss: 0.6900 - acc: 0.5281 - val_loss: 0.6934 - val_acc: 0.5048\n",
      "Epoch 20/20\n",
      "30/30 [==============================] - 0s 10ms/step - loss: 0.6898 - acc: 0.5340 - val_loss: 0.6934 - val_acc: 0.5021\n"
     ]
    }
   ],
   "source": [
    "histb = base.fit(trainb_seq, epochs=20, validation_data=testb_seq)"
   ]
  }
 ],
 "metadata": {
  "kernelspec": {
   "display_name": "Python 3",
   "language": "python",
   "name": "python3"
  },
  "language_info": {
   "codemirror_mode": {
    "name": "ipython",
    "version": 3
   },
   "file_extension": ".py",
   "mimetype": "text/x-python",
   "name": "python",
   "nbconvert_exporter": "python",
   "pygments_lexer": "ipython3",
   "version": "3.7.7"
  }
 },
 "nbformat": 4,
 "nbformat_minor": 4
}
