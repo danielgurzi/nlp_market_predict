{
 "cells": [
  {
   "cell_type": "code",
   "execution_count": 25,
   "metadata": {},
   "outputs": [],
   "source": [
    "import pandas as pd\n",
    "import numpy as np\n",
    "from datetime import date, timedelta, datetime\n",
    "from gensim.models import Word2Vec, KeyedVectors, Doc2Vec\n",
    "import string\n",
    "import pickle\n",
    "\n",
    "from sklearn.datasets import make_blobs\n",
    "from sklearn.cluster import KMeans\n",
    "from sklearn import cluster, metrics\n",
    "from nltk.cluster import KMeansClusterer\n",
    "import nltk\n",
    "from sklearn.preprocessing import StandardScaler\n",
    "from scipy.spatial.distance import cdist \n",
    "\n",
    "import seaborn as sns\n",
    "import matplotlib.pyplot as plt\n",
    "import matplotlib\n",
    "from sklearn.manifold import TSNE\n",
    "\n",
    "matplotlib.style.use('ggplot')"
   ]
  },
  {
   "cell_type": "code",
   "execution_count": 5,
   "metadata": {},
   "outputs": [],
   "source": [
    "# import google's word2vec located: https://drive.google.com/file/d/0B7XkCwpI5KDYNlNUTTlSS21pQmM/edit?usp=sharing\n",
    "w2v_model = KeyedVectors.load_word2vec_format('../../../Downloads/GoogleNews-vectors-negative300.bin', binary=True)  "
   ]
  },
  {
   "cell_type": "code",
   "execution_count": 6,
   "metadata": {},
   "outputs": [],
   "source": [
    "ticker = 'TSLA'"
   ]
  },
  {
   "cell_type": "code",
   "execution_count": 8,
   "metadata": {},
   "outputs": [],
   "source": [
    "df = pd.read_csv(f'../data/{ticker}_articles.csv')"
   ]
  },
  {
   "cell_type": "code",
   "execution_count": 9,
   "metadata": {},
   "outputs": [],
   "source": [
    "def clean2vect(articles):\n",
    "    new_list = []\n",
    "    for a in articles:\n",
    "        new_list.append(a.replace(',','').translate(string.punctuation))\n",
    "\n",
    "    clean_articles = [word.split() for word in new_list]\n",
    "\n",
    "    vects = []\n",
    "\n",
    "    for a in clean_articles:\n",
    "        vector = []\n",
    "        for word in a:\n",
    "            try:\n",
    "                vector.append(w2v_model[word])\n",
    "            except:\n",
    "                continue\n",
    "        try: \n",
    "            vects.append(sum(vector)/len(vector))\n",
    "        except:\n",
    "            vects.append(1)\n",
    "    return vects"
   ]
  },
  {
   "cell_type": "markdown",
   "metadata": {},
   "source": [
    "#### *NOTE Do we need to scale vectors?"
   ]
  },
  {
   "cell_type": "code",
   "execution_count": 10,
   "metadata": {},
   "outputs": [],
   "source": [
    "df['article_vect'] = clean2vect(df['article'])\n",
    "df['name_vect'] = clean2vect(df['name'])\n",
    "\n",
    "# df['comments'] = clean2vect(df['comments'])\n",
    "# df['comments_qty'] = [int(i.split(\" \")[0]) for i in df['comments_qty']]"
   ]
  },
  {
   "cell_type": "markdown",
   "metadata": {},
   "source": [
    "### Set Article DataFrame to Date Index to match with stock info"
   ]
  },
  {
   "cell_type": "code",
   "execution_count": 11,
   "metadata": {},
   "outputs": [],
   "source": [
    "def art_date(df):\n",
    "    dates = []\n",
    "    for i in df.date:\n",
    "        if \"Today\" in i:\n",
    "            dates.append('2020-' + str(i.replace(i, date.today().strftime(\"%m-%d\"))))\n",
    "        elif 'Sat, Feb. 29' in i:\n",
    "            dates.append('2020-03-01')\n",
    "        elif \"Yesterday\" in i:\n",
    "            dates.append('2020-' + str(i.replace(i, (date.today() - timedelta(days = 1)).strftime(\"%m-%d\"))))\n",
    "        else:\n",
    "            try: \n",
    "                dates.append('2020-' + str(datetime.strptime(i,'%a, %b. %d').strftime('%m-%d')))\n",
    "            except:\n",
    "                try:\n",
    "                    dates.append('2020-' + str(datetime.strptime(i,'%a, %b %d').strftime('%m-%d')))\n",
    "                except:\n",
    "                    dates.append(str(datetime.strptime(i,'%a, %b. %d, %Y').strftime('%Y-%m-%d')))\n",
    "#         set dataframe to new dates columns as index\n",
    "    df.date = dates\n",
    "    df.date = pd.to_datetime(df['date'])\n",
    "    df.set_index('date', inplace=True)\n",
    "    df.sort_index(inplace=True)\n",
    "    return df"
   ]
  },
  {
   "cell_type": "code",
   "execution_count": 12,
   "metadata": {},
   "outputs": [],
   "source": [
    "df = art_date(df)"
   ]
  },
  {
   "cell_type": "markdown",
   "metadata": {},
   "source": [
    "## KMEANS"
   ]
  },
  {
   "cell_type": "code",
   "execution_count": 26,
   "metadata": {},
   "outputs": [
    {
     "name": "stdout",
     "output_type": "stream",
     "text": [
      "0.120440915\n",
      "0.05910767\n"
     ]
    }
   ],
   "source": [
    "\n",
    "X = df['article_vect']\n",
    "\n",
    "art_kclusterer = KMeansClusterer(num_means=2, normalise=False, distance=nltk.cluster.util.euclidean_distance, \n",
    "                             repeats=40,avoid_empty_clusters=True)\n",
    "df['art_clusters'] = art_kclusterer.cluster(X, assign_clusters=True)\n",
    "\n",
    "X2 = df['name_vect']\n",
    "name_kclusterer = KMeansClusterer(num_means=2, normalise=True, distance=nltk.cluster.util.euclidean_distance, \n",
    "                             repeats=40,avoid_empty_clusters=True)\n",
    "df['name_clusters'] = name_kclusterer.cluster(X2, assign_clusters=True)\n",
    "\n",
    "article_silhouette = metrics.silhouette_score([a for a in df['article_vect']], df['art_clusters'], metric='euclidean')\n",
    "name_silhouette = metrics.silhouette_score([a for a in df['name_vect']], df['name_clusters'], metric='euclidean')\n",
    "\n",
    "print(article_silhouette)\n",
    "print(name_silhouette)"
   ]
  },
  {
   "cell_type": "code",
   "execution_count": 335,
   "metadata": {},
   "outputs": [],
   "source": [
    "# pickle the clusterer files\n",
    "with open('./pickle_jar/art_clusterer_pkl', 'wb') as acp:\n",
    "    pickle.dump(art_kclusterer, acp)\n",
    "with open('./pickle_jar/name_clusterer_pkl', 'wb') as ncp:\n",
    "    pickle.dump(name_kclusterer, ncp)\n"
   ]
  },
  {
   "cell_type": "code",
   "execution_count": 27,
   "metadata": {},
   "outputs": [
    {
     "ename": "NameError",
     "evalue": "name 'kmeanModel' is not defined",
     "output_type": "error",
     "traceback": [
      "\u001b[0;31m---------------------------------------------------------------------------\u001b[0m",
      "\u001b[0;31mNameError\u001b[0m                                 Traceback (most recent call last)",
      "\u001b[0;32m<ipython-input-27-c32bf523d0bd>\u001b[0m in \u001b[0;36m<module>\u001b[0;34m\u001b[0m\n\u001b[1;32m     13\u001b[0m     \u001b[0mkmeanModel2\u001b[0m\u001b[0;34m.\u001b[0m\u001b[0mfit\u001b[0m\u001b[0;34m(\u001b[0m\u001b[0mX2_elbow\u001b[0m\u001b[0;34m)\u001b[0m\u001b[0;34m\u001b[0m\u001b[0;34m\u001b[0m\u001b[0m\n\u001b[1;32m     14\u001b[0m \u001b[0;34m\u001b[0m\u001b[0m\n\u001b[0;32m---> 15\u001b[0;31m     distortions2.append(sum(np.min(cdist(X2_elbow, kmeanModel.cluster_centers_, \n\u001b[0m\u001b[1;32m     16\u001b[0m                       'euclidean'),axis=1)) / len(X2_elbow))\n\u001b[1;32m     17\u001b[0m     \u001b[0minertias2\u001b[0m\u001b[0;34m.\u001b[0m\u001b[0mappend\u001b[0m\u001b[0;34m(\u001b[0m\u001b[0mkmeanModel\u001b[0m\u001b[0;34m.\u001b[0m\u001b[0minertia_\u001b[0m\u001b[0;34m)\u001b[0m\u001b[0;34m\u001b[0m\u001b[0;34m\u001b[0m\u001b[0m\n",
      "\u001b[0;31mNameError\u001b[0m: name 'kmeanModel' is not defined"
     ]
    }
   ],
   "source": [
    "# cell to find the elbow for KMEANS K value for the name\n",
    "X2_elbow = [a for a in df['name_vect']]\n",
    "\n",
    "distortions2 = [] \n",
    "inertias2 = [] \n",
    "mapping1b = {} \n",
    "mapping2b = {} \n",
    "K2 = range(1,10) \n",
    "  \n",
    "for k in K2: \n",
    "    #Building and fitting the model \n",
    "    kmeanModel2 = KMeans(n_clusters=k).fit(X2_elbow) \n",
    "    kmeanModel2.fit(X2_elbow)     \n",
    "      \n",
    "    distortions2.append(sum(np.min(cdist(X2_elbow, kmeanModel.cluster_centers_, \n",
    "                      'euclidean'),axis=1)) / len(X2_elbow))\n",
    "    inertias2.append(kmeanModel.inertia_) \n",
    "  \n",
    "    mapping1b[k] = sum(np.min(cdist(X2_elbow, kmeanModel.cluster_centers_, \n",
    "                 'euclidean'),axis=1)) / len(X2_elbow)\n",
    "    mapping2b[k] = kmeanModel.inertia_ \n",
    "for key,val in mapping1b.items(): \n",
    "    print(str(key)+' : '+str(val)) "
   ]
  },
  {
   "cell_type": "code",
   "execution_count": 28,
   "metadata": {},
   "outputs": [
    {
     "ename": "NameError",
     "evalue": "name 'K' is not defined",
     "output_type": "error",
     "traceback": [
      "\u001b[0;31m---------------------------------------------------------------------------\u001b[0m",
      "\u001b[0;31mNameError\u001b[0m                                 Traceback (most recent call last)",
      "\u001b[0;32m<ipython-input-28-f10ae8f57464>\u001b[0m in \u001b[0;36m<module>\u001b[0;34m\u001b[0m\n\u001b[0;32m----> 1\u001b[0;31m \u001b[0mplt\u001b[0m\u001b[0;34m.\u001b[0m\u001b[0mplot\u001b[0m\u001b[0;34m(\u001b[0m\u001b[0mK\u001b[0m\u001b[0;34m,\u001b[0m \u001b[0mdistortions\u001b[0m\u001b[0;34m,\u001b[0m \u001b[0;34m'bx-'\u001b[0m\u001b[0;34m)\u001b[0m\u001b[0;34m\u001b[0m\u001b[0;34m\u001b[0m\u001b[0m\n\u001b[0m\u001b[1;32m      2\u001b[0m \u001b[0mplt\u001b[0m\u001b[0;34m.\u001b[0m\u001b[0mxlabel\u001b[0m\u001b[0;34m(\u001b[0m\u001b[0;34m'Values of K'\u001b[0m\u001b[0;34m)\u001b[0m\u001b[0;34m\u001b[0m\u001b[0;34m\u001b[0m\u001b[0m\n\u001b[1;32m      3\u001b[0m \u001b[0mplt\u001b[0m\u001b[0;34m.\u001b[0m\u001b[0mylabel\u001b[0m\u001b[0;34m(\u001b[0m\u001b[0;34m'Distortion'\u001b[0m\u001b[0;34m)\u001b[0m\u001b[0;34m\u001b[0m\u001b[0;34m\u001b[0m\u001b[0m\n\u001b[1;32m      4\u001b[0m \u001b[0mplt\u001b[0m\u001b[0;34m.\u001b[0m\u001b[0mtitle\u001b[0m\u001b[0;34m(\u001b[0m\u001b[0;34m'The Elbow Method using Distortion'\u001b[0m\u001b[0;34m)\u001b[0m\u001b[0;34m\u001b[0m\u001b[0;34m\u001b[0m\u001b[0m\n\u001b[1;32m      5\u001b[0m \u001b[0mplt\u001b[0m\u001b[0;34m.\u001b[0m\u001b[0mshow\u001b[0m\u001b[0;34m(\u001b[0m\u001b[0;34m)\u001b[0m\u001b[0;34m\u001b[0m\u001b[0;34m\u001b[0m\u001b[0m\n",
      "\u001b[0;31mNameError\u001b[0m: name 'K' is not defined"
     ]
    }
   ],
   "source": [
    "plt.plot(K, distortions, 'bx-') \n",
    "plt.xlabel('Values of K') \n",
    "plt.ylabel('Distortion') \n",
    "plt.title('The Elbow Method using Distortion') \n",
    "plt.show() "
   ]
  },
  {
   "cell_type": "code",
   "execution_count": 29,
   "metadata": {},
   "outputs": [
    {
     "name": "stdout",
     "output_type": "stream",
     "text": [
      "Cluster id labels for inputted data\n",
      "[1 0 1 1 0 0 1 1 1 0 0 1 1 1 1 1 0 1 1 0 1 0 0 0 0 0 0 1 1 0 1 1 1 1 1 0 1\n",
      " 1 0 0 0 1 1 1 1 1 1 1 1 1 0 1 0 0 1 1 0 0 1 0 1 1 1 1 1 1 1 1 1 1 1 0 1 1\n",
      " 0 1 1 0 1 1 1 1 1 1 0 0 1 1 1 1 0 1 1 0 0 1 1 1 0 1 0 1 1 0 0 1 1 0 1 1 1\n",
      " 1 0 1 1 0 1 1 1 1 0 1 1 1 1 1 1 0 1 1 0 1 0 1 1 1 1 0 1 1 1 1 0 1 1 1 1 1\n",
      " 1 0 0 1 1 1 1 1 0 1 1 1 1 1 1 0 0 1 1 0 1 1 1 1 0 0 1 1 1 1 1 1 1 0 1 1 0\n",
      " 1 0 1 1 1 0 0 1 0 1 1 0 1 0 1 1 1 1 1 1 1 1 1 1 1 1 0 0 1 1 0 1 0 1 1 1 1\n",
      " 1 0 0 1 0 1 0 0 1 1 1 0 1 1 0 1 0 0 1 0 0 1 1 1 1 1 0 0 1 0 1 1 0 1 1 0 0\n",
      " 1 1 1 1 1 1 1 1 1 1 1 0 0 1 1 1 1 1 1 1 0 1 1 1 1 0 1 1 1 1 1 1 1 1 0]\n",
      "Score (Opposite of the value of X on the K-means objective which is Sum of distances of samples to their closest cluster center):\n",
      "-40.346328321098554\n",
      "Silhouette_score: \n",
      "0.12639076\n"
     ]
    }
   ],
   "source": [
    "X = [a for a in df['article_vect']]\n",
    "\n",
    "kmeans = cluster.KMeans(n_clusters=2)\n",
    "kmeans.fit(X)\n",
    " \n",
    "labels = kmeans.labels_\n",
    "centroids = kmeans.cluster_centers_\n",
    " \n",
    "print (\"Cluster id labels for inputted data\")\n",
    "print (labels)\n",
    "# print (\"Centroids data\")\n",
    "# print (centroids)\n",
    " \n",
    "print (\"Score (Opposite of the value of X on the K-means objective which is Sum of distances of samples to their closest cluster center):\")\n",
    "print (kmeans.score(X))\n",
    " \n",
    "silhouette_score = metrics.silhouette_score(X, labels, metric='euclidean')\n",
    " \n",
    "print (\"Silhouette_score: \")\n",
    "print (silhouette_score)"
   ]
  },
  {
   "cell_type": "code",
   "execution_count": 36,
   "metadata": {},
   "outputs": [
    {
     "data": {
      "image/png": "[encoded data removed]",
      "text/plain": [
       "<Figure size 576x576 with 1 Axes>"
      ]
     },
     "metadata": {},
     "output_type": "display_data"
    }
   ],
   "source": [
    "# from https://towardsdatascience.com/understanding-word2vec-embedding-in-practice-3e9b8985953\n",
    "\n",
    "def tsne_plot(model):\n",
    "    \"Create TSNE model and plot it\"\n",
    "    labels = []\n",
    "    tokens = []\n",
    "\n",
    "    for ind, link in df.iterrows():\n",
    "        tokens.append(link[4])\n",
    "        labels.append(ind)\n",
    "    \n",
    "    tsne_model = TSNE(perplexity=10, n_components=2, init='pca', n_iter=2500, random_state=42)\n",
    "    new_values = tsne_model.fit_transform(tokens)\n",
    "\n",
    "    x = []\n",
    "    y = []\n",
    "    for value in new_values:\n",
    "        x.append(value[0])\n",
    "        y.append(value[1])\n",
    "        \n",
    "    plt.figure(figsize=(8, 8)) \n",
    "    for i in range(len(x)):\n",
    "        plt.scatter(x[i],y[i])\n",
    "\n",
    "    plt.show()\n",
    "   \n",
    "tsne_plot(w2v_model)"
   ]
  },
  {
   "cell_type": "code",
   "execution_count": null,
   "metadata": {},
   "outputs": [],
   "source": []
  },
  {
   "cell_type": "code",
   "execution_count": 336,
   "metadata": {},
   "outputs": [],
   "source": [
    "# save article dataframe to a pickle file\n",
    "with open('./pickle_jar/articlePickle', 'wb') as fp:\n",
    "    pickle.dump(df, fp)\n"
   ]
  },
  {
   "cell_type": "code",
   "execution_count": null,
   "metadata": {},
   "outputs": [],
   "source": []
  },
  {
   "cell_type": "code",
   "execution_count": null,
   "metadata": {},
   "outputs": [],
   "source": []
  },
  {
   "cell_type": "code",
   "execution_count": null,
   "metadata": {},
   "outputs": [],
   "source": []
  },
  {
   "cell_type": "markdown",
   "metadata": {},
   "source": [
    "## DOC2VEC"
   ]
  },
  {
   "cell_type": "code",
   "execution_count": null,
   "metadata": {},
   "outputs": [],
   "source": []
  }
 ],
 "metadata": {
  "kernelspec": {
   "display_name": "Python 3",
   "language": "python",
   "name": "python3"
  },
  "language_info": {
   "codemirror_mode": {
    "name": "ipython",
    "version": 3
   },
   "file_extension": ".py",
   "mimetype": "text/x-python",
   "name": "python",
   "nbconvert_exporter": "python",
   "pygments_lexer": "ipython3",
   "version": "3.7.7"
  }
 },
 "nbformat": 4,
 "nbformat_minor": 4
}
