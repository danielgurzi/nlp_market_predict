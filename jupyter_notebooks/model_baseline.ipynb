{
 "cells": [
  {
   "cell_type": "code",
   "execution_count": 1,
   "metadata": {},
   "outputs": [],
   "source": [
    "import pandas as pd\n",
    "import numpy as np\n",
    "import pickle\n",
    "from sklearn.preprocessing import StandardScaler\n",
    "from sklearn.model_selection import train_test_split\n",
    "from sklearn.metrics import accuracy_score\n",
    "import yfinance as yf\n",
    "\n",
    "from tensorflow.keras.models import Sequential, load_model\n",
    "from tensorflow.keras.layers import Dense, Dropout, GRU\n",
    "from tensorflow.keras.optimizers import Adam\n",
    "from tensorflow.keras.preprocessing.sequence import TimeseriesGenerator\n"
   ]
  },
  {
   "cell_type": "code",
   "execution_count": 17,
   "metadata": {},
   "outputs": [],
   "source": [
    "ticker = 'AAPL'"
   ]
  },
  {
   "cell_type": "code",
   "execution_count": 23,
   "metadata": {},
   "outputs": [
    {
     "name": "stdout",
     "output_type": "stream",
     "text": [
      "train shape is (64, 3, 7)\n",
      "test shape is (60, 3, 7)\n"
     ]
    }
   ],
   "source": [
    "stocks = yf.Ticker(ticker).history(period='1y')\n",
    "stocks = stocks.pct_change()\n",
    "stocks[['Dividends','Stock Splits']] = stocks[['Dividends','Stock Splits']].fillna(0)\n",
    "stocks.dropna(inplace=True)\n",
    "stocks['target'] = (stocks['Close'] >= 0).astype(int)\n",
    "\n",
    "Xb = stocks.drop(columns='target')\n",
    "yb = stocks['target']\n",
    "Xb_train, Xb_test, yb_train, yb_test = train_test_split(Xb, yb, shuffle=False)\n",
    "\n",
    "ss = StandardScaler()\n",
    "Xb_train_sc = ss.fit_transform(Xb_train)\n",
    "Xb_test_sc = ss.transform(Xb_test)\n",
    "\n",
    "trainb_seq = TimeseriesGenerator(Xb_train_sc, yb_train, length=3, batch_size=64)\n",
    "print(f'train shape is {trainb_seq[0][0].shape}')\n",
    "testb_seq = TimeseriesGenerator(Xb_test_sc, yb_test, length=3, batch_size=64)\n",
    "print(f'test shape is {testb_seq[0][0].shape}')"
   ]
  },
  {
   "cell_type": "code",
   "execution_count": 24,
   "metadata": {},
   "outputs": [],
   "source": [
    "base = Sequential()\n",
    "base.add(GRU(8, input_shape=(3,7), return_sequences=True)) \n",
    "base.add(GRU(8, return_sequences=True)) \n",
    "base.add(Dense(8, activation='relu'))\n",
    "base.add(Dense(1, activation='sigmoid'))\n",
    "\n",
    "base.compile(optimizer=Adam(), loss='bce', metrics=['acc'])"
   ]
  },
  {
   "cell_type": "code",
   "execution_count": 25,
   "metadata": {},
   "outputs": [
    {
     "name": "stdout",
     "output_type": "stream",
     "text": [
      "Epoch 1/20\n",
      "3/3 [==============================] - 1s 296ms/step - loss: 0.6913 - acc: 0.5305 - val_loss: 0.6907 - val_acc: 0.5444\n",
      "Epoch 2/20\n",
      "3/3 [==============================] - 0s 25ms/step - loss: 0.6903 - acc: 0.5466 - val_loss: 0.6900 - val_acc: 0.5389\n",
      "Epoch 3/20\n",
      "3/3 [==============================] - 0s 27ms/step - loss: 0.6895 - acc: 0.5681 - val_loss: 0.6893 - val_acc: 0.5389\n",
      "Epoch 4/20\n",
      "3/3 [==============================] - 0s 24ms/step - loss: 0.6886 - acc: 0.5681 - val_loss: 0.6886 - val_acc: 0.5556\n",
      "Epoch 5/20\n",
      "3/3 [==============================] - 0s 26ms/step - loss: 0.6877 - acc: 0.5681 - val_loss: 0.6879 - val_acc: 0.5556\n",
      "Epoch 6/20\n",
      "3/3 [==============================] - 0s 24ms/step - loss: 0.6868 - acc: 0.5681 - val_loss: 0.6872 - val_acc: 0.5611\n",
      "Epoch 7/20\n",
      "3/3 [==============================] - 0s 26ms/step - loss: 0.6858 - acc: 0.5663 - val_loss: 0.6866 - val_acc: 0.5611\n",
      "Epoch 8/20\n",
      "3/3 [==============================] - 0s 24ms/step - loss: 0.6849 - acc: 0.5663 - val_loss: 0.6862 - val_acc: 0.5611\n",
      "Epoch 9/20\n",
      "3/3 [==============================] - 0s 23ms/step - loss: 0.6843 - acc: 0.5663 - val_loss: 0.6858 - val_acc: 0.5611\n",
      "Epoch 10/20\n",
      "3/3 [==============================] - 0s 26ms/step - loss: 0.6835 - acc: 0.5663 - val_loss: 0.6854 - val_acc: 0.5611\n",
      "Epoch 11/20\n",
      "3/3 [==============================] - 0s 25ms/step - loss: 0.6829 - acc: 0.5663 - val_loss: 0.6851 - val_acc: 0.5611\n",
      "Epoch 12/20\n",
      "3/3 [==============================] - 0s 26ms/step - loss: 0.6824 - acc: 0.5663 - val_loss: 0.6847 - val_acc: 0.5611\n",
      "Epoch 13/20\n",
      "3/3 [==============================] - 0s 25ms/step - loss: 0.6818 - acc: 0.5681 - val_loss: 0.6845 - val_acc: 0.5611\n",
      "Epoch 14/20\n",
      "3/3 [==============================] - 0s 27ms/step - loss: 0.6812 - acc: 0.5681 - val_loss: 0.6843 - val_acc: 0.5611\n",
      "Epoch 15/20\n",
      "3/3 [==============================] - 0s 25ms/step - loss: 0.6806 - acc: 0.5681 - val_loss: 0.6840 - val_acc: 0.5611\n",
      "Epoch 16/20\n",
      "3/3 [==============================] - 0s 25ms/step - loss: 0.6801 - acc: 0.5681 - val_loss: 0.6838 - val_acc: 0.5611\n",
      "Epoch 17/20\n",
      "3/3 [==============================] - 0s 27ms/step - loss: 0.6796 - acc: 0.5681 - val_loss: 0.6836 - val_acc: 0.5611\n",
      "Epoch 18/20\n",
      "3/3 [==============================] - 0s 25ms/step - loss: 0.6790 - acc: 0.5681 - val_loss: 0.6833 - val_acc: 0.5611\n",
      "Epoch 19/20\n",
      "3/3 [==============================] - 0s 25ms/step - loss: 0.6785 - acc: 0.5681 - val_loss: 0.6831 - val_acc: 0.5611\n",
      "Epoch 20/20\n",
      "3/3 [==============================] - 0s 27ms/step - loss: 0.6781 - acc: 0.5699 - val_loss: 0.6829 - val_acc: 0.5611\n"
     ]
    }
   ],
   "source": [
    "histb = base.fit(trainb_seq, epochs=20, validation_data=testb_seq)"
   ]
  }
 ],
 "metadata": {
  "kernelspec": {
   "display_name": "Python 3",
   "language": "python",
   "name": "python3"
  },
  "language_info": {
   "codemirror_mode": {
    "name": "ipython",
    "version": 3
   },
   "file_extension": ".py",
   "mimetype": "text/x-python",
   "name": "python",
   "nbconvert_exporter": "python",
   "pygments_lexer": "ipython3",
   "version": "3.7.7"
  }
 },
 "nbformat": 4,
 "nbformat_minor": 4
}
